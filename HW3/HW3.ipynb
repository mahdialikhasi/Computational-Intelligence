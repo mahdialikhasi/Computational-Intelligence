{
  "nbformat": 4,
  "nbformat_minor": 0,
  "metadata": {
    "colab": {
      "name": "HW3.ipynb",
      "provenance": [],
      "collapsed_sections": [],
      "toc_visible": true
    },
    "kernelspec": {
      "name": "python3",
      "display_name": "Python 3"
    }
  },
  "cells": [
    {
      "cell_type": "markdown",
      "metadata": {
        "id": "4e74ky-_ZoYD",
        "colab_type": "text"
      },
      "source": [
        "# Inrtoduction\n",
        "\n",
        "In the following project we want to implement a binary classification on surgical dataset.\n",
        "\n",
        "First we save the dataset as a pandas dataframe and analysis it with statistical metrics and removing Nan values.\n",
        "\n",
        "Then we represent and visualize the data via multiple diagrams to get a better understanding of data.\n",
        "\n",
        "Before designing a model, we perform some preprocessing of data such as standardization and normalization.\n",
        "\n",
        "The classification model is designed in two different forms.\n",
        "> 1) using whole data as input of the model\n",
        "\n",
        "> 2) applying some dimension reduction methods (such as PCA) and training the new dimensionaly reduced data as input of the model\n",
        "\n",
        "...\n",
        "\n",
        "Each section is explained in details."
      ]
    },
    {
      "cell_type": "markdown",
      "metadata": {
        "id": "8y0W6fjV6lsX",
        "colab_type": "text"
      },
      "source": [
        "# Importing Nesessary Moduls\n",
        "\n",
        "> pandas: for maintaining and manipulating data.\n",
        "\n",
        "> numpy: for mathematical operations on arrays and tensors\n",
        "\n",
        "> matplotlib and seaborn: for data visualization\n",
        "\n",
        "> io, zipfile and urllib: for catching data from kaggle\n",
        "\n",
        "> tensorflow and keras: for designing classification model and training\n",
        "\n",
        "> scikitlearn: for using data preprocessing and classical ml algoritms"
      ]
    },
    {
      "cell_type": "code",
      "metadata": {
        "id": "2Gswmdh2tsd_",
        "colab_type": "code",
        "colab": {}
      },
      "source": [
        "import pandas as pd\n",
        "import numpy as np\n",
        "import matplotlib.pyplot as plt\n",
        "import seaborn as sns\n",
        "%tensorflow_version 2.x\n",
        "import tensorflow as tf\n",
        "from io import BytesIO\n",
        "from zipfile import ZipFile\n",
        "from urllib.request import urlopen\n",
        "from sklearn.model_selection import train_test_split\n",
        "from sklearn.preprocessing import StandardScaler, Normalizer\n",
        "from sklearn.decomposition import PCA\n",
        "from sklearn.ensemble import RandomForestClassifier\n",
        "from sklearn.metrics import confusion_matrix, accuracy_score, precision_score, recall_score, f1_score, cohen_kappa_score\n",
        "from tensorflow.python.keras.layers import Dense, Dropout\n",
        "from tensorflow.python.keras.models import Model, Sequential\n",
        "from tensorflow.python.keras.optimizers import Adam, SGD\n",
        "from tensorflow.python.keras import backend as K\n",
        "from tensorflow.python.keras import losses, regularizers\n",
        "from tensorflow.python.keras.initializers import GlorotUniform\n",
        "import gzip\n",
        "import os\n",
        "\n",
        "tf.compat.v1.disable_eager_execution()"
      ],
      "execution_count": 0,
      "outputs": []
    },
    {
      "cell_type": "markdown",
      "metadata": {
        "id": "zS7h8totqS_w",
        "colab_type": "text"
      },
      "source": [
        "# Catching Databset"
      ]
    },
    {
      "cell_type": "markdown",
      "metadata": {
        "id": "66Y_ETLHqgEn",
        "colab_type": "text"
      },
      "source": [
        "## Downloading Dataset From Kaggle "
      ]
    },
    {
      "cell_type": "markdown",
      "metadata": {
        "id": "Mj9DHSa03rxr",
        "colab_type": "text"
      },
      "source": [
        "Note that this url is a temporary token url and in the case of 404 error you need to update urls"
      ]
    },
    {
      "cell_type": "code",
      "metadata": {
        "id": "Npx4foNZuBlj",
        "colab_type": "code",
        "colab": {}
      },
      "source": [
        "kaggle_url = 'https://www.kaggle.com/omnamahshivai/surgical-dataset-binary-classification'\n",
        "temp_url = 'https://storage.googleapis.com/kaggle-data-sets/54705/104462/bundle/archive.zip?GoogleAccessId=web-data@kaggle-161607.iam.gserviceaccount.com&Expires=1590134883&Signature=I%2FzLNihWbaOfP81OAqGZZEEesSOiUDWXCEHrfagHRaBDFlWmjoy1aABh9ZxMGqJZIOTK0QTDk51588gdVioeiGuWoYpfPehh0dpqnPB51G1B%2FVKAyweuib2NBSVEzNmDl0hMpq6l1JY7PnVoLsg8V6RISwzzYumf4Z0ssULatjr07lcKX19QHu4EWQUbwb2FBqfQKvztaUR0oaz1jL3AbK0KejA%2BHTColnfsy%2BqJmHpz%2Bmc9EINvK7Gnszgb1hRFaiiojAZkrqtkr8MX%2FpKWPxjyoGuM2hf4nVgV%2Flq7ge3yj6%2FSzFVC18DlqG8BB9Z1DawHWIvKKkmfU3X7p3tvYw%3D%3D&response-content-disposition=attachment%3B+filename%3Dsurgical-dataset-binary-classification.zip'\n",
        "resp = urlopen(temp_url)\n",
        "zipfile = ZipFile(BytesIO(resp.read()))"
      ],
      "execution_count": 0,
      "outputs": []
    },
    {
      "cell_type": "markdown",
      "metadata": {
        "id": "SVM4Q72aqrMr",
        "colab_type": "text"
      },
      "source": [
        "## Maintaining Data As A Pandas Dataframe\n",
        "\n",
        "We split data to features and targets.\n",
        "> X: input data (features of samples)\n",
        "\n",
        "> y: output data (targets of samples)"
      ]
    },
    {
      "cell_type": "code",
      "metadata": {
        "id": "U4yNNuykuUSV",
        "colab_type": "code",
        "outputId": "79bf448b-6f2c-4d23-ea74-bd41d899ad3a",
        "colab": {
          "base_uri": "https://localhost:8080/",
          "height": 224
        }
      },
      "source": [
        "dataset = pd.read_csv(zipfile.open(zipfile.namelist()[0]), na_values=\" \")\n",
        "dataset.head()"
      ],
      "execution_count": 4,
      "outputs": [
        {
          "output_type": "execute_result",
          "data": {
            "text/html": [
              "<div>\n",
              "<style scoped>\n",
              "    .dataframe tbody tr th:only-of-type {\n",
              "        vertical-align: middle;\n",
              "    }\n",
              "\n",
              "    .dataframe tbody tr th {\n",
              "        vertical-align: top;\n",
              "    }\n",
              "\n",
              "    .dataframe thead th {\n",
              "        text-align: right;\n",
              "    }\n",
              "</style>\n",
              "<table border=\"1\" class=\"dataframe\">\n",
              "  <thead>\n",
              "    <tr style=\"text-align: right;\">\n",
              "      <th></th>\n",
              "      <th>bmi</th>\n",
              "      <th>Age</th>\n",
              "      <th>asa_status</th>\n",
              "      <th>baseline_cancer</th>\n",
              "      <th>baseline_charlson</th>\n",
              "      <th>baseline_cvd</th>\n",
              "      <th>baseline_dementia</th>\n",
              "      <th>baseline_diabetes</th>\n",
              "      <th>baseline_digestive</th>\n",
              "      <th>baseline_osteoart</th>\n",
              "      <th>baseline_psych</th>\n",
              "      <th>baseline_pulmonary</th>\n",
              "      <th>ahrq_ccs</th>\n",
              "      <th>ccsComplicationRate</th>\n",
              "      <th>ccsMort30Rate</th>\n",
              "      <th>complication_rsi</th>\n",
              "      <th>dow</th>\n",
              "      <th>gender</th>\n",
              "      <th>hour</th>\n",
              "      <th>month</th>\n",
              "      <th>moonphase</th>\n",
              "      <th>mort30</th>\n",
              "      <th>mortality_rsi</th>\n",
              "      <th>race</th>\n",
              "      <th>complication</th>\n",
              "    </tr>\n",
              "  </thead>\n",
              "  <tbody>\n",
              "    <tr>\n",
              "      <th>0</th>\n",
              "      <td>19.31</td>\n",
              "      <td>59.2</td>\n",
              "      <td>1</td>\n",
              "      <td>1</td>\n",
              "      <td>0</td>\n",
              "      <td>0</td>\n",
              "      <td>0</td>\n",
              "      <td>0</td>\n",
              "      <td>0</td>\n",
              "      <td>0</td>\n",
              "      <td>0</td>\n",
              "      <td>0</td>\n",
              "      <td>19</td>\n",
              "      <td>0.183370</td>\n",
              "      <td>0.007424</td>\n",
              "      <td>-0.57</td>\n",
              "      <td>3</td>\n",
              "      <td>0</td>\n",
              "      <td>7.63</td>\n",
              "      <td>6</td>\n",
              "      <td>1</td>\n",
              "      <td>0</td>\n",
              "      <td>-0.43</td>\n",
              "      <td>1</td>\n",
              "      <td>0</td>\n",
              "    </tr>\n",
              "    <tr>\n",
              "      <th>1</th>\n",
              "      <td>18.73</td>\n",
              "      <td>59.1</td>\n",
              "      <td>0</td>\n",
              "      <td>0</td>\n",
              "      <td>0</td>\n",
              "      <td>0</td>\n",
              "      <td>0</td>\n",
              "      <td>0</td>\n",
              "      <td>0</td>\n",
              "      <td>0</td>\n",
              "      <td>0</td>\n",
              "      <td>0</td>\n",
              "      <td>1</td>\n",
              "      <td>0.312029</td>\n",
              "      <td>0.016673</td>\n",
              "      <td>0.21</td>\n",
              "      <td>0</td>\n",
              "      <td>0</td>\n",
              "      <td>12.93</td>\n",
              "      <td>0</td>\n",
              "      <td>1</td>\n",
              "      <td>0</td>\n",
              "      <td>-0.41</td>\n",
              "      <td>1</td>\n",
              "      <td>0</td>\n",
              "    </tr>\n",
              "    <tr>\n",
              "      <th>2</th>\n",
              "      <td>21.85</td>\n",
              "      <td>59.0</td>\n",
              "      <td>0</td>\n",
              "      <td>0</td>\n",
              "      <td>0</td>\n",
              "      <td>0</td>\n",
              "      <td>0</td>\n",
              "      <td>0</td>\n",
              "      <td>0</td>\n",
              "      <td>0</td>\n",
              "      <td>0</td>\n",
              "      <td>0</td>\n",
              "      <td>6</td>\n",
              "      <td>0.150706</td>\n",
              "      <td>0.001962</td>\n",
              "      <td>0.00</td>\n",
              "      <td>2</td>\n",
              "      <td>0</td>\n",
              "      <td>7.68</td>\n",
              "      <td>5</td>\n",
              "      <td>3</td>\n",
              "      <td>0</td>\n",
              "      <td>0.08</td>\n",
              "      <td>1</td>\n",
              "      <td>0</td>\n",
              "    </tr>\n",
              "    <tr>\n",
              "      <th>3</th>\n",
              "      <td>18.49</td>\n",
              "      <td>59.0</td>\n",
              "      <td>1</td>\n",
              "      <td>0</td>\n",
              "      <td>1</td>\n",
              "      <td>0</td>\n",
              "      <td>0</td>\n",
              "      <td>1</td>\n",
              "      <td>1</td>\n",
              "      <td>0</td>\n",
              "      <td>0</td>\n",
              "      <td>0</td>\n",
              "      <td>7</td>\n",
              "      <td>0.056166</td>\n",
              "      <td>0.000000</td>\n",
              "      <td>-0.65</td>\n",
              "      <td>2</td>\n",
              "      <td>1</td>\n",
              "      <td>7.58</td>\n",
              "      <td>4</td>\n",
              "      <td>3</td>\n",
              "      <td>0</td>\n",
              "      <td>-0.32</td>\n",
              "      <td>1</td>\n",
              "      <td>0</td>\n",
              "    </tr>\n",
              "    <tr>\n",
              "      <th>4</th>\n",
              "      <td>19.70</td>\n",
              "      <td>59.0</td>\n",
              "      <td>1</td>\n",
              "      <td>0</td>\n",
              "      <td>0</td>\n",
              "      <td>0</td>\n",
              "      <td>0</td>\n",
              "      <td>0</td>\n",
              "      <td>0</td>\n",
              "      <td>0</td>\n",
              "      <td>0</td>\n",
              "      <td>0</td>\n",
              "      <td>11</td>\n",
              "      <td>0.197305</td>\n",
              "      <td>0.002764</td>\n",
              "      <td>0.00</td>\n",
              "      <td>0</td>\n",
              "      <td>0</td>\n",
              "      <td>7.88</td>\n",
              "      <td>11</td>\n",
              "      <td>0</td>\n",
              "      <td>0</td>\n",
              "      <td>0.00</td>\n",
              "      <td>1</td>\n",
              "      <td>0</td>\n",
              "    </tr>\n",
              "  </tbody>\n",
              "</table>\n",
              "</div>"
            ],
            "text/plain": [
              "     bmi   Age  asa_status  ...  mortality_rsi  race  complication\n",
              "0  19.31  59.2           1  ...          -0.43     1             0\n",
              "1  18.73  59.1           0  ...          -0.41     1             0\n",
              "2  21.85  59.0           0  ...           0.08     1             0\n",
              "3  18.49  59.0           1  ...          -0.32     1             0\n",
              "4  19.70  59.0           1  ...           0.00     1             0\n",
              "\n",
              "[5 rows x 25 columns]"
            ]
          },
          "metadata": {
            "tags": []
          },
          "execution_count": 4
        }
      ]
    },
    {
      "cell_type": "code",
      "metadata": {
        "id": "8STmM0YGPTXa",
        "colab_type": "code",
        "colab": {}
      },
      "source": [
        "X = dataset.iloc[:, :-1]\n",
        "y = dataset.iloc[:, -1]"
      ],
      "execution_count": 0,
      "outputs": []
    },
    {
      "cell_type": "code",
      "metadata": {
        "id": "Gs1zZorAlcp0",
        "colab_type": "code",
        "outputId": "ac36769a-1178-46c1-bf89-ea3482da7add",
        "colab": {
          "base_uri": "https://localhost:8080/",
          "height": 55
        }
      },
      "source": [
        "columns = dataset.columns.to_list()\n",
        "print(columns)"
      ],
      "execution_count": 6,
      "outputs": [
        {
          "output_type": "stream",
          "text": [
            "['bmi', 'Age', 'asa_status', 'baseline_cancer', 'baseline_charlson', 'baseline_cvd', 'baseline_dementia', 'baseline_diabetes', 'baseline_digestive', 'baseline_osteoart', 'baseline_psych', 'baseline_pulmonary', 'ahrq_ccs', 'ccsComplicationRate', 'ccsMort30Rate', 'complication_rsi', 'dow', 'gender', 'hour', 'month', 'moonphase', 'mort30', 'mortality_rsi', 'race', 'complication']\n"
          ],
          "name": "stdout"
        }
      ]
    },
    {
      "cell_type": "markdown",
      "metadata": {
        "id": "4Ak63wjArn-S",
        "colab_type": "text"
      },
      "source": [
        "## Checking The Dimensions of data"
      ]
    },
    {
      "cell_type": "code",
      "metadata": {
        "id": "x0S3gZBuKRD5",
        "colab_type": "code",
        "outputId": "54e110e0-d46a-4966-8564-eaa0aaa60975",
        "colab": {
          "base_uri": "https://localhost:8080/",
          "height": 53
        }
      },
      "source": [
        "print(X.shape)\n",
        "print(y.shape)"
      ],
      "execution_count": 7,
      "outputs": [
        {
          "output_type": "stream",
          "text": [
            "(14635, 24)\n",
            "(14635,)\n"
          ],
          "name": "stdout"
        }
      ]
    },
    {
      "cell_type": "markdown",
      "metadata": {
        "id": "h-JhGrHtrzwi",
        "colab_type": "text"
      },
      "source": [
        "# Statistics Of Data\n",
        "\n",
        "In this section we calculate and check general statistical measurements of data."
      ]
    },
    {
      "cell_type": "markdown",
      "metadata": {
        "id": "QiT7LRldsECR",
        "colab_type": "text"
      },
      "source": [
        "## Describing Data"
      ]
    },
    {
      "cell_type": "code",
      "metadata": {
        "id": "dCHu3DNhQ3BR",
        "colab_type": "code",
        "outputId": "2ffe3df5-3c95-420e-c99a-aa6c54f616d2",
        "colab": {
          "base_uri": "https://localhost:8080/",
          "height": 317
        }
      },
      "source": [
        "X.describe()"
      ],
      "execution_count": 8,
      "outputs": [
        {
          "output_type": "execute_result",
          "data": {
            "text/html": [
              "<div>\n",
              "<style scoped>\n",
              "    .dataframe tbody tr th:only-of-type {\n",
              "        vertical-align: middle;\n",
              "    }\n",
              "\n",
              "    .dataframe tbody tr th {\n",
              "        vertical-align: top;\n",
              "    }\n",
              "\n",
              "    .dataframe thead th {\n",
              "        text-align: right;\n",
              "    }\n",
              "</style>\n",
              "<table border=\"1\" class=\"dataframe\">\n",
              "  <thead>\n",
              "    <tr style=\"text-align: right;\">\n",
              "      <th></th>\n",
              "      <th>bmi</th>\n",
              "      <th>Age</th>\n",
              "      <th>asa_status</th>\n",
              "      <th>baseline_cancer</th>\n",
              "      <th>baseline_charlson</th>\n",
              "      <th>baseline_cvd</th>\n",
              "      <th>baseline_dementia</th>\n",
              "      <th>baseline_diabetes</th>\n",
              "      <th>baseline_digestive</th>\n",
              "      <th>baseline_osteoart</th>\n",
              "      <th>baseline_psych</th>\n",
              "      <th>baseline_pulmonary</th>\n",
              "      <th>ahrq_ccs</th>\n",
              "      <th>ccsComplicationRate</th>\n",
              "      <th>ccsMort30Rate</th>\n",
              "      <th>complication_rsi</th>\n",
              "      <th>dow</th>\n",
              "      <th>gender</th>\n",
              "      <th>hour</th>\n",
              "      <th>month</th>\n",
              "      <th>moonphase</th>\n",
              "      <th>mort30</th>\n",
              "      <th>mortality_rsi</th>\n",
              "      <th>race</th>\n",
              "    </tr>\n",
              "  </thead>\n",
              "  <tbody>\n",
              "    <tr>\n",
              "      <th>count</th>\n",
              "      <td>14635.000000</td>\n",
              "      <td>14635.000000</td>\n",
              "      <td>14635.000000</td>\n",
              "      <td>14635.000000</td>\n",
              "      <td>14635.000000</td>\n",
              "      <td>14635.000000</td>\n",
              "      <td>14635.000000</td>\n",
              "      <td>14635.000000</td>\n",
              "      <td>14635.000000</td>\n",
              "      <td>14635.000000</td>\n",
              "      <td>14635.000000</td>\n",
              "      <td>14635.000000</td>\n",
              "      <td>14635.000000</td>\n",
              "      <td>14635.000000</td>\n",
              "      <td>14635.000000</td>\n",
              "      <td>14635.000000</td>\n",
              "      <td>14635.000000</td>\n",
              "      <td>14635.000000</td>\n",
              "      <td>14635.000000</td>\n",
              "      <td>14635.000000</td>\n",
              "      <td>14635.000000</td>\n",
              "      <td>14635.000000</td>\n",
              "      <td>14635.000000</td>\n",
              "      <td>14635.000000</td>\n",
              "    </tr>\n",
              "    <tr>\n",
              "      <th>mean</th>\n",
              "      <td>31.295642</td>\n",
              "      <td>63.205268</td>\n",
              "      <td>0.632320</td>\n",
              "      <td>0.262316</td>\n",
              "      <td>0.977520</td>\n",
              "      <td>0.620294</td>\n",
              "      <td>0.004851</td>\n",
              "      <td>0.120875</td>\n",
              "      <td>0.189546</td>\n",
              "      <td>0.342740</td>\n",
              "      <td>0.082405</td>\n",
              "      <td>0.094090</td>\n",
              "      <td>7.428493</td>\n",
              "      <td>0.133570</td>\n",
              "      <td>0.004447</td>\n",
              "      <td>-0.699044</td>\n",
              "      <td>1.606970</td>\n",
              "      <td>0.548890</td>\n",
              "      <td>10.171613</td>\n",
              "      <td>5.915408</td>\n",
              "      <td>1.187086</td>\n",
              "      <td>0.003963</td>\n",
              "      <td>-0.836712</td>\n",
              "      <td>0.919440</td>\n",
              "    </tr>\n",
              "    <tr>\n",
              "      <th>std</th>\n",
              "      <td>8.152709</td>\n",
              "      <td>18.088191</td>\n",
              "      <td>0.539952</td>\n",
              "      <td>0.439909</td>\n",
              "      <td>1.758355</td>\n",
              "      <td>0.485330</td>\n",
              "      <td>0.069485</td>\n",
              "      <td>0.325993</td>\n",
              "      <td>0.391955</td>\n",
              "      <td>0.474642</td>\n",
              "      <td>0.274990</td>\n",
              "      <td>0.291963</td>\n",
              "      <td>6.949455</td>\n",
              "      <td>0.088402</td>\n",
              "      <td>0.004579</td>\n",
              "      <td>1.339394</td>\n",
              "      <td>1.497738</td>\n",
              "      <td>0.497621</td>\n",
              "      <td>2.659881</td>\n",
              "      <td>3.239825</td>\n",
              "      <td>1.158357</td>\n",
              "      <td>0.062830</td>\n",
              "      <td>1.194111</td>\n",
              "      <td>0.364663</td>\n",
              "    </tr>\n",
              "    <tr>\n",
              "      <th>min</th>\n",
              "      <td>2.150000</td>\n",
              "      <td>6.100000</td>\n",
              "      <td>0.000000</td>\n",
              "      <td>0.000000</td>\n",
              "      <td>0.000000</td>\n",
              "      <td>0.000000</td>\n",
              "      <td>0.000000</td>\n",
              "      <td>0.000000</td>\n",
              "      <td>0.000000</td>\n",
              "      <td>0.000000</td>\n",
              "      <td>0.000000</td>\n",
              "      <td>0.000000</td>\n",
              "      <td>0.000000</td>\n",
              "      <td>0.016118</td>\n",
              "      <td>0.000000</td>\n",
              "      <td>-4.720000</td>\n",
              "      <td>0.000000</td>\n",
              "      <td>0.000000</td>\n",
              "      <td>6.070000</td>\n",
              "      <td>0.000000</td>\n",
              "      <td>0.000000</td>\n",
              "      <td>0.000000</td>\n",
              "      <td>-3.820000</td>\n",
              "      <td>0.000000</td>\n",
              "    </tr>\n",
              "    <tr>\n",
              "      <th>25%</th>\n",
              "      <td>26.510000</td>\n",
              "      <td>51.500000</td>\n",
              "      <td>0.000000</td>\n",
              "      <td>0.000000</td>\n",
              "      <td>0.000000</td>\n",
              "      <td>0.000000</td>\n",
              "      <td>0.000000</td>\n",
              "      <td>0.000000</td>\n",
              "      <td>0.000000</td>\n",
              "      <td>0.000000</td>\n",
              "      <td>0.000000</td>\n",
              "      <td>0.000000</td>\n",
              "      <td>0.000000</td>\n",
              "      <td>0.081977</td>\n",
              "      <td>0.001962</td>\n",
              "      <td>-1.970000</td>\n",
              "      <td>0.000000</td>\n",
              "      <td>0.000000</td>\n",
              "      <td>7.820000</td>\n",
              "      <td>3.000000</td>\n",
              "      <td>0.000000</td>\n",
              "      <td>0.000000</td>\n",
              "      <td>-2.250000</td>\n",
              "      <td>1.000000</td>\n",
              "    </tr>\n",
              "    <tr>\n",
              "      <th>50%</th>\n",
              "      <td>28.980000</td>\n",
              "      <td>59.700000</td>\n",
              "      <td>1.000000</td>\n",
              "      <td>0.000000</td>\n",
              "      <td>0.000000</td>\n",
              "      <td>1.000000</td>\n",
              "      <td>0.000000</td>\n",
              "      <td>0.000000</td>\n",
              "      <td>0.000000</td>\n",
              "      <td>0.000000</td>\n",
              "      <td>0.000000</td>\n",
              "      <td>0.000000</td>\n",
              "      <td>6.000000</td>\n",
              "      <td>0.105720</td>\n",
              "      <td>0.002959</td>\n",
              "      <td>-0.580000</td>\n",
              "      <td>1.000000</td>\n",
              "      <td>1.000000</td>\n",
              "      <td>9.120000</td>\n",
              "      <td>7.000000</td>\n",
              "      <td>1.000000</td>\n",
              "      <td>0.000000</td>\n",
              "      <td>-0.640000</td>\n",
              "      <td>1.000000</td>\n",
              "    </tr>\n",
              "    <tr>\n",
              "      <th>75%</th>\n",
              "      <td>35.295000</td>\n",
              "      <td>74.700000</td>\n",
              "      <td>1.000000</td>\n",
              "      <td>1.000000</td>\n",
              "      <td>2.000000</td>\n",
              "      <td>1.000000</td>\n",
              "      <td>0.000000</td>\n",
              "      <td>0.000000</td>\n",
              "      <td>0.000000</td>\n",
              "      <td>1.000000</td>\n",
              "      <td>0.000000</td>\n",
              "      <td>0.000000</td>\n",
              "      <td>13.000000</td>\n",
              "      <td>0.183370</td>\n",
              "      <td>0.007398</td>\n",
              "      <td>0.000000</td>\n",
              "      <td>3.000000</td>\n",
              "      <td>1.000000</td>\n",
              "      <td>12.050000</td>\n",
              "      <td>8.000000</td>\n",
              "      <td>2.000000</td>\n",
              "      <td>0.000000</td>\n",
              "      <td>0.000000</td>\n",
              "      <td>1.000000</td>\n",
              "    </tr>\n",
              "    <tr>\n",
              "      <th>max</th>\n",
              "      <td>92.590000</td>\n",
              "      <td>90.000000</td>\n",
              "      <td>2.000000</td>\n",
              "      <td>1.000000</td>\n",
              "      <td>13.000000</td>\n",
              "      <td>1.000000</td>\n",
              "      <td>1.000000</td>\n",
              "      <td>1.000000</td>\n",
              "      <td>1.000000</td>\n",
              "      <td>1.000000</td>\n",
              "      <td>1.000000</td>\n",
              "      <td>1.000000</td>\n",
              "      <td>21.000000</td>\n",
              "      <td>0.466129</td>\n",
              "      <td>0.016673</td>\n",
              "      <td>12.560000</td>\n",
              "      <td>4.000000</td>\n",
              "      <td>1.000000</td>\n",
              "      <td>18.920000</td>\n",
              "      <td>11.000000</td>\n",
              "      <td>3.000000</td>\n",
              "      <td>1.000000</td>\n",
              "      <td>4.400000</td>\n",
              "      <td>2.000000</td>\n",
              "    </tr>\n",
              "  </tbody>\n",
              "</table>\n",
              "</div>"
            ],
            "text/plain": [
              "                bmi           Age  ...  mortality_rsi          race\n",
              "count  14635.000000  14635.000000  ...   14635.000000  14635.000000\n",
              "mean      31.295642     63.205268  ...      -0.836712      0.919440\n",
              "std        8.152709     18.088191  ...       1.194111      0.364663\n",
              "min        2.150000      6.100000  ...      -3.820000      0.000000\n",
              "25%       26.510000     51.500000  ...      -2.250000      1.000000\n",
              "50%       28.980000     59.700000  ...      -0.640000      1.000000\n",
              "75%       35.295000     74.700000  ...       0.000000      1.000000\n",
              "max       92.590000     90.000000  ...       4.400000      2.000000\n",
              "\n",
              "[8 rows x 24 columns]"
            ]
          },
          "metadata": {
            "tags": []
          },
          "execution_count": 8
        }
      ]
    },
    {
      "cell_type": "code",
      "metadata": {
        "id": "iOVrTw5qsNkF",
        "colab_type": "code",
        "outputId": "3fafed4c-9271-4b19-8c23-b9237d3780ef",
        "colab": {
          "base_uri": "https://localhost:8080/",
          "height": 179
        }
      },
      "source": [
        "y.describe()"
      ],
      "execution_count": 9,
      "outputs": [
        {
          "output_type": "execute_result",
          "data": {
            "text/plain": [
              "count    14635.000000\n",
              "mean         0.252135\n",
              "std          0.434253\n",
              "min          0.000000\n",
              "25%          0.000000\n",
              "50%          0.000000\n",
              "75%          1.000000\n",
              "max          1.000000\n",
              "Name: complication, dtype: float64"
            ]
          },
          "metadata": {
            "tags": []
          },
          "execution_count": 9
        }
      ]
    },
    {
      "cell_type": "markdown",
      "metadata": {
        "id": "TeCMRTq6t_Ix",
        "colab_type": "text"
      },
      "source": [
        "## Checking NAN Valuse And Removing Them"
      ]
    },
    {
      "cell_type": "code",
      "metadata": {
        "id": "ugMC6d6iPXwJ",
        "colab_type": "code",
        "outputId": "f8f8eb6d-a43d-42ef-a18c-b02bab8099c1",
        "colab": {
          "base_uri": "https://localhost:8080/",
          "height": 701
        }
      },
      "source": [
        "print(X.isnull().sum())\n",
        "print(y.isnull().sum())\n",
        "X.dropna()\n",
        "y.dropna()"
      ],
      "execution_count": 10,
      "outputs": [
        {
          "output_type": "stream",
          "text": [
            "bmi                    0\n",
            "Age                    0\n",
            "asa_status             0\n",
            "baseline_cancer        0\n",
            "baseline_charlson      0\n",
            "baseline_cvd           0\n",
            "baseline_dementia      0\n",
            "baseline_diabetes      0\n",
            "baseline_digestive     0\n",
            "baseline_osteoart      0\n",
            "baseline_psych         0\n",
            "baseline_pulmonary     0\n",
            "ahrq_ccs               0\n",
            "ccsComplicationRate    0\n",
            "ccsMort30Rate          0\n",
            "complication_rsi       0\n",
            "dow                    0\n",
            "gender                 0\n",
            "hour                   0\n",
            "month                  0\n",
            "moonphase              0\n",
            "mort30                 0\n",
            "mortality_rsi          0\n",
            "race                   0\n",
            "dtype: int64\n",
            "0\n"
          ],
          "name": "stdout"
        },
        {
          "output_type": "execute_result",
          "data": {
            "text/plain": [
              "0        0\n",
              "1        0\n",
              "2        0\n",
              "3        0\n",
              "4        0\n",
              "        ..\n",
              "14630    1\n",
              "14631    1\n",
              "14632    1\n",
              "14633    1\n",
              "14634    1\n",
              "Name: complication, Length: 14635, dtype: int64"
            ]
          },
          "metadata": {
            "tags": []
          },
          "execution_count": 10
        }
      ]
    },
    {
      "cell_type": "markdown",
      "metadata": {
        "id": "uQ2qD_jyuNMb",
        "colab_type": "text"
      },
      "source": [
        "## Calculating The Corrolation Between Features\n",
        "\n",
        "This plot shows us how much each feature is linearly related to another feature or to the target. one important note is that if two features are linearly dependent in each other, it's better to remove one of them"
      ]
    },
    {
      "cell_type": "code",
      "metadata": {
        "id": "nL_OAaAeLgdZ",
        "colab_type": "code",
        "outputId": "6a7777d7-7da5-4f71-af5c-868d4659d2c1",
        "colab": {
          "base_uri": "https://localhost:8080/",
          "height": 521
        }
      },
      "source": [
        "corr = dataset.corr()\n",
        "print(corr)"
      ],
      "execution_count": 11,
      "outputs": [
        {
          "output_type": "stream",
          "text": [
            "                          bmi       Age  ...      race  complication\n",
            "bmi                  1.000000 -0.131775  ... -0.158021     -0.142174\n",
            "Age                 -0.131775  1.000000  ...  0.098534     -0.111327\n",
            "asa_status           0.198517  0.464704  ... -0.010930     -0.005030\n",
            "baseline_cancer     -0.027676 -0.097013  ... -0.001588      0.165639\n",
            "baseline_charlson    0.054377 -0.077871  ... -0.051101      0.185514\n",
            "baseline_cvd         0.165106  0.534403  ... -0.023040     -0.090748\n",
            "baseline_dementia   -0.024774  0.025245  ... -0.019633      0.047781\n",
            "baseline_diabetes    0.276938 -0.047026  ... -0.068685      0.015916\n",
            "baseline_digestive   0.138284 -0.126093  ... -0.014116      0.051219\n",
            "baseline_osteoart    0.031200  0.599267  ...  0.060440     -0.279056\n",
            "baseline_psych       0.109832 -0.143764  ...  0.008283     -0.003476\n",
            "baseline_pulmonary   0.144707 -0.103261  ... -0.069361      0.032236\n",
            "ahrq_ccs            -0.028058 -0.437507  ... -0.052252      0.141858\n",
            "ccsComplicationRate -0.079441 -0.246612  ...  0.035852      0.390923\n",
            "ccsMort30Rate       -0.032688 -0.120948  ...  0.045613      0.276823\n",
            "complication_rsi    -0.138256 -0.365726  ... -0.011839      0.373834\n",
            "dow                  0.064263 -0.378483  ... -0.022819      0.162355\n",
            "gender              -0.172120  0.396119  ...  0.127710     -0.064637\n",
            "hour                 0.047607 -0.153218  ... -0.042523      0.071588\n",
            "month               -0.046647  0.252315  ...  0.033042     -0.098057\n",
            "moonphase            0.062073 -0.373015  ... -0.042938      0.161883\n",
            "mort30              -0.005362  0.006337  ...  0.013936      0.056041\n",
            "mortality_rsi       -0.008283 -0.472597  ... -0.063691      0.356086\n",
            "race                -0.158021  0.098534  ...  1.000000      0.012198\n",
            "complication        -0.142174 -0.111327  ...  0.012198      1.000000\n",
            "\n",
            "[25 rows x 25 columns]\n"
          ],
          "name": "stdout"
        }
      ]
    },
    {
      "cell_type": "markdown",
      "metadata": {
        "id": "GL_dhXY1uiNh",
        "colab_type": "text"
      },
      "source": [
        "# Data Visulization\n",
        "\n",
        "In this section we user multiple diagrams to achieve better insights from data."
      ]
    },
    {
      "cell_type": "markdown",
      "metadata": {
        "id": "B6NSozTXmO2F",
        "colab_type": "text"
      },
      "source": [
        "## Corrolation Heatmap\n",
        "\n",
        "By analysing following heatmap diagram, we can findout that some features like baseline_osteoart and complication_rsi are so linearly related to the target, complication.\n",
        "\n",
        "In the other hand it seems thant features like asa_status and mort30 have no obvious relation with complication as target.\n",
        "\n",
        "P.S: if a feature color in the following heatmap is more blue or red, the relation is stronger and vice versa."
      ]
    },
    {
      "cell_type": "code",
      "metadata": {
        "id": "7LXj94WZNEv1",
        "colab_type": "code",
        "outputId": "3c2853cd-98d8-4b56-c424-2569143cd3be",
        "colab": {
          "base_uri": "https://localhost:8080/",
          "height": 938
        }
      },
      "source": [
        "plt.figure(figsize=(19, 15))\n",
        "ax = sns.heatmap(\n",
        "    corr, \n",
        "    vmin=-1, vmax=1, center=0,\n",
        "    cmap=sns.diverging_palette(10, 250, n=200),\n",
        "    square=True\n",
        ")\n",
        "ax.set_xticklabels(\n",
        "    ax.get_xticklabels(),\n",
        "    rotation=45,\n",
        "    horizontalalignment='right'\n",
        ");"
      ],
      "execution_count": 12,
      "outputs": [
        {
          "output_type": "display_data",
          "data": {
            "image/png": "[encoded data removed]",
            "text/plain": [
              "<Figure size 1368x1080 with 2 Axes>"
            ]
          },
          "metadata": {
            "tags": [],
            "needs_background": "light"
          }
        }
      ]
    },
    {
      "cell_type": "markdown",
      "metadata": {
        "id": "5pHJcMcxnlDD",
        "colab_type": "text"
      },
      "source": [
        "## Pairplot Diagram\n",
        "\n",
        "Pairplot diagram is another useful plot which display the distribution data of one feature in comparison to another feature.\n",
        "\n",
        "By a general analys, it can be derived that we have 24 diverse feature \n"
      ]
    },
    {
      "cell_type": "code",
      "metadata": {
        "id": "MqeSK2UrQXxq",
        "colab_type": "code",
        "outputId": "669cc841-409b-4567-8d69-419ae75e9f98",
        "colab": {
          "base_uri": "https://localhost:8080/",
          "height": 945
        }
      },
      "source": [
        "sns.pairplot(X.iloc[:, :5])"
      ],
      "execution_count": 13,
      "outputs": [
        {
          "output_type": "execute_result",
          "data": {
            "text/plain": [
              "<seaborn.axisgrid.PairGrid at 0x7f775f282320>"
            ]
          },
          "metadata": {
            "tags": []
          },
          "execution_count": 13
        },
        {
          "output_type": "display_data",
          "data": {
            "image/png": "[encoded data removed]",
            "text/plain": [
              "<Figure size 900x900 with 30 Axes>"
            ]
          },
          "metadata": {
            "tags": [],
            "needs_background": "light"
          }
        }
      ]
    },
    {
      "cell_type": "markdown",
      "metadata": {
        "id": "UnVUvFLoP373",
        "colab_type": "text"
      },
      "source": [
        "## Feature Distribution Histogram\n",
        "\n",
        "We check the distribution of each feature data indivisualy using histograms.\n",
        "one of the main role of this histograms is to detect categorical features and transform and represent them as one hot vectors"
      ]
    },
    {
      "cell_type": "code",
      "metadata": {
        "id": "NzcpUzKyS0hs",
        "colab_type": "code",
        "outputId": "93538b8d-eb58-400b-dc32-f4a53a025ce9",
        "colab": {
          "base_uri": "https://localhost:8080/",
          "height": 1000
        }
      },
      "source": [
        "X.plot.hist(subplots=True, layout=(6,4), figsize=(10, 10), bins=20)"
      ],
      "execution_count": 14,
      "outputs": [
        {
          "output_type": "execute_result",
          "data": {
            "text/plain": [
              "array([[<matplotlib.axes._subplots.AxesSubplot object at 0x7f775ce06ba8>,\n",
              "        <matplotlib.axes._subplots.AxesSubplot object at 0x7f775cb37a58>,\n",
              "        <matplotlib.axes._subplots.AxesSubplot object at 0x7f775cb64a58>,\n",
              "        <matplotlib.axes._subplots.AxesSubplot object at 0x7f775cb19a58>],\n",
              "       [<matplotlib.axes._subplots.AxesSubplot object at 0x7f775cacca58>,\n",
              "        <matplotlib.axes._subplots.AxesSubplot object at 0x7f775ca7fef0>,\n",
              "        <matplotlib.axes._subplots.AxesSubplot object at 0x7f775ca3f160>,\n",
              "        <matplotlib.axes._subplots.AxesSubplot object at 0x7f775c9f1358>],\n",
              "       [<matplotlib.axes._subplots.AxesSubplot object at 0x7f775c9f13c8>,\n",
              "        <matplotlib.axes._subplots.AxesSubplot object at 0x7f775c9d67f0>,\n",
              "        <matplotlib.axes._subplots.AxesSubplot object at 0x7f775c98ba20>,\n",
              "        <matplotlib.axes._subplots.AxesSubplot object at 0x7f775c93bc50>],\n",
              "       [<matplotlib.axes._subplots.AxesSubplot object at 0x7f775c8efe80>,\n",
              "        <matplotlib.axes._subplots.AxesSubplot object at 0x7f775c8ad0f0>,\n",
              "        <matplotlib.axes._subplots.AxesSubplot object at 0x7f775c8e3320>,\n",
              "        <matplotlib.axes._subplots.AxesSubplot object at 0x7f775c895550>],\n",
              "       [<matplotlib.axes._subplots.AxesSubplot object at 0x7f775c847780>,\n",
              "        <matplotlib.axes._subplots.AxesSubplot object at 0x7f775c7fb9b0>,\n",
              "        <matplotlib.axes._subplots.AxesSubplot object at 0x7f775c7acbe0>,\n",
              "        <matplotlib.axes._subplots.AxesSubplot object at 0x7f775c7dfe10>],\n",
              "       [<matplotlib.axes._subplots.AxesSubplot object at 0x7f775c7a2048>,\n",
              "        <matplotlib.axes._subplots.AxesSubplot object at 0x7f775c7522b0>,\n",
              "        <matplotlib.axes._subplots.AxesSubplot object at 0x7f775c7044e0>,\n",
              "        <matplotlib.axes._subplots.AxesSubplot object at 0x7f775c6b9710>]],\n",
              "      dtype=object)"
            ]
          },
          "metadata": {
            "tags": []
          },
          "execution_count": 14
        },
        {
          "output_type": "display_data",
          "data": {
            "image/png": "[encoded data removed]",
            "text/plain": [
              "<Figure size 720x720 with 24 Axes>"
            ]
          },
          "metadata": {
            "tags": [],
            "needs_background": "light"
          }
        }
      ]
    },
    {
      "cell_type": "code",
      "metadata": {
        "id": "RKp_yBk5urp-",
        "colab_type": "code",
        "outputId": "7650350f-2b0a-4ffe-9c6a-c7f241605cb8",
        "colab": {
          "base_uri": "https://localhost:8080/",
          "height": 352
        }
      },
      "source": [
        "fig = plt.figure()\n",
        "ax = fig.add_axes([0,0,1,1])\n",
        "ax.hist(y, facecolor='blue', alpha=0.5)\n",
        "ax.set_title('scatter plot')\n",
        "plt.show()"
      ],
      "execution_count": 15,
      "outputs": [
        {
          "output_type": "display_data",
          "data": {
            "image/png": "[encoded data removed]",
            "text/plain": [
              "<Figure size 432x288 with 1 Axes>"
            ]
          },
          "metadata": {
            "tags": [],
            "needs_background": "light"
          }
        }
      ]
    },
    {
      "cell_type": "markdown",
      "metadata": {
        "id": "g7f32vWg5dSD",
        "colab_type": "text"
      },
      "source": [
        "By heeding the diagram above, it can be seen that the count of samples with label 0 is almost double the count of other label and it can effect the training process. However this difference isnt much and we can endure it."
      ]
    },
    {
      "cell_type": "markdown",
      "metadata": {
        "id": "QQEpivn3UD9t",
        "colab_type": "text"
      },
      "source": [
        "# Data Prepocessing\n",
        "\n"
      ]
    },
    {
      "cell_type": "markdown",
      "metadata": {
        "id": "jgu41OWKUba2",
        "colab_type": "text"
      },
      "source": [
        "## One-Hot Encoding\n",
        "\n",
        "All of the features are categorical but just have 2 classes. So one-hot encoding is not neccessary."
      ]
    },
    {
      "cell_type": "markdown",
      "metadata": {
        "id": "LHkR_D_kUo--",
        "colab_type": "text"
      },
      "source": [
        "## Pandas Dataframe To Numpy Array Transform"
      ]
    },
    {
      "cell_type": "code",
      "metadata": {
        "id": "YVT-gPWLVZpZ",
        "colab_type": "code",
        "outputId": "fd6c5bef-bc23-4db8-a13f-c0577eaef80c",
        "colab": {
          "base_uri": "https://localhost:8080/",
          "height": 53
        }
      },
      "source": [
        "X = X.values\n",
        "y = y.values\n",
        "print(X.shape)\n",
        "print(y.shape)"
      ],
      "execution_count": 16,
      "outputs": [
        {
          "output_type": "stream",
          "text": [
            "(14635, 24)\n",
            "(14635,)\n"
          ],
          "name": "stdout"
        }
      ]
    },
    {
      "cell_type": "markdown",
      "metadata": {
        "id": "WoE_f_BHVJY9",
        "colab_type": "text"
      },
      "source": [
        "## Train-Test Split\n",
        "\n",
        "We take 70% of data for training process and the rest for test."
      ]
    },
    {
      "cell_type": "code",
      "metadata": {
        "id": "MpYNkY4rxNKe",
        "colab_type": "code",
        "colab": {}
      },
      "source": [
        "X_train, X_test, y_train, y_test = train_test_split(X, y, test_size=0.30, random_state=20)"
      ],
      "execution_count": 0,
      "outputs": []
    },
    {
      "cell_type": "code",
      "metadata": {
        "id": "J_aGsMjMytSW",
        "colab_type": "code",
        "outputId": "d75ef50a-f265-41f9-ef3a-b1e1048f8030",
        "colab": {
          "base_uri": "https://localhost:8080/",
          "height": 89
        }
      },
      "source": [
        "print(\"X_train.shape\",X_train.shape)\n",
        "print(\"X_test.shape\",X_test.shape)\n",
        "print(\"y_train.shape\",y_train.shape)\n",
        "print(\"y_test.shape\",y_test.shape)"
      ],
      "execution_count": 18,
      "outputs": [
        {
          "output_type": "stream",
          "text": [
            "X_train.shape (10244, 24)\n",
            "X_test.shape (4391, 24)\n",
            "y_train.shape (10244,)\n",
            "y_test.shape (4391,)\n"
          ],
          "name": "stdout"
        }
      ]
    },
    {
      "cell_type": "markdown",
      "metadata": {
        "id": "kH0eyNLDXFtY",
        "colab_type": "text"
      },
      "source": [
        "## Data Standardization\n"
      ]
    },
    {
      "cell_type": "code",
      "metadata": {
        "id": "_O8s9BWXy0V6",
        "colab_type": "code",
        "outputId": "91fd9a9c-43bc-46a4-fd4e-e794efff3e63",
        "colab": {
          "base_uri": "https://localhost:8080/",
          "height": 53
        }
      },
      "source": [
        "scaler = StandardScaler().fit(X_train)\n",
        "X_train_standardized = scaler.transform(X_train)\n",
        "X_test_standardized = scaler.transform(X_test)\n",
        "print(X_train_standardized.shape)\n",
        "print(X_test_standardized.shape)"
      ],
      "execution_count": 19,
      "outputs": [
        {
          "output_type": "stream",
          "text": [
            "(10244, 24)\n",
            "(4391, 24)\n"
          ],
          "name": "stdout"
        }
      ]
    },
    {
      "cell_type": "markdown",
      "metadata": {
        "id": "7BOmN6_FwyQg",
        "colab_type": "text"
      },
      "source": [
        "## Data Normalization"
      ]
    },
    {
      "cell_type": "code",
      "metadata": {
        "id": "2e4YzSzHw3KK",
        "colab_type": "code",
        "outputId": "5966a4af-2c0c-4c55-fc21-48645d6a8958",
        "colab": {
          "base_uri": "https://localhost:8080/",
          "height": 53
        }
      },
      "source": [
        "transformer = Normalizer().fit(X_train)\n",
        "X_train_normalized = transformer.transform(X_train)\n",
        "X_test_normalized = transformer.transform(X_test)\n",
        "print(X_train_normalized.shape)\n",
        "print(X_test_normalized.shape)"
      ],
      "execution_count": 20,
      "outputs": [
        {
          "output_type": "stream",
          "text": [
            "(10244, 24)\n",
            "(4391, 24)\n"
          ],
          "name": "stdout"
        }
      ]
    },
    {
      "cell_type": "markdown",
      "metadata": {
        "id": "LZe_vnQHzMQk",
        "colab_type": "text"
      },
      "source": [
        "## Dimension Reduction Using PCA"
      ]
    },
    {
      "cell_type": "code",
      "metadata": {
        "id": "sSE7ldQo0FWy",
        "colab_type": "code",
        "outputId": "cbb62858-23a3-42db-fd02-b0bf435e66f1",
        "colab": {
          "base_uri": "https://localhost:8080/",
          "height": 53
        }
      },
      "source": [
        "pca = PCA(n_components=3, svd_solver='full')\n",
        "X_train_pca = pca.fit_transform(X_train_standardized)\n",
        "X_test_pca = pca.fit_transform(X_test_standardized)\n",
        "print(X_train_pca.shape)\n",
        "print(X_test_pca.shape)"
      ],
      "execution_count": 21,
      "outputs": [
        {
          "output_type": "stream",
          "text": [
            "(10244, 3)\n",
            "(4391, 3)\n"
          ],
          "name": "stdout"
        }
      ]
    },
    {
      "cell_type": "markdown",
      "metadata": {
        "id": "eF7LsJBxSuFn",
        "colab_type": "text"
      },
      "source": [
        "# Usefull Functions"
      ]
    },
    {
      "cell_type": "markdown",
      "metadata": {
        "id": "VYeCUdznSytq",
        "colab_type": "text"
      },
      "source": [
        "## Compare Function\n",
        "\n",
        "This function is used to compare prediction values to real values and calculate some metrics like accuracy_score, f1_score and so on."
      ]
    },
    {
      "cell_type": "code",
      "metadata": {
        "id": "pPrc-YZrTFio",
        "colab_type": "code",
        "colab": {}
      },
      "source": [
        "def compare(y_test, y_pred):\n",
        "  print(\"accuracy:\", accuracy_score(y_test, y_pred))\n",
        "  print(\"precision:\", precision_score(y_test, y_pred))\n",
        "  print(\"recall:\",recall_score(y_test, y_pred))\n",
        "  print(\"f1score:\", f1_score(y_test,y_pred))\n",
        "  print(\"confusion matrix:\", confusion_matrix(y_test, y_pred))\n",
        "  return"
      ],
      "execution_count": 0,
      "outputs": []
    },
    {
      "cell_type": "markdown",
      "metadata": {
        "id": "DJTpugP8V5LQ",
        "colab_type": "text"
      },
      "source": [
        "## Train Analys Function"
      ]
    },
    {
      "cell_type": "code",
      "metadata": {
        "id": "KrTyL3C_V8vV",
        "colab_type": "code",
        "colab": {}
      },
      "source": [
        "def train_analys(history):\n",
        "  loss = history.history['loss']\n",
        "  val_loss = history.history['val_loss']\n",
        "  epochs = range(1, len(loss) + 1)\n",
        "  plt.plot(epochs, loss, color=\"red\", label='Training loss')\n",
        "  plt.plot(epochs, val_loss, color=\"blue\", label='Validation loss')\n",
        "  plt.title('Training and validation loss')\n",
        "  plt.xlabel('Epochs')\n",
        "  plt.ylabel('Loss')\n",
        "  plt.legend()\n",
        "  plt.show()\n",
        "\n",
        "  plt.clf()\n",
        "  acc = history.history['accuracy']\n",
        "  val_acc = history.history['val_accuracy']\n",
        "  plt.plot(epochs, acc, color=\"red\", label='Training acc')\n",
        "  plt.plot(epochs, val_acc, color=\"blue\", label='Validation acc')\n",
        "  plt.title('Training and validation accuracy')\n",
        "  plt.xlabel('Epochs')\n",
        "  plt.ylabel('Accuracy')\n",
        "  plt.legend()\n",
        "  plt.show()\n",
        "  \n",
        "  return"
      ],
      "execution_count": 0,
      "outputs": []
    },
    {
      "cell_type": "markdown",
      "metadata": {
        "id": "vhSN7oy3OOVC",
        "colab_type": "text"
      },
      "source": [
        "# Random Forest Model\n",
        "\n"
      ]
    },
    {
      "cell_type": "markdown",
      "metadata": {
        "id": "vq8tszx5OTEc",
        "colab_type": "text"
      },
      "source": [
        "## Model Builder Function"
      ]
    },
    {
      "cell_type": "code",
      "metadata": {
        "id": "u4fwOLwjOTtk",
        "colab_type": "code",
        "colab": {}
      },
      "source": [
        "def rf_model_builder(n_estimators=20):\n",
        "    rf = RandomForestClassifier(n_estimators=n_estimators, random_state=0, verbose=1)\n",
        "    return rf"
      ],
      "execution_count": 0,
      "outputs": []
    },
    {
      "cell_type": "markdown",
      "metadata": {
        "id": "lPNKOW7pOgLv",
        "colab_type": "text"
      },
      "source": [
        "## Model Trainer Function"
      ]
    },
    {
      "cell_type": "code",
      "metadata": {
        "id": "xFGqdBkMOiZM",
        "colab_type": "code",
        "colab": {}
      },
      "source": [
        "def rf_model_trainer(model, X_train, y_train):\n",
        "  model.fit(X_train, y_train)\n",
        "  return model"
      ],
      "execution_count": 0,
      "outputs": []
    },
    {
      "cell_type": "markdown",
      "metadata": {
        "id": "WHa0QiBBOr6s",
        "colab_type": "text"
      },
      "source": [
        "## Model Predictor Function"
      ]
    },
    {
      "cell_type": "code",
      "metadata": {
        "id": "taiRZfIOOv9M",
        "colab_type": "code",
        "colab": {}
      },
      "source": [
        "def rf_model_predictor(model, X_test):\n",
        "  y_pred = model.predict(X_test)\n",
        "  y_pred = y_pred.round().astype(int)\n",
        "  return y_pred"
      ],
      "execution_count": 0,
      "outputs": []
    },
    {
      "cell_type": "markdown",
      "metadata": {
        "id": "vkwYN52IO37g",
        "colab_type": "text"
      },
      "source": [
        "## Model Creation"
      ]
    },
    {
      "cell_type": "code",
      "metadata": {
        "id": "K8Y0mhYxPWXi",
        "colab_type": "code",
        "colab": {}
      },
      "source": [
        "rf_classifier = rf_model_builder(1000)"
      ],
      "execution_count": 0,
      "outputs": []
    },
    {
      "cell_type": "markdown",
      "metadata": {
        "id": "tzXeW8bIPNR4",
        "colab_type": "text"
      },
      "source": [
        "## Train & Predict On Standard Data"
      ]
    },
    {
      "cell_type": "code",
      "metadata": {
        "id": "bZFbxxqGO3Md",
        "colab_type": "code",
        "outputId": "e30beae9-c360-49c1-a32d-033ff60d5702",
        "colab": {
          "base_uri": "https://localhost:8080/",
          "height": 53
        }
      },
      "source": [
        "rf_classifier = rf_model_trainer(rf_classifier, X_train_standardized, y_train)\n"
      ],
      "execution_count": 28,
      "outputs": [
        {
          "output_type": "stream",
          "text": [
            "[Parallel(n_jobs=1)]: Using backend SequentialBackend with 1 concurrent workers.\n",
            "[Parallel(n_jobs=1)]: Done 1000 out of 1000 | elapsed:   12.5s finished\n"
          ],
          "name": "stderr"
        }
      ]
    },
    {
      "cell_type": "code",
      "metadata": {
        "id": "oVrAy-qjQCrx",
        "colab_type": "code",
        "outputId": "23545a7b-cb4d-4a67-8e79-cf5b8194eb96",
        "colab": {
          "base_uri": "https://localhost:8080/",
          "height": 53
        }
      },
      "source": [
        "y_pred = rf_model_predictor(rf_classifier, X_test_standardized)"
      ],
      "execution_count": 29,
      "outputs": [
        {
          "output_type": "stream",
          "text": [
            "[Parallel(n_jobs=1)]: Using backend SequentialBackend with 1 concurrent workers.\n",
            "[Parallel(n_jobs=1)]: Done 1000 out of 1000 | elapsed:    0.8s finished\n"
          ],
          "name": "stderr"
        }
      ]
    },
    {
      "cell_type": "code",
      "metadata": {
        "id": "Be4-t7dJP6YY",
        "colab_type": "code",
        "outputId": "d2884560-4928-4ec3-ff87-0e3b77b32759",
        "colab": {
          "base_uri": "https://localhost:8080/",
          "height": 125
        }
      },
      "source": [
        "compare(y_test, y_pred)"
      ],
      "execution_count": 30,
      "outputs": [
        {
          "output_type": "stream",
          "text": [
            "accuracy: 0.8590298337508541\n",
            "precision: 0.8245614035087719\n",
            "recall: 0.5554545454545454\n",
            "f1score: 0.6637696903856599\n",
            "confusion matrix: [[3161  130]\n",
            " [ 489  611]]\n"
          ],
          "name": "stdout"
        }
      ]
    },
    {
      "cell_type": "markdown",
      "metadata": {
        "id": "98JtATl4UwGc",
        "colab_type": "text"
      },
      "source": [
        "## Feature Importance"
      ]
    },
    {
      "cell_type": "markdown",
      "metadata": {
        "id": "bms1o-n276Rp",
        "colab_type": "text"
      },
      "source": [
        "Moreover we can identify the importance of each feature in our model"
      ]
    },
    {
      "cell_type": "code",
      "metadata": {
        "id": "jnoXezIHU0oy",
        "colab_type": "code",
        "outputId": "77da6a86-178a-409e-e6d8-e25b650d6450",
        "colab": {
          "base_uri": "https://localhost:8080/",
          "height": 107
        }
      },
      "source": [
        "rf_classifier.feature_importances_"
      ],
      "execution_count": 31,
      "outputs": [
        {
          "output_type": "execute_result",
          "data": {
            "text/plain": [
              "array([0.09931293, 0.21079268, 0.01585421, 0.00885407, 0.02603571,\n",
              "       0.01175111, 0.00110033, 0.00785593, 0.01096026, 0.01360835,\n",
              "       0.00701394, 0.00626722, 0.03719328, 0.07498381, 0.04788844,\n",
              "       0.11706773, 0.03260109, 0.01108474, 0.06934981, 0.0460885 ,\n",
              "       0.0290088 , 0.00068386, 0.10205952, 0.01258369])"
            ]
          },
          "metadata": {
            "tags": []
          },
          "execution_count": 31
        }
      ]
    },
    {
      "cell_type": "markdown",
      "metadata": {
        "id": "yxQl5VavR58J",
        "colab_type": "text"
      },
      "source": [
        "## Train & Predict On PCA Data"
      ]
    },
    {
      "cell_type": "code",
      "metadata": {
        "id": "xLvWRLB8TXiH",
        "colab_type": "code",
        "colab": {}
      },
      "source": [
        "rf_classifier = rf_model_builder(1000)"
      ],
      "execution_count": 0,
      "outputs": []
    },
    {
      "cell_type": "code",
      "metadata": {
        "id": "Zq5NCS1kSBOG",
        "colab_type": "code",
        "outputId": "353a811c-eade-448a-97f3-0423c1762120",
        "colab": {
          "base_uri": "https://localhost:8080/",
          "height": 53
        }
      },
      "source": [
        "rf_classifier = rf_model_trainer(rf_classifier, X_train_pca, y_train)"
      ],
      "execution_count": 33,
      "outputs": [
        {
          "output_type": "stream",
          "text": [
            "[Parallel(n_jobs=1)]: Using backend SequentialBackend with 1 concurrent workers.\n",
            "[Parallel(n_jobs=1)]: Done 1000 out of 1000 | elapsed:   11.6s finished\n"
          ],
          "name": "stderr"
        }
      ]
    },
    {
      "cell_type": "code",
      "metadata": {
        "id": "0-tjLEwVTd7r",
        "colab_type": "code",
        "outputId": "0b58248e-1109-49ac-d800-b5cceae3aed5",
        "colab": {
          "base_uri": "https://localhost:8080/",
          "height": 53
        }
      },
      "source": [
        "y_pred = rf_model_predictor(rf_classifier, X_test_pca)"
      ],
      "execution_count": 34,
      "outputs": [
        {
          "output_type": "stream",
          "text": [
            "[Parallel(n_jobs=1)]: Using backend SequentialBackend with 1 concurrent workers.\n",
            "[Parallel(n_jobs=1)]: Done 1000 out of 1000 | elapsed:    0.8s finished\n"
          ],
          "name": "stderr"
        }
      ]
    },
    {
      "cell_type": "code",
      "metadata": {
        "id": "rAcmvA_KTlN6",
        "colab_type": "code",
        "outputId": "337bd214-377e-4195-a073-869ff59bbaa4",
        "colab": {
          "base_uri": "https://localhost:8080/",
          "height": 125
        }
      },
      "source": [
        "compare(y_test, y_pred)"
      ],
      "execution_count": 35,
      "outputs": [
        {
          "output_type": "stream",
          "text": [
            "accuracy: 0.7551810521521294\n",
            "precision: 0.5164257555847569\n",
            "recall: 0.3572727272727273\n",
            "f1score: 0.42235357334766255\n",
            "confusion matrix: [[2923  368]\n",
            " [ 707  393]]\n"
          ],
          "name": "stdout"
        }
      ]
    },
    {
      "cell_type": "markdown",
      "metadata": {
        "id": "jKUq3kESTwHL",
        "colab_type": "text"
      },
      "source": [
        "## Conclusion\n",
        "\n",
        "It seems that using all the features help us to get better accuracy and dimension reduction doesn't work in a good way."
      ]
    },
    {
      "cell_type": "markdown",
      "metadata": {
        "id": "yqg91XSa2Lpw",
        "colab_type": "text"
      },
      "source": [
        "# DNN Model Definition"
      ]
    },
    {
      "cell_type": "markdown",
      "metadata": {
        "id": "XjKE85SE2c4B",
        "colab_type": "text"
      },
      "source": [
        "## Model Builder Function\n",
        "\n",
        "We are using a sequential model with multiple Dense and Dropout layers. \n",
        "One note is that to prevent overfitting we use both regularization in our dense layers and dropout layer.\n",
        "Another prominent feature of our model is that for initialization we use GloroUniform wich use Xavier which can increase converge time and have been proved to work well with relu"
      ]
    },
    {
      "cell_type": "code",
      "metadata": {
        "id": "oHFEYbJozL7f",
        "colab_type": "code",
        "colab": {}
      },
      "source": [
        "def dnn_model_builder(layer_nodes = 64, dropout = 0.3, alpha = 0.001, input_shape = (24,)):\n",
        "    model = Sequential()\n",
        "    \n",
        "    model.add(Dense(layer_nodes, activation='relu', kernel_initializer=GlorotUniform() ,kernel_regularizer=regularizers.l1_l2(l1=0.001, l2=0.001), input_shape=input_shape))\n",
        "    model.add(Dropout(dropout))\n",
        "\n",
        "    model.add(Dense(layer_nodes, activation='relu', kernel_initializer=GlorotUniform(), kernel_regularizer=regularizers.l1_l2(l1=0.001, l2=0.001)))\n",
        "    model.add(Dropout(dropout))\n",
        "\n",
        "    model.add(Dense(layer_nodes, activation='relu', kernel_initializer=GlorotUniform(), kernel_regularizer=regularizers.l1_l2(l1=0.001, l2=0.001)))\n",
        "    model.add(Dropout(dropout))\n",
        "     \n",
        "    model.add(Dense(layer_nodes, activation='relu', kernel_initializer=GlorotUniform(), kernel_regularizer=regularizers.l1_l2(l1=0.001, l2=0.001)))\n",
        "    model.add(Dropout(dropout))\n",
        "\n",
        "    model.add(Dense(1, activation='sigmoid'))\n",
        "\n",
        "    model.compile(loss='binary_crossentropy',\n",
        "                  optimizer=Adam(lr=alpha, beta_1=0.9, beta_2=0.999, epsilon=1e-08),\n",
        "                  metrics=['accuracy'])\n",
        "    \n",
        "    return model"
      ],
      "execution_count": 0,
      "outputs": []
    },
    {
      "cell_type": "markdown",
      "metadata": {
        "id": "UoY28WPr2tsJ",
        "colab_type": "text"
      },
      "source": [
        "## Model Trainer Function"
      ]
    },
    {
      "cell_type": "code",
      "metadata": {
        "id": "cNkhKXVK6AM1",
        "colab_type": "code",
        "colab": {}
      },
      "source": [
        "def dnn_model_trainer(model, X_train, y_train, epochs=300, batch_size=32, shuffle=True, validation_split=0.2):\n",
        "  history = model.fit(X_train, y_train, epochs=epochs, batch_size=batch_size,shuffle=shuffle, validation_split=validation_split)\n",
        "  return model, history"
      ],
      "execution_count": 0,
      "outputs": []
    },
    {
      "cell_type": "markdown",
      "metadata": {
        "id": "CJcdnaLy5HtB",
        "colab_type": "text"
      },
      "source": [
        "## Model Predictor Function"
      ]
    },
    {
      "cell_type": "code",
      "metadata": {
        "id": "tDfbMi5z5Me9",
        "colab_type": "code",
        "colab": {}
      },
      "source": [
        "def dnn_model_predictor(model, X_test):\n",
        "  y_pred = model.predict(X_test)\n",
        "  y_pred = y_pred.round().astype(int)\n",
        "  return y_pred"
      ],
      "execution_count": 0,
      "outputs": []
    },
    {
      "cell_type": "markdown",
      "metadata": {
        "id": "aYzPjLQDNU4A",
        "colab_type": "text"
      },
      "source": [
        "## Model Creatrion"
      ]
    },
    {
      "cell_type": "code",
      "metadata": {
        "id": "m7oJQPjgNVhm",
        "colab_type": "code",
        "colab": {
          "base_uri": "https://localhost:8080/",
          "height": 91
        },
        "outputId": "79aa38ad-1ff8-4dc0-fccb-34c3d2f65833"
      },
      "source": [
        "dnn_classifier = dnn_model_builder(input_shape=(X_train_standardized.shape[1], ))"
      ],
      "execution_count": 42,
      "outputs": [
        {
          "output_type": "stream",
          "text": [
            "WARNING:tensorflow:From /usr/local/lib/python3.6/dist-packages/tensorflow/python/ops/resource_variable_ops.py:1666: calling BaseResourceVariable.__init__ (from tensorflow.python.ops.resource_variable_ops) with constraint is deprecated and will be removed in a future version.\n",
            "Instructions for updating:\n",
            "If using Keras pass *_constraint arguments to layers.\n"
          ],
          "name": "stdout"
        }
      ]
    },
    {
      "cell_type": "markdown",
      "metadata": {
        "id": "zmRQ5Zp5NbuN",
        "colab_type": "text"
      },
      "source": [
        "## Train & Prediction On Standard Data\n",
        "\n",
        "\n"
      ]
    },
    {
      "cell_type": "code",
      "metadata": {
        "id": "vYpQsTy6VG4R",
        "colab_type": "code",
        "outputId": "a4607027-19d7-42ec-aa6c-b61e183e3f0a",
        "colab": {
          "base_uri": "https://localhost:8080/",
          "height": 1000
        }
      },
      "source": [
        "dnn_classifier, history = dnn_model_trainer(dnn_classifier, X_train_standardized, y_train)"
      ],
      "execution_count": 43,
      "outputs": [
        {
          "output_type": "stream",
          "text": [
            "Train on 8195 samples, validate on 2049 samples\n",
            "Epoch 1/300\n",
            "8195/8195 [==============================] - 1s 77us/sample - loss: 1.6990 - accuracy: 0.7536 - val_loss: 1.1780 - val_accuracy: 0.7911\n",
            "Epoch 2/300\n",
            "8195/8195 [==============================] - 1s 65us/sample - loss: 0.9393 - accuracy: 0.7876 - val_loss: 0.7360 - val_accuracy: 0.7945\n",
            "Epoch 3/300\n",
            "8195/8195 [==============================] - 1s 66us/sample - loss: 0.6662 - accuracy: 0.7902 - val_loss: 0.5949 - val_accuracy: 0.7926\n",
            "Epoch 4/300\n",
            "8195/8195 [==============================] - 1s 63us/sample - loss: 0.5765 - accuracy: 0.7887 - val_loss: 0.5422 - val_accuracy: 0.8009\n",
            "Epoch 5/300\n",
            "8195/8195 [==============================] - 1s 66us/sample - loss: 0.5494 - accuracy: 0.7855 - val_loss: 0.5219 - val_accuracy: 0.8004\n",
            "Epoch 6/300\n",
            "8195/8195 [==============================] - 1s 64us/sample - loss: 0.5301 - accuracy: 0.7921 - val_loss: 0.5087 - val_accuracy: 0.7970\n",
            "Epoch 7/300\n",
            "8195/8195 [==============================] - 1s 65us/sample - loss: 0.5194 - accuracy: 0.7885 - val_loss: 0.5010 - val_accuracy: 0.7960\n",
            "Epoch 8/300\n",
            "8195/8195 [==============================] - 1s 64us/sample - loss: 0.5149 - accuracy: 0.7849 - val_loss: 0.4982 - val_accuracy: 0.7980\n",
            "Epoch 9/300\n",
            "8195/8195 [==============================] - 1s 64us/sample - loss: 0.5080 - accuracy: 0.7899 - val_loss: 0.4913 - val_accuracy: 0.8009\n",
            "Epoch 10/300\n",
            "8195/8195 [==============================] - 1s 64us/sample - loss: 0.5060 - accuracy: 0.7889 - val_loss: 0.4893 - val_accuracy: 0.8009\n",
            "Epoch 11/300\n",
            "8195/8195 [==============================] - 1s 65us/sample - loss: 0.5030 - accuracy: 0.7917 - val_loss: 0.4873 - val_accuracy: 0.8004\n",
            "Epoch 12/300\n",
            "8195/8195 [==============================] - 1s 63us/sample - loss: 0.5025 - accuracy: 0.7857 - val_loss: 0.4863 - val_accuracy: 0.8028\n",
            "Epoch 13/300\n",
            "8195/8195 [==============================] - 1s 64us/sample - loss: 0.4996 - accuracy: 0.7890 - val_loss: 0.4843 - val_accuracy: 0.7960\n",
            "Epoch 14/300\n",
            "8195/8195 [==============================] - 1s 66us/sample - loss: 0.4998 - accuracy: 0.7883 - val_loss: 0.4832 - val_accuracy: 0.8009\n",
            "Epoch 15/300\n",
            "8195/8195 [==============================] - 1s 64us/sample - loss: 0.4954 - accuracy: 0.7863 - val_loss: 0.4842 - val_accuracy: 0.7999\n",
            "Epoch 16/300\n",
            "8195/8195 [==============================] - 1s 65us/sample - loss: 0.4997 - accuracy: 0.7856 - val_loss: 0.4821 - val_accuracy: 0.8014\n",
            "Epoch 17/300\n",
            "8195/8195 [==============================] - 1s 66us/sample - loss: 0.4947 - accuracy: 0.7938 - val_loss: 0.4776 - val_accuracy: 0.8019\n",
            "Epoch 18/300\n",
            "8195/8195 [==============================] - 1s 63us/sample - loss: 0.4948 - accuracy: 0.7874 - val_loss: 0.4786 - val_accuracy: 0.7994\n",
            "Epoch 19/300\n",
            "8195/8195 [==============================] - 1s 65us/sample - loss: 0.4911 - accuracy: 0.7874 - val_loss: 0.4842 - val_accuracy: 0.7989\n",
            "Epoch 20/300\n",
            "8195/8195 [==============================] - 1s 65us/sample - loss: 0.4873 - accuracy: 0.7908 - val_loss: 0.4747 - val_accuracy: 0.8048\n",
            "Epoch 21/300\n",
            "8195/8195 [==============================] - 1s 64us/sample - loss: 0.4902 - accuracy: 0.7930 - val_loss: 0.4749 - val_accuracy: 0.8023\n",
            "Epoch 22/300\n",
            "8195/8195 [==============================] - 1s 66us/sample - loss: 0.4875 - accuracy: 0.7965 - val_loss: 0.4755 - val_accuracy: 0.7999\n",
            "Epoch 23/300\n",
            "8195/8195 [==============================] - 1s 64us/sample - loss: 0.4868 - accuracy: 0.7906 - val_loss: 0.4741 - val_accuracy: 0.8004\n",
            "Epoch 24/300\n",
            "8195/8195 [==============================] - 1s 64us/sample - loss: 0.4881 - accuracy: 0.7908 - val_loss: 0.4745 - val_accuracy: 0.8043\n",
            "Epoch 25/300\n",
            "8195/8195 [==============================] - 1s 63us/sample - loss: 0.4891 - accuracy: 0.7917 - val_loss: 0.4756 - val_accuracy: 0.8019\n",
            "Epoch 26/300\n",
            "8195/8195 [==============================] - 1s 64us/sample - loss: 0.4884 - accuracy: 0.7919 - val_loss: 0.4741 - val_accuracy: 0.7984\n",
            "Epoch 27/300\n",
            "8195/8195 [==============================] - 1s 64us/sample - loss: 0.4865 - accuracy: 0.7961 - val_loss: 0.4731 - val_accuracy: 0.7989\n",
            "Epoch 28/300\n",
            "8195/8195 [==============================] - 1s 65us/sample - loss: 0.4863 - accuracy: 0.7905 - val_loss: 0.4773 - val_accuracy: 0.8023\n",
            "Epoch 29/300\n",
            "8195/8195 [==============================] - 1s 63us/sample - loss: 0.4844 - accuracy: 0.7927 - val_loss: 0.4734 - val_accuracy: 0.8038\n",
            "Epoch 30/300\n",
            "8195/8195 [==============================] - 1s 64us/sample - loss: 0.4856 - accuracy: 0.7924 - val_loss: 0.4740 - val_accuracy: 0.8014\n",
            "Epoch 31/300\n",
            "8195/8195 [==============================] - 1s 63us/sample - loss: 0.4839 - accuracy: 0.7916 - val_loss: 0.4760 - val_accuracy: 0.8014\n",
            "Epoch 32/300\n",
            "8195/8195 [==============================] - 1s 64us/sample - loss: 0.4850 - accuracy: 0.7918 - val_loss: 0.4727 - val_accuracy: 0.8019\n",
            "Epoch 33/300\n",
            "8195/8195 [==============================] - 1s 64us/sample - loss: 0.4862 - accuracy: 0.7885 - val_loss: 0.4744 - val_accuracy: 0.8019\n",
            "Epoch 34/300\n",
            "8195/8195 [==============================] - 1s 65us/sample - loss: 0.4844 - accuracy: 0.7952 - val_loss: 0.4721 - val_accuracy: 0.8019\n",
            "Epoch 35/300\n",
            "8195/8195 [==============================] - 1s 65us/sample - loss: 0.4811 - accuracy: 0.7897 - val_loss: 0.4745 - val_accuracy: 0.7994\n",
            "Epoch 36/300\n",
            "8195/8195 [==============================] - 1s 65us/sample - loss: 0.4837 - accuracy: 0.7944 - val_loss: 0.4693 - val_accuracy: 0.8028\n",
            "Epoch 37/300\n",
            "8195/8195 [==============================] - 1s 63us/sample - loss: 0.4873 - accuracy: 0.7908 - val_loss: 0.4775 - val_accuracy: 0.7999\n",
            "Epoch 38/300\n",
            "8195/8195 [==============================] - 1s 64us/sample - loss: 0.4809 - accuracy: 0.7950 - val_loss: 0.4720 - val_accuracy: 0.8014\n",
            "Epoch 39/300\n",
            "8195/8195 [==============================] - 1s 64us/sample - loss: 0.4876 - accuracy: 0.7935 - val_loss: 0.4742 - val_accuracy: 0.7984\n",
            "Epoch 40/300\n",
            "8195/8195 [==============================] - 1s 65us/sample - loss: 0.4819 - accuracy: 0.7919 - val_loss: 0.4720 - val_accuracy: 0.7984\n",
            "Epoch 41/300\n",
            "8195/8195 [==============================] - 1s 64us/sample - loss: 0.4795 - accuracy: 0.7912 - val_loss: 0.4706 - val_accuracy: 0.8004\n",
            "Epoch 42/300\n",
            "8195/8195 [==============================] - 1s 63us/sample - loss: 0.4807 - accuracy: 0.7946 - val_loss: 0.4774 - val_accuracy: 0.7999\n",
            "Epoch 43/300\n",
            "8195/8195 [==============================] - 1s 66us/sample - loss: 0.4830 - accuracy: 0.7908 - val_loss: 0.4693 - val_accuracy: 0.8019\n",
            "Epoch 44/300\n",
            "8195/8195 [==============================] - 1s 65us/sample - loss: 0.4802 - accuracy: 0.7940 - val_loss: 0.4688 - val_accuracy: 0.8033\n",
            "Epoch 45/300\n",
            "8195/8195 [==============================] - 1s 64us/sample - loss: 0.4780 - accuracy: 0.7918 - val_loss: 0.4667 - val_accuracy: 0.8053\n",
            "Epoch 46/300\n",
            "8195/8195 [==============================] - 1s 64us/sample - loss: 0.4782 - accuracy: 0.7904 - val_loss: 0.4694 - val_accuracy: 0.8019\n",
            "Epoch 47/300\n",
            "8195/8195 [==============================] - 1s 64us/sample - loss: 0.4849 - accuracy: 0.7906 - val_loss: 0.4683 - val_accuracy: 0.8019\n",
            "Epoch 48/300\n",
            "8195/8195 [==============================] - 1s 65us/sample - loss: 0.4778 - accuracy: 0.7984 - val_loss: 0.4715 - val_accuracy: 0.7994\n",
            "Epoch 49/300\n",
            "8195/8195 [==============================] - 1s 66us/sample - loss: 0.4843 - accuracy: 0.7916 - val_loss: 0.4678 - val_accuracy: 0.8053\n",
            "Epoch 50/300\n",
            "8195/8195 [==============================] - 1s 64us/sample - loss: 0.4805 - accuracy: 0.7963 - val_loss: 0.4745 - val_accuracy: 0.7984\n",
            "Epoch 51/300\n",
            "8195/8195 [==============================] - 1s 65us/sample - loss: 0.4784 - accuracy: 0.7910 - val_loss: 0.4686 - val_accuracy: 0.7984\n",
            "Epoch 52/300\n",
            "8195/8195 [==============================] - 1s 65us/sample - loss: 0.4820 - accuracy: 0.7922 - val_loss: 0.4689 - val_accuracy: 0.8028\n",
            "Epoch 53/300\n",
            "8195/8195 [==============================] - 1s 66us/sample - loss: 0.4796 - accuracy: 0.7921 - val_loss: 0.4759 - val_accuracy: 0.7945\n",
            "Epoch 54/300\n",
            "8195/8195 [==============================] - 1s 67us/sample - loss: 0.4765 - accuracy: 0.7987 - val_loss: 0.4684 - val_accuracy: 0.8009\n",
            "Epoch 55/300\n",
            "8195/8195 [==============================] - 1s 64us/sample - loss: 0.4747 - accuracy: 0.7959 - val_loss: 0.4681 - val_accuracy: 0.8009\n",
            "Epoch 56/300\n",
            "8195/8195 [==============================] - 1s 64us/sample - loss: 0.4762 - accuracy: 0.7955 - val_loss: 0.4678 - val_accuracy: 0.8038\n",
            "Epoch 57/300\n",
            "8195/8195 [==============================] - 1s 65us/sample - loss: 0.4793 - accuracy: 0.7908 - val_loss: 0.4701 - val_accuracy: 0.7970\n",
            "Epoch 58/300\n",
            "8195/8195 [==============================] - 1s 65us/sample - loss: 0.4777 - accuracy: 0.7989 - val_loss: 0.4669 - val_accuracy: 0.8014\n",
            "Epoch 59/300\n",
            "8195/8195 [==============================] - 1s 63us/sample - loss: 0.4787 - accuracy: 0.7917 - val_loss: 0.4690 - val_accuracy: 0.8038\n",
            "Epoch 60/300\n",
            "8195/8195 [==============================] - 1s 65us/sample - loss: 0.4764 - accuracy: 0.7935 - val_loss: 0.4687 - val_accuracy: 0.8028\n",
            "Epoch 61/300\n",
            "8195/8195 [==============================] - 1s 64us/sample - loss: 0.4767 - accuracy: 0.7977 - val_loss: 0.4682 - val_accuracy: 0.8038\n",
            "Epoch 62/300\n",
            "8195/8195 [==============================] - 1s 65us/sample - loss: 0.4746 - accuracy: 0.7976 - val_loss: 0.4660 - val_accuracy: 0.8043\n",
            "Epoch 63/300\n",
            "8195/8195 [==============================] - 1s 64us/sample - loss: 0.4738 - accuracy: 0.7973 - val_loss: 0.4695 - val_accuracy: 0.8023\n",
            "Epoch 64/300\n",
            "8195/8195 [==============================] - 1s 64us/sample - loss: 0.4779 - accuracy: 0.7951 - val_loss: 0.4678 - val_accuracy: 0.8033\n",
            "Epoch 65/300\n",
            "8195/8195 [==============================] - 1s 63us/sample - loss: 0.4761 - accuracy: 0.7965 - val_loss: 0.4632 - val_accuracy: 0.8038\n",
            "Epoch 66/300\n",
            "8195/8195 [==============================] - 1s 64us/sample - loss: 0.4773 - accuracy: 0.7965 - val_loss: 0.4648 - val_accuracy: 0.8028\n",
            "Epoch 67/300\n",
            "8195/8195 [==============================] - 1s 63us/sample - loss: 0.4738 - accuracy: 0.7980 - val_loss: 0.4660 - val_accuracy: 0.8043\n",
            "Epoch 68/300\n",
            "8195/8195 [==============================] - 1s 65us/sample - loss: 0.4775 - accuracy: 0.7937 - val_loss: 0.4679 - val_accuracy: 0.8014\n",
            "Epoch 69/300\n",
            "8195/8195 [==============================] - 1s 64us/sample - loss: 0.4794 - accuracy: 0.7950 - val_loss: 0.4647 - val_accuracy: 0.8019\n",
            "Epoch 70/300\n",
            "8195/8195 [==============================] - 1s 66us/sample - loss: 0.4765 - accuracy: 0.7923 - val_loss: 0.4672 - val_accuracy: 0.7999\n",
            "Epoch 71/300\n",
            "8195/8195 [==============================] - 1s 65us/sample - loss: 0.4760 - accuracy: 0.7956 - val_loss: 0.4678 - val_accuracy: 0.7984\n",
            "Epoch 72/300\n",
            "8195/8195 [==============================] - 1s 65us/sample - loss: 0.4729 - accuracy: 0.7937 - val_loss: 0.4665 - val_accuracy: 0.8004\n",
            "Epoch 73/300\n",
            "8195/8195 [==============================] - 1s 62us/sample - loss: 0.4755 - accuracy: 0.7937 - val_loss: 0.4663 - val_accuracy: 0.8004\n",
            "Epoch 74/300\n",
            "8195/8195 [==============================] - 1s 66us/sample - loss: 0.4743 - accuracy: 0.7905 - val_loss: 0.4681 - val_accuracy: 0.7994\n",
            "Epoch 75/300\n",
            "8195/8195 [==============================] - 1s 64us/sample - loss: 0.4740 - accuracy: 0.7978 - val_loss: 0.4645 - val_accuracy: 0.8033\n",
            "Epoch 76/300\n",
            "8195/8195 [==============================] - 1s 65us/sample - loss: 0.4733 - accuracy: 0.7948 - val_loss: 0.4656 - val_accuracy: 0.8028\n",
            "Epoch 77/300\n",
            "8195/8195 [==============================] - 1s 66us/sample - loss: 0.4752 - accuracy: 0.7945 - val_loss: 0.4701 - val_accuracy: 0.8009\n",
            "Epoch 78/300\n",
            "8195/8195 [==============================] - 1s 64us/sample - loss: 0.4766 - accuracy: 0.7950 - val_loss: 0.4675 - val_accuracy: 0.8038\n",
            "Epoch 79/300\n",
            "8195/8195 [==============================] - 1s 64us/sample - loss: 0.4762 - accuracy: 0.7919 - val_loss: 0.4644 - val_accuracy: 0.8048\n",
            "Epoch 80/300\n",
            "8195/8195 [==============================] - 1s 63us/sample - loss: 0.4772 - accuracy: 0.7912 - val_loss: 0.4651 - val_accuracy: 0.7999\n",
            "Epoch 81/300\n",
            "8195/8195 [==============================] - 1s 65us/sample - loss: 0.4714 - accuracy: 0.7971 - val_loss: 0.4680 - val_accuracy: 0.7945\n",
            "Epoch 82/300\n",
            "8195/8195 [==============================] - 1s 65us/sample - loss: 0.4768 - accuracy: 0.7915 - val_loss: 0.4677 - val_accuracy: 0.7970\n",
            "Epoch 83/300\n",
            "8195/8195 [==============================] - 1s 65us/sample - loss: 0.4708 - accuracy: 0.7995 - val_loss: 0.4637 - val_accuracy: 0.8004\n",
            "Epoch 84/300\n",
            "8195/8195 [==============================] - 1s 65us/sample - loss: 0.4754 - accuracy: 0.7948 - val_loss: 0.4644 - val_accuracy: 0.8019\n",
            "Epoch 85/300\n",
            "8195/8195 [==============================] - 1s 64us/sample - loss: 0.4728 - accuracy: 0.7946 - val_loss: 0.4653 - val_accuracy: 0.7999\n",
            "Epoch 86/300\n",
            "8195/8195 [==============================] - 1s 64us/sample - loss: 0.4737 - accuracy: 0.8002 - val_loss: 0.4630 - val_accuracy: 0.8014\n",
            "Epoch 87/300\n",
            "8195/8195 [==============================] - 1s 65us/sample - loss: 0.4716 - accuracy: 0.7990 - val_loss: 0.4639 - val_accuracy: 0.8043\n",
            "Epoch 88/300\n",
            "8195/8195 [==============================] - 1s 64us/sample - loss: 0.4752 - accuracy: 0.7968 - val_loss: 0.4650 - val_accuracy: 0.8009\n",
            "Epoch 89/300\n",
            "8195/8195 [==============================] - 1s 66us/sample - loss: 0.4766 - accuracy: 0.7926 - val_loss: 0.4624 - val_accuracy: 0.8053\n",
            "Epoch 90/300\n",
            "8195/8195 [==============================] - 1s 63us/sample - loss: 0.4727 - accuracy: 0.7960 - val_loss: 0.4624 - val_accuracy: 0.8038\n",
            "Epoch 91/300\n",
            "8195/8195 [==============================] - 1s 65us/sample - loss: 0.4746 - accuracy: 0.7980 - val_loss: 0.4616 - val_accuracy: 0.7999\n",
            "Epoch 92/300\n",
            "8195/8195 [==============================] - 1s 65us/sample - loss: 0.4711 - accuracy: 0.7977 - val_loss: 0.4657 - val_accuracy: 0.7984\n",
            "Epoch 93/300\n",
            "8195/8195 [==============================] - 1s 66us/sample - loss: 0.4720 - accuracy: 0.7968 - val_loss: 0.4637 - val_accuracy: 0.8043\n",
            "Epoch 94/300\n",
            "8195/8195 [==============================] - 1s 65us/sample - loss: 0.4709 - accuracy: 0.7972 - val_loss: 0.4604 - val_accuracy: 0.8033\n",
            "Epoch 95/300\n",
            "8195/8195 [==============================] - 1s 66us/sample - loss: 0.4712 - accuracy: 0.7982 - val_loss: 0.4669 - val_accuracy: 0.8004\n",
            "Epoch 96/300\n",
            "8195/8195 [==============================] - 1s 68us/sample - loss: 0.4733 - accuracy: 0.7996 - val_loss: 0.4620 - val_accuracy: 0.8043\n",
            "Epoch 97/300\n",
            "8195/8195 [==============================] - 1s 68us/sample - loss: 0.4735 - accuracy: 0.7950 - val_loss: 0.4699 - val_accuracy: 0.7926\n",
            "Epoch 98/300\n",
            "8195/8195 [==============================] - 1s 67us/sample - loss: 0.4713 - accuracy: 0.7929 - val_loss: 0.4654 - val_accuracy: 0.8014\n",
            "Epoch 99/300\n",
            "8195/8195 [==============================] - 1s 66us/sample - loss: 0.4752 - accuracy: 0.7956 - val_loss: 0.4660 - val_accuracy: 0.8009\n",
            "Epoch 100/300\n",
            "8195/8195 [==============================] - 1s 67us/sample - loss: 0.4714 - accuracy: 0.7965 - val_loss: 0.4662 - val_accuracy: 0.8004\n",
            "Epoch 101/300\n",
            "8195/8195 [==============================] - 1s 65us/sample - loss: 0.4699 - accuracy: 0.7963 - val_loss: 0.4614 - val_accuracy: 0.7989\n",
            "Epoch 102/300\n",
            "8195/8195 [==============================] - 1s 68us/sample - loss: 0.4761 - accuracy: 0.7971 - val_loss: 0.4688 - val_accuracy: 0.7931\n",
            "Epoch 103/300\n",
            "8195/8195 [==============================] - 1s 65us/sample - loss: 0.4732 - accuracy: 0.7941 - val_loss: 0.4608 - val_accuracy: 0.8023\n",
            "Epoch 104/300\n",
            "8195/8195 [==============================] - 1s 67us/sample - loss: 0.4714 - accuracy: 0.7959 - val_loss: 0.4607 - val_accuracy: 0.7999\n",
            "Epoch 105/300\n",
            "8195/8195 [==============================] - 1s 66us/sample - loss: 0.4717 - accuracy: 0.7940 - val_loss: 0.4680 - val_accuracy: 0.7940\n",
            "Epoch 106/300\n",
            "8195/8195 [==============================] - 1s 65us/sample - loss: 0.4727 - accuracy: 0.7965 - val_loss: 0.4622 - val_accuracy: 0.7989\n",
            "Epoch 107/300\n",
            "8195/8195 [==============================] - 1s 67us/sample - loss: 0.4762 - accuracy: 0.7934 - val_loss: 0.4616 - val_accuracy: 0.7980\n",
            "Epoch 108/300\n",
            "8195/8195 [==============================] - 1s 67us/sample - loss: 0.4713 - accuracy: 0.7933 - val_loss: 0.4596 - val_accuracy: 0.7999\n",
            "Epoch 109/300\n",
            "8195/8195 [==============================] - 1s 68us/sample - loss: 0.4732 - accuracy: 0.7955 - val_loss: 0.4608 - val_accuracy: 0.7999\n",
            "Epoch 110/300\n",
            "8195/8195 [==============================] - 1s 67us/sample - loss: 0.4700 - accuracy: 0.7933 - val_loss: 0.4622 - val_accuracy: 0.8019\n",
            "Epoch 111/300\n",
            "8195/8195 [==============================] - 1s 67us/sample - loss: 0.4717 - accuracy: 0.7952 - val_loss: 0.4624 - val_accuracy: 0.8009\n",
            "Epoch 112/300\n",
            "8195/8195 [==============================] - 1s 68us/sample - loss: 0.4705 - accuracy: 0.7968 - val_loss: 0.4625 - val_accuracy: 0.8033\n",
            "Epoch 113/300\n",
            "8195/8195 [==============================] - 1s 66us/sample - loss: 0.4757 - accuracy: 0.7908 - val_loss: 0.4622 - val_accuracy: 0.8023\n",
            "Epoch 114/300\n",
            "8195/8195 [==============================] - 1s 64us/sample - loss: 0.4679 - accuracy: 0.7987 - val_loss: 0.4673 - val_accuracy: 0.7975\n",
            "Epoch 115/300\n",
            "8195/8195 [==============================] - 1s 65us/sample - loss: 0.4757 - accuracy: 0.7951 - val_loss: 0.4608 - val_accuracy: 0.8014\n",
            "Epoch 116/300\n",
            "8195/8195 [==============================] - 1s 63us/sample - loss: 0.4734 - accuracy: 0.7935 - val_loss: 0.4609 - val_accuracy: 0.8019\n",
            "Epoch 117/300\n",
            "8195/8195 [==============================] - 1s 64us/sample - loss: 0.4715 - accuracy: 0.7954 - val_loss: 0.4630 - val_accuracy: 0.7970\n",
            "Epoch 118/300\n",
            "8195/8195 [==============================] - 1s 65us/sample - loss: 0.4729 - accuracy: 0.7972 - val_loss: 0.4671 - val_accuracy: 0.7989\n",
            "Epoch 119/300\n",
            "8195/8195 [==============================] - 1s 63us/sample - loss: 0.4739 - accuracy: 0.7976 - val_loss: 0.4656 - val_accuracy: 0.7989\n",
            "Epoch 120/300\n",
            "8195/8195 [==============================] - 1s 63us/sample - loss: 0.4696 - accuracy: 0.7940 - val_loss: 0.4610 - val_accuracy: 0.8004\n",
            "Epoch 121/300\n",
            "8195/8195 [==============================] - 1s 64us/sample - loss: 0.4708 - accuracy: 0.7948 - val_loss: 0.4604 - val_accuracy: 0.8023\n",
            "Epoch 122/300\n",
            "8195/8195 [==============================] - 1s 65us/sample - loss: 0.4714 - accuracy: 0.7982 - val_loss: 0.4690 - val_accuracy: 0.7931\n",
            "Epoch 123/300\n",
            "8195/8195 [==============================] - 1s 63us/sample - loss: 0.4698 - accuracy: 0.7965 - val_loss: 0.4622 - val_accuracy: 0.8028\n",
            "Epoch 124/300\n",
            "8195/8195 [==============================] - 1s 66us/sample - loss: 0.4742 - accuracy: 0.7951 - val_loss: 0.4613 - val_accuracy: 0.8028\n",
            "Epoch 125/300\n",
            "8195/8195 [==============================] - 1s 64us/sample - loss: 0.4706 - accuracy: 0.7976 - val_loss: 0.4597 - val_accuracy: 0.8009\n",
            "Epoch 126/300\n",
            "8195/8195 [==============================] - 1s 65us/sample - loss: 0.4706 - accuracy: 0.7978 - val_loss: 0.4671 - val_accuracy: 0.7926\n",
            "Epoch 127/300\n",
            "8195/8195 [==============================] - 1s 64us/sample - loss: 0.4683 - accuracy: 0.7990 - val_loss: 0.4623 - val_accuracy: 0.7999\n",
            "Epoch 128/300\n",
            "8195/8195 [==============================] - 1s 65us/sample - loss: 0.4724 - accuracy: 0.7927 - val_loss: 0.4619 - val_accuracy: 0.8023\n",
            "Epoch 129/300\n",
            "8195/8195 [==============================] - 1s 64us/sample - loss: 0.4725 - accuracy: 0.7989 - val_loss: 0.4668 - val_accuracy: 0.7960\n",
            "Epoch 130/300\n",
            "8195/8195 [==============================] - 1s 65us/sample - loss: 0.4707 - accuracy: 0.7955 - val_loss: 0.4605 - val_accuracy: 0.8009\n",
            "Epoch 131/300\n",
            "8195/8195 [==============================] - 1s 65us/sample - loss: 0.4705 - accuracy: 0.7965 - val_loss: 0.4599 - val_accuracy: 0.8033\n",
            "Epoch 132/300\n",
            "8195/8195 [==============================] - 1s 67us/sample - loss: 0.4709 - accuracy: 0.7954 - val_loss: 0.4687 - val_accuracy: 0.7955\n",
            "Epoch 133/300\n",
            "8195/8195 [==============================] - 1s 65us/sample - loss: 0.4726 - accuracy: 0.7956 - val_loss: 0.4622 - val_accuracy: 0.7989\n",
            "Epoch 134/300\n",
            "8195/8195 [==============================] - 1s 65us/sample - loss: 0.4670 - accuracy: 0.7976 - val_loss: 0.4629 - val_accuracy: 0.8014\n",
            "Epoch 135/300\n",
            "8195/8195 [==============================] - 1s 66us/sample - loss: 0.4703 - accuracy: 0.7944 - val_loss: 0.4622 - val_accuracy: 0.7989\n",
            "Epoch 136/300\n",
            "8195/8195 [==============================] - 1s 64us/sample - loss: 0.4686 - accuracy: 0.7930 - val_loss: 0.4639 - val_accuracy: 0.8014\n",
            "Epoch 137/300\n",
            "8195/8195 [==============================] - 1s 66us/sample - loss: 0.4749 - accuracy: 0.7917 - val_loss: 0.4645 - val_accuracy: 0.7984\n",
            "Epoch 138/300\n",
            "8195/8195 [==============================] - 1s 65us/sample - loss: 0.4729 - accuracy: 0.7926 - val_loss: 0.4620 - val_accuracy: 0.8028\n",
            "Epoch 139/300\n",
            "8195/8195 [==============================] - 1s 66us/sample - loss: 0.4709 - accuracy: 0.7946 - val_loss: 0.4601 - val_accuracy: 0.8043\n",
            "Epoch 140/300\n",
            "8195/8195 [==============================] - 1s 63us/sample - loss: 0.4725 - accuracy: 0.7928 - val_loss: 0.4626 - val_accuracy: 0.8014\n",
            "Epoch 141/300\n",
            "8195/8195 [==============================] - 1s 65us/sample - loss: 0.4710 - accuracy: 0.7960 - val_loss: 0.4599 - val_accuracy: 0.8033\n",
            "Epoch 142/300\n",
            "8195/8195 [==============================] - 1s 63us/sample - loss: 0.4681 - accuracy: 0.7979 - val_loss: 0.4597 - val_accuracy: 0.8009\n",
            "Epoch 143/300\n",
            "8195/8195 [==============================] - 1s 64us/sample - loss: 0.4742 - accuracy: 0.7889 - val_loss: 0.4633 - val_accuracy: 0.7955\n",
            "Epoch 144/300\n",
            "8195/8195 [==============================] - 1s 65us/sample - loss: 0.4676 - accuracy: 0.7955 - val_loss: 0.4599 - val_accuracy: 0.8004\n",
            "Epoch 145/300\n",
            "8195/8195 [==============================] - 1s 64us/sample - loss: 0.4713 - accuracy: 0.7969 - val_loss: 0.4603 - val_accuracy: 0.8033\n",
            "Epoch 146/300\n",
            "8195/8195 [==============================] - 1s 64us/sample - loss: 0.4697 - accuracy: 0.7972 - val_loss: 0.4617 - val_accuracy: 0.8009\n",
            "Epoch 147/300\n",
            "8195/8195 [==============================] - 1s 65us/sample - loss: 0.4695 - accuracy: 0.7919 - val_loss: 0.4668 - val_accuracy: 0.7965\n",
            "Epoch 148/300\n",
            "8195/8195 [==============================] - 1s 64us/sample - loss: 0.4728 - accuracy: 0.7950 - val_loss: 0.4602 - val_accuracy: 0.8033\n",
            "Epoch 149/300\n",
            "8195/8195 [==============================] - 1s 66us/sample - loss: 0.4706 - accuracy: 0.7951 - val_loss: 0.4601 - val_accuracy: 0.8048\n",
            "Epoch 150/300\n",
            "8195/8195 [==============================] - 1s 65us/sample - loss: 0.4748 - accuracy: 0.7884 - val_loss: 0.4601 - val_accuracy: 0.8004\n",
            "Epoch 151/300\n",
            "8195/8195 [==============================] - 1s 65us/sample - loss: 0.4724 - accuracy: 0.7935 - val_loss: 0.4632 - val_accuracy: 0.8009\n",
            "Epoch 152/300\n",
            "8195/8195 [==============================] - 1s 66us/sample - loss: 0.4680 - accuracy: 0.8006 - val_loss: 0.4619 - val_accuracy: 0.8009\n",
            "Epoch 153/300\n",
            "8195/8195 [==============================] - 1s 65us/sample - loss: 0.4734 - accuracy: 0.7955 - val_loss: 0.4641 - val_accuracy: 0.7965\n",
            "Epoch 154/300\n",
            "8195/8195 [==============================] - 1s 65us/sample - loss: 0.4725 - accuracy: 0.7951 - val_loss: 0.4608 - val_accuracy: 0.8033\n",
            "Epoch 155/300\n",
            "8195/8195 [==============================] - 1s 64us/sample - loss: 0.4673 - accuracy: 0.7963 - val_loss: 0.4593 - val_accuracy: 0.8019\n",
            "Epoch 156/300\n",
            "8195/8195 [==============================] - 1s 65us/sample - loss: 0.4703 - accuracy: 0.7962 - val_loss: 0.4599 - val_accuracy: 0.8038\n",
            "Epoch 157/300\n",
            "8195/8195 [==============================] - 1s 63us/sample - loss: 0.4731 - accuracy: 0.7980 - val_loss: 0.4589 - val_accuracy: 0.8048\n",
            "Epoch 158/300\n",
            "8195/8195 [==============================] - 1s 64us/sample - loss: 0.4673 - accuracy: 0.7957 - val_loss: 0.4643 - val_accuracy: 0.7980\n",
            "Epoch 159/300\n",
            "8195/8195 [==============================] - 1s 65us/sample - loss: 0.4681 - accuracy: 0.7941 - val_loss: 0.4642 - val_accuracy: 0.7960\n",
            "Epoch 160/300\n",
            "8195/8195 [==============================] - 1s 64us/sample - loss: 0.4713 - accuracy: 0.7954 - val_loss: 0.4619 - val_accuracy: 0.7975\n",
            "Epoch 161/300\n",
            "8195/8195 [==============================] - 1s 64us/sample - loss: 0.4682 - accuracy: 0.7962 - val_loss: 0.4639 - val_accuracy: 0.8028\n",
            "Epoch 162/300\n",
            "8195/8195 [==============================] - 1s 65us/sample - loss: 0.4717 - accuracy: 0.7922 - val_loss: 0.4604 - val_accuracy: 0.7975\n",
            "Epoch 163/300\n",
            "8195/8195 [==============================] - 1s 64us/sample - loss: 0.4705 - accuracy: 0.7968 - val_loss: 0.4608 - val_accuracy: 0.7999\n",
            "Epoch 164/300\n",
            "8195/8195 [==============================] - 1s 66us/sample - loss: 0.4714 - accuracy: 0.7962 - val_loss: 0.4580 - val_accuracy: 0.7989\n",
            "Epoch 165/300\n",
            "8195/8195 [==============================] - 1s 64us/sample - loss: 0.4694 - accuracy: 0.7976 - val_loss: 0.4601 - val_accuracy: 0.8004\n",
            "Epoch 166/300\n",
            "8195/8195 [==============================] - 1s 64us/sample - loss: 0.4707 - accuracy: 0.7941 - val_loss: 0.4616 - val_accuracy: 0.7994\n",
            "Epoch 167/300\n",
            "8195/8195 [==============================] - 1s 63us/sample - loss: 0.4709 - accuracy: 0.7956 - val_loss: 0.4642 - val_accuracy: 0.8019\n",
            "Epoch 168/300\n",
            "8195/8195 [==============================] - 1s 65us/sample - loss: 0.4722 - accuracy: 0.7912 - val_loss: 0.4638 - val_accuracy: 0.7989\n",
            "Epoch 169/300\n",
            "8195/8195 [==============================] - 1s 64us/sample - loss: 0.4677 - accuracy: 0.7985 - val_loss: 0.4586 - val_accuracy: 0.8023\n",
            "Epoch 170/300\n",
            "8195/8195 [==============================] - 1s 66us/sample - loss: 0.4723 - accuracy: 0.7929 - val_loss: 0.4581 - val_accuracy: 0.7989\n",
            "Epoch 171/300\n",
            "8195/8195 [==============================] - 1s 67us/sample - loss: 0.4722 - accuracy: 0.7968 - val_loss: 0.4593 - val_accuracy: 0.7999\n",
            "Epoch 172/300\n",
            "8195/8195 [==============================] - 1s 63us/sample - loss: 0.4705 - accuracy: 0.7978 - val_loss: 0.4609 - val_accuracy: 0.7999\n",
            "Epoch 173/300\n",
            "8195/8195 [==============================] - 1s 64us/sample - loss: 0.4719 - accuracy: 0.7943 - val_loss: 0.4596 - val_accuracy: 0.7936\n",
            "Epoch 174/300\n",
            "8195/8195 [==============================] - 1s 64us/sample - loss: 0.4658 - accuracy: 0.7946 - val_loss: 0.4620 - val_accuracy: 0.8033\n",
            "Epoch 175/300\n",
            "8195/8195 [==============================] - 1s 64us/sample - loss: 0.4703 - accuracy: 0.7955 - val_loss: 0.4696 - val_accuracy: 0.7911\n",
            "Epoch 176/300\n",
            "8195/8195 [==============================] - 1s 63us/sample - loss: 0.4717 - accuracy: 0.7927 - val_loss: 0.4603 - val_accuracy: 0.7970\n",
            "Epoch 177/300\n",
            "8195/8195 [==============================] - 1s 64us/sample - loss: 0.4721 - accuracy: 0.7927 - val_loss: 0.4587 - val_accuracy: 0.8038\n",
            "Epoch 178/300\n",
            "8195/8195 [==============================] - 1s 64us/sample - loss: 0.4672 - accuracy: 0.7965 - val_loss: 0.4598 - val_accuracy: 0.8009\n",
            "Epoch 179/300\n",
            "8195/8195 [==============================] - 1s 65us/sample - loss: 0.4680 - accuracy: 0.7929 - val_loss: 0.4610 - val_accuracy: 0.7980\n",
            "Epoch 180/300\n",
            "8195/8195 [==============================] - 1s 65us/sample - loss: 0.4690 - accuracy: 0.7940 - val_loss: 0.4600 - val_accuracy: 0.8004\n",
            "Epoch 181/300\n",
            "8195/8195 [==============================] - 1s 64us/sample - loss: 0.4671 - accuracy: 0.7950 - val_loss: 0.4597 - val_accuracy: 0.7950\n",
            "Epoch 182/300\n",
            "8195/8195 [==============================] - 1s 64us/sample - loss: 0.4718 - accuracy: 0.7930 - val_loss: 0.4585 - val_accuracy: 0.8019\n",
            "Epoch 183/300\n",
            "8195/8195 [==============================] - 1s 64us/sample - loss: 0.4730 - accuracy: 0.7948 - val_loss: 0.4624 - val_accuracy: 0.7984\n",
            "Epoch 184/300\n",
            "8195/8195 [==============================] - 1s 63us/sample - loss: 0.4630 - accuracy: 0.7974 - val_loss: 0.4608 - val_accuracy: 0.7999\n",
            "Epoch 185/300\n",
            "8195/8195 [==============================] - 1s 64us/sample - loss: 0.4688 - accuracy: 0.7959 - val_loss: 0.4587 - val_accuracy: 0.7994\n",
            "Epoch 186/300\n",
            "8195/8195 [==============================] - 1s 65us/sample - loss: 0.4691 - accuracy: 0.7957 - val_loss: 0.4598 - val_accuracy: 0.7970\n",
            "Epoch 187/300\n",
            "8195/8195 [==============================] - 1s 64us/sample - loss: 0.4654 - accuracy: 0.7946 - val_loss: 0.4621 - val_accuracy: 0.7970\n",
            "Epoch 188/300\n",
            "8195/8195 [==============================] - 1s 64us/sample - loss: 0.4691 - accuracy: 0.8000 - val_loss: 0.4638 - val_accuracy: 0.7965\n",
            "Epoch 189/300\n",
            "8195/8195 [==============================] - 1s 66us/sample - loss: 0.4683 - accuracy: 0.7955 - val_loss: 0.4613 - val_accuracy: 0.7999\n",
            "Epoch 190/300\n",
            "8195/8195 [==============================] - 1s 63us/sample - loss: 0.4679 - accuracy: 0.7976 - val_loss: 0.4575 - val_accuracy: 0.7999\n",
            "Epoch 191/300\n",
            "8195/8195 [==============================] - 1s 68us/sample - loss: 0.4713 - accuracy: 0.7969 - val_loss: 0.4567 - val_accuracy: 0.8028\n",
            "Epoch 192/300\n",
            "8195/8195 [==============================] - 1s 64us/sample - loss: 0.4660 - accuracy: 0.7969 - val_loss: 0.4583 - val_accuracy: 0.8067\n",
            "Epoch 193/300\n",
            "8195/8195 [==============================] - 1s 64us/sample - loss: 0.4712 - accuracy: 0.7957 - val_loss: 0.4593 - val_accuracy: 0.8038\n",
            "Epoch 194/300\n",
            "8195/8195 [==============================] - 1s 64us/sample - loss: 0.4728 - accuracy: 0.7945 - val_loss: 0.4601 - val_accuracy: 0.8014\n",
            "Epoch 195/300\n",
            "8195/8195 [==============================] - 1s 63us/sample - loss: 0.4711 - accuracy: 0.7912 - val_loss: 0.4588 - val_accuracy: 0.7989\n",
            "Epoch 196/300\n",
            "8195/8195 [==============================] - 1s 64us/sample - loss: 0.4682 - accuracy: 0.7935 - val_loss: 0.4628 - val_accuracy: 0.7975\n",
            "Epoch 197/300\n",
            "8195/8195 [==============================] - 1s 64us/sample - loss: 0.4668 - accuracy: 0.7978 - val_loss: 0.4582 - val_accuracy: 0.7999\n",
            "Epoch 198/300\n",
            "8195/8195 [==============================] - 1s 65us/sample - loss: 0.4701 - accuracy: 0.7901 - val_loss: 0.4615 - val_accuracy: 0.8009\n",
            "Epoch 199/300\n",
            "8195/8195 [==============================] - 1s 63us/sample - loss: 0.4684 - accuracy: 0.7959 - val_loss: 0.4607 - val_accuracy: 0.7960\n",
            "Epoch 200/300\n",
            "8195/8195 [==============================] - 1s 65us/sample - loss: 0.4678 - accuracy: 0.7952 - val_loss: 0.4600 - val_accuracy: 0.8033\n",
            "Epoch 201/300\n",
            "8195/8195 [==============================] - 1s 63us/sample - loss: 0.4727 - accuracy: 0.7937 - val_loss: 0.4624 - val_accuracy: 0.7980\n",
            "Epoch 202/300\n",
            "8195/8195 [==============================] - 1s 64us/sample - loss: 0.4658 - accuracy: 0.7980 - val_loss: 0.4601 - val_accuracy: 0.7999\n",
            "Epoch 203/300\n",
            "8195/8195 [==============================] - 1s 66us/sample - loss: 0.4693 - accuracy: 0.7917 - val_loss: 0.4594 - val_accuracy: 0.8009\n",
            "Epoch 204/300\n",
            "8195/8195 [==============================] - 1s 64us/sample - loss: 0.4676 - accuracy: 0.7989 - val_loss: 0.4597 - val_accuracy: 0.7975\n",
            "Epoch 205/300\n",
            "8195/8195 [==============================] - 1s 64us/sample - loss: 0.4674 - accuracy: 0.7969 - val_loss: 0.4591 - val_accuracy: 0.7989\n",
            "Epoch 206/300\n",
            "8195/8195 [==============================] - 1s 64us/sample - loss: 0.4689 - accuracy: 0.7912 - val_loss: 0.4599 - val_accuracy: 0.8009\n",
            "Epoch 207/300\n",
            "8195/8195 [==============================] - 1s 65us/sample - loss: 0.4704 - accuracy: 0.7926 - val_loss: 0.4579 - val_accuracy: 0.8009\n",
            "Epoch 208/300\n",
            "8195/8195 [==============================] - 1s 65us/sample - loss: 0.4690 - accuracy: 0.7969 - val_loss: 0.4604 - val_accuracy: 0.7984\n",
            "Epoch 209/300\n",
            "8195/8195 [==============================] - 1s 64us/sample - loss: 0.4678 - accuracy: 0.7956 - val_loss: 0.4575 - val_accuracy: 0.8004\n",
            "Epoch 210/300\n",
            "8195/8195 [==============================] - 1s 67us/sample - loss: 0.4660 - accuracy: 0.7987 - val_loss: 0.4566 - val_accuracy: 0.8014\n",
            "Epoch 211/300\n",
            "8195/8195 [==============================] - 1s 64us/sample - loss: 0.4691 - accuracy: 0.7945 - val_loss: 0.4572 - val_accuracy: 0.7984\n",
            "Epoch 212/300\n",
            "8195/8195 [==============================] - 1s 63us/sample - loss: 0.4672 - accuracy: 0.7957 - val_loss: 0.4564 - val_accuracy: 0.8023\n",
            "Epoch 213/300\n",
            "8195/8195 [==============================] - 1s 65us/sample - loss: 0.4728 - accuracy: 0.7919 - val_loss: 0.4610 - val_accuracy: 0.7994\n",
            "Epoch 214/300\n",
            "8195/8195 [==============================] - 1s 63us/sample - loss: 0.4661 - accuracy: 0.7949 - val_loss: 0.4617 - val_accuracy: 0.7945\n",
            "Epoch 215/300\n",
            "8195/8195 [==============================] - 1s 65us/sample - loss: 0.4677 - accuracy: 0.7969 - val_loss: 0.4666 - val_accuracy: 0.7940\n",
            "Epoch 216/300\n",
            "8195/8195 [==============================] - 1s 64us/sample - loss: 0.4654 - accuracy: 0.7957 - val_loss: 0.4709 - val_accuracy: 0.7911\n",
            "Epoch 217/300\n",
            "8195/8195 [==============================] - 1s 64us/sample - loss: 0.4683 - accuracy: 0.7941 - val_loss: 0.4603 - val_accuracy: 0.8038\n",
            "Epoch 218/300\n",
            "8195/8195 [==============================] - 1s 63us/sample - loss: 0.4666 - accuracy: 0.7962 - val_loss: 0.4583 - val_accuracy: 0.8043\n",
            "Epoch 219/300\n",
            "8195/8195 [==============================] - 1s 65us/sample - loss: 0.4693 - accuracy: 0.7935 - val_loss: 0.4572 - val_accuracy: 0.7994\n",
            "Epoch 220/300\n",
            "8195/8195 [==============================] - 1s 65us/sample - loss: 0.4696 - accuracy: 0.7910 - val_loss: 0.4574 - val_accuracy: 0.8009\n",
            "Epoch 221/300\n",
            "8195/8195 [==============================] - 1s 64us/sample - loss: 0.4645 - accuracy: 0.7954 - val_loss: 0.4667 - val_accuracy: 0.8023\n",
            "Epoch 222/300\n",
            "8195/8195 [==============================] - 1s 64us/sample - loss: 0.4700 - accuracy: 0.7912 - val_loss: 0.4595 - val_accuracy: 0.8009\n",
            "Epoch 223/300\n",
            "8195/8195 [==============================] - 1s 65us/sample - loss: 0.4669 - accuracy: 0.7969 - val_loss: 0.4588 - val_accuracy: 0.8028\n",
            "Epoch 224/300\n",
            "8195/8195 [==============================] - 1s 63us/sample - loss: 0.4704 - accuracy: 0.7946 - val_loss: 0.4578 - val_accuracy: 0.8009\n",
            "Epoch 225/300\n",
            "8195/8195 [==============================] - 1s 65us/sample - loss: 0.4656 - accuracy: 0.7982 - val_loss: 0.4588 - val_accuracy: 0.8028\n",
            "Epoch 226/300\n",
            "8195/8195 [==============================] - 1s 64us/sample - loss: 0.4676 - accuracy: 0.7961 - val_loss: 0.4579 - val_accuracy: 0.7994\n",
            "Epoch 227/300\n",
            "8195/8195 [==============================] - 1s 66us/sample - loss: 0.4687 - accuracy: 0.7969 - val_loss: 0.4578 - val_accuracy: 0.8019\n",
            "Epoch 228/300\n",
            "8195/8195 [==============================] - 1s 65us/sample - loss: 0.4689 - accuracy: 0.7973 - val_loss: 0.4603 - val_accuracy: 0.7980\n",
            "Epoch 229/300\n",
            "8195/8195 [==============================] - 1s 65us/sample - loss: 0.4668 - accuracy: 0.7963 - val_loss: 0.4635 - val_accuracy: 0.8009\n",
            "Epoch 230/300\n",
            "8195/8195 [==============================] - 1s 66us/sample - loss: 0.4690 - accuracy: 0.7954 - val_loss: 0.4585 - val_accuracy: 0.8004\n",
            "Epoch 231/300\n",
            "8195/8195 [==============================] - 1s 63us/sample - loss: 0.4668 - accuracy: 0.7963 - val_loss: 0.4609 - val_accuracy: 0.7940\n",
            "Epoch 232/300\n",
            "8195/8195 [==============================] - 1s 66us/sample - loss: 0.4684 - accuracy: 0.7984 - val_loss: 0.4625 - val_accuracy: 0.7916\n",
            "Epoch 233/300\n",
            "8195/8195 [==============================] - 1s 63us/sample - loss: 0.4667 - accuracy: 0.8015 - val_loss: 0.4605 - val_accuracy: 0.7936\n",
            "Epoch 234/300\n",
            "8195/8195 [==============================] - 1s 64us/sample - loss: 0.4696 - accuracy: 0.7952 - val_loss: 0.4594 - val_accuracy: 0.8033\n",
            "Epoch 235/300\n",
            "8195/8195 [==============================] - 1s 65us/sample - loss: 0.4700 - accuracy: 0.7933 - val_loss: 0.4589 - val_accuracy: 0.8023\n",
            "Epoch 236/300\n",
            "8195/8195 [==============================] - 1s 64us/sample - loss: 0.4687 - accuracy: 0.7955 - val_loss: 0.4647 - val_accuracy: 0.7906\n",
            "Epoch 237/300\n",
            "8195/8195 [==============================] - 1s 63us/sample - loss: 0.4654 - accuracy: 0.7971 - val_loss: 0.4576 - val_accuracy: 0.8038\n",
            "Epoch 238/300\n",
            "8195/8195 [==============================] - 1s 65us/sample - loss: 0.4665 - accuracy: 0.7944 - val_loss: 0.4584 - val_accuracy: 0.8004\n",
            "Epoch 239/300\n",
            "8195/8195 [==============================] - 1s 63us/sample - loss: 0.4715 - accuracy: 0.7946 - val_loss: 0.4627 - val_accuracy: 0.7936\n",
            "Epoch 240/300\n",
            "8195/8195 [==============================] - 1s 65us/sample - loss: 0.4661 - accuracy: 0.7990 - val_loss: 0.4565 - val_accuracy: 0.8043\n",
            "Epoch 241/300\n",
            "8195/8195 [==============================] - 1s 64us/sample - loss: 0.4677 - accuracy: 0.8002 - val_loss: 0.4575 - val_accuracy: 0.8028\n",
            "Epoch 242/300\n",
            "8195/8195 [==============================] - 1s 64us/sample - loss: 0.4701 - accuracy: 0.7921 - val_loss: 0.4594 - val_accuracy: 0.8062\n",
            "Epoch 243/300\n",
            "8195/8195 [==============================] - 1s 64us/sample - loss: 0.4676 - accuracy: 0.7980 - val_loss: 0.4600 - val_accuracy: 0.8028\n",
            "Epoch 244/300\n",
            "8195/8195 [==============================] - 1s 66us/sample - loss: 0.4667 - accuracy: 0.7935 - val_loss: 0.4616 - val_accuracy: 0.8038\n",
            "Epoch 245/300\n",
            "8195/8195 [==============================] - 1s 65us/sample - loss: 0.4660 - accuracy: 0.7979 - val_loss: 0.4587 - val_accuracy: 0.8014\n",
            "Epoch 246/300\n",
            "8195/8195 [==============================] - 1s 65us/sample - loss: 0.4703 - accuracy: 0.7960 - val_loss: 0.4547 - val_accuracy: 0.8067\n",
            "Epoch 247/300\n",
            "8195/8195 [==============================] - 1s 65us/sample - loss: 0.4681 - accuracy: 0.7919 - val_loss: 0.4564 - val_accuracy: 0.7970\n",
            "Epoch 248/300\n",
            "8195/8195 [==============================] - 1s 65us/sample - loss: 0.4706 - accuracy: 0.7932 - val_loss: 0.4604 - val_accuracy: 0.8009\n",
            "Epoch 249/300\n",
            "8195/8195 [==============================] - 1s 68us/sample - loss: 0.4676 - accuracy: 0.7945 - val_loss: 0.4604 - val_accuracy: 0.7980\n",
            "Epoch 250/300\n",
            "8195/8195 [==============================] - 1s 64us/sample - loss: 0.4658 - accuracy: 0.7979 - val_loss: 0.4562 - val_accuracy: 0.8019\n",
            "Epoch 251/300\n",
            "8195/8195 [==============================] - 1s 66us/sample - loss: 0.4686 - accuracy: 0.7940 - val_loss: 0.4596 - val_accuracy: 0.7970\n",
            "Epoch 252/300\n",
            "8195/8195 [==============================] - 1s 64us/sample - loss: 0.4663 - accuracy: 0.7945 - val_loss: 0.4561 - val_accuracy: 0.8038\n",
            "Epoch 253/300\n",
            "8195/8195 [==============================] - 1s 64us/sample - loss: 0.4679 - accuracy: 0.7966 - val_loss: 0.4587 - val_accuracy: 0.8043\n",
            "Epoch 254/300\n",
            "8195/8195 [==============================] - 1s 64us/sample - loss: 0.4674 - accuracy: 0.7945 - val_loss: 0.4562 - val_accuracy: 0.8033\n",
            "Epoch 255/300\n",
            "8195/8195 [==============================] - 1s 64us/sample - loss: 0.4682 - accuracy: 0.7967 - val_loss: 0.4606 - val_accuracy: 0.8019\n",
            "Epoch 256/300\n",
            "8195/8195 [==============================] - 1s 65us/sample - loss: 0.4680 - accuracy: 0.7913 - val_loss: 0.4568 - val_accuracy: 0.8038\n",
            "Epoch 257/300\n",
            "8195/8195 [==============================] - 1s 65us/sample - loss: 0.4640 - accuracy: 0.7944 - val_loss: 0.4582 - val_accuracy: 0.7999\n",
            "Epoch 258/300\n",
            "8195/8195 [==============================] - 1s 64us/sample - loss: 0.4682 - accuracy: 0.7941 - val_loss: 0.4608 - val_accuracy: 0.7906\n",
            "Epoch 259/300\n",
            "8195/8195 [==============================] - 1s 65us/sample - loss: 0.4667 - accuracy: 0.7985 - val_loss: 0.4582 - val_accuracy: 0.8019\n",
            "Epoch 260/300\n",
            "8195/8195 [==============================] - 1s 64us/sample - loss: 0.4709 - accuracy: 0.7969 - val_loss: 0.4558 - val_accuracy: 0.8004\n",
            "Epoch 261/300\n",
            "8195/8195 [==============================] - 1s 64us/sample - loss: 0.4703 - accuracy: 0.7944 - val_loss: 0.4593 - val_accuracy: 0.8019\n",
            "Epoch 262/300\n",
            "8195/8195 [==============================] - 1s 64us/sample - loss: 0.4666 - accuracy: 0.7961 - val_loss: 0.4570 - val_accuracy: 0.8023\n",
            "Epoch 263/300\n",
            "8195/8195 [==============================] - 1s 64us/sample - loss: 0.4700 - accuracy: 0.7926 - val_loss: 0.4615 - val_accuracy: 0.7999\n",
            "Epoch 264/300\n",
            "8195/8195 [==============================] - 1s 64us/sample - loss: 0.4703 - accuracy: 0.7971 - val_loss: 0.4612 - val_accuracy: 0.8019\n",
            "Epoch 265/300\n",
            "8195/8195 [==============================] - 1s 65us/sample - loss: 0.4689 - accuracy: 0.7951 - val_loss: 0.4639 - val_accuracy: 0.8033\n",
            "Epoch 266/300\n",
            "8195/8195 [==============================] - 1s 64us/sample - loss: 0.4670 - accuracy: 0.7983 - val_loss: 0.4596 - val_accuracy: 0.8014\n",
            "Epoch 267/300\n",
            "8195/8195 [==============================] - 1s 63us/sample - loss: 0.4690 - accuracy: 0.7912 - val_loss: 0.4588 - val_accuracy: 0.8033\n",
            "Epoch 268/300\n",
            "8195/8195 [==============================] - 1s 65us/sample - loss: 0.4705 - accuracy: 0.7961 - val_loss: 0.4562 - val_accuracy: 0.8033\n",
            "Epoch 269/300\n",
            "8195/8195 [==============================] - 1s 67us/sample - loss: 0.4666 - accuracy: 0.7987 - val_loss: 0.4581 - val_accuracy: 0.8028\n",
            "Epoch 270/300\n",
            "8195/8195 [==============================] - 1s 64us/sample - loss: 0.4678 - accuracy: 0.7949 - val_loss: 0.4606 - val_accuracy: 0.7970\n",
            "Epoch 271/300\n",
            "8195/8195 [==============================] - 1s 63us/sample - loss: 0.4706 - accuracy: 0.7959 - val_loss: 0.4589 - val_accuracy: 0.7980\n",
            "Epoch 272/300\n",
            "8195/8195 [==============================] - 1s 65us/sample - loss: 0.4681 - accuracy: 0.7988 - val_loss: 0.4554 - val_accuracy: 0.7999\n",
            "Epoch 273/300\n",
            "8195/8195 [==============================] - 1s 65us/sample - loss: 0.4656 - accuracy: 0.7971 - val_loss: 0.4637 - val_accuracy: 0.7906\n",
            "Epoch 274/300\n",
            "8195/8195 [==============================] - 1s 66us/sample - loss: 0.4686 - accuracy: 0.7956 - val_loss: 0.4546 - val_accuracy: 0.8033\n",
            "Epoch 275/300\n",
            "8195/8195 [==============================] - 1s 63us/sample - loss: 0.4654 - accuracy: 0.7951 - val_loss: 0.4562 - val_accuracy: 0.8004\n",
            "Epoch 276/300\n",
            "8195/8195 [==============================] - 1s 65us/sample - loss: 0.4647 - accuracy: 0.7993 - val_loss: 0.4627 - val_accuracy: 0.8004\n",
            "Epoch 277/300\n",
            "8195/8195 [==============================] - 1s 64us/sample - loss: 0.4642 - accuracy: 0.7949 - val_loss: 0.4622 - val_accuracy: 0.7984\n",
            "Epoch 278/300\n",
            "8195/8195 [==============================] - 1s 63us/sample - loss: 0.4650 - accuracy: 0.7893 - val_loss: 0.4590 - val_accuracy: 0.8038\n",
            "Epoch 279/300\n",
            "8195/8195 [==============================] - 1s 64us/sample - loss: 0.4707 - accuracy: 0.7987 - val_loss: 0.4569 - val_accuracy: 0.8048\n",
            "Epoch 280/300\n",
            "8195/8195 [==============================] - 1s 65us/sample - loss: 0.4688 - accuracy: 0.7966 - val_loss: 0.4613 - val_accuracy: 0.8004\n",
            "Epoch 281/300\n",
            "8195/8195 [==============================] - 1s 65us/sample - loss: 0.4700 - accuracy: 0.7967 - val_loss: 0.4556 - val_accuracy: 0.8014\n",
            "Epoch 282/300\n",
            "8195/8195 [==============================] - 1s 64us/sample - loss: 0.4716 - accuracy: 0.7967 - val_loss: 0.4696 - val_accuracy: 0.8004\n",
            "Epoch 283/300\n",
            "8195/8195 [==============================] - 1s 65us/sample - loss: 0.4691 - accuracy: 0.7929 - val_loss: 0.4590 - val_accuracy: 0.8014\n",
            "Epoch 284/300\n",
            "8195/8195 [==============================] - 1s 64us/sample - loss: 0.4667 - accuracy: 0.7973 - val_loss: 0.4647 - val_accuracy: 0.8058\n",
            "Epoch 285/300\n",
            "8195/8195 [==============================] - 1s 64us/sample - loss: 0.4683 - accuracy: 0.7969 - val_loss: 0.4650 - val_accuracy: 0.7906\n",
            "Epoch 286/300\n",
            "8195/8195 [==============================] - 1s 63us/sample - loss: 0.4682 - accuracy: 0.7941 - val_loss: 0.4577 - val_accuracy: 0.7994\n",
            "Epoch 287/300\n",
            "8195/8195 [==============================] - 1s 64us/sample - loss: 0.4688 - accuracy: 0.7926 - val_loss: 0.4593 - val_accuracy: 0.8043\n",
            "Epoch 288/300\n",
            "8195/8195 [==============================] - 1s 66us/sample - loss: 0.4659 - accuracy: 0.7959 - val_loss: 0.4584 - val_accuracy: 0.8019\n",
            "Epoch 289/300\n",
            "8195/8195 [==============================] - 1s 64us/sample - loss: 0.4658 - accuracy: 0.7971 - val_loss: 0.4649 - val_accuracy: 0.7809\n",
            "Epoch 290/300\n",
            "8195/8195 [==============================] - 1s 63us/sample - loss: 0.4696 - accuracy: 0.7993 - val_loss: 0.4576 - val_accuracy: 0.8004\n",
            "Epoch 291/300\n",
            "8195/8195 [==============================] - 1s 64us/sample - loss: 0.4683 - accuracy: 0.7983 - val_loss: 0.4578 - val_accuracy: 0.7975\n",
            "Epoch 292/300\n",
            "8195/8195 [==============================] - 1s 65us/sample - loss: 0.4693 - accuracy: 0.7939 - val_loss: 0.4561 - val_accuracy: 0.7999\n",
            "Epoch 293/300\n",
            "8195/8195 [==============================] - 1s 64us/sample - loss: 0.4677 - accuracy: 0.7983 - val_loss: 0.4557 - val_accuracy: 0.8028\n",
            "Epoch 294/300\n",
            "8195/8195 [==============================] - 1s 63us/sample - loss: 0.4719 - accuracy: 0.7901 - val_loss: 0.4589 - val_accuracy: 0.8023\n",
            "Epoch 295/300\n",
            "8195/8195 [==============================] - 1s 66us/sample - loss: 0.4682 - accuracy: 0.7961 - val_loss: 0.4561 - val_accuracy: 0.8014\n",
            "Epoch 296/300\n",
            "8195/8195 [==============================] - 1s 64us/sample - loss: 0.4691 - accuracy: 0.7934 - val_loss: 0.4587 - val_accuracy: 0.7999\n",
            "Epoch 297/300\n",
            "8195/8195 [==============================] - 1s 65us/sample - loss: 0.4667 - accuracy: 0.7987 - val_loss: 0.4582 - val_accuracy: 0.8023\n",
            "Epoch 298/300\n",
            "8195/8195 [==============================] - 1s 64us/sample - loss: 0.4679 - accuracy: 0.7939 - val_loss: 0.4566 - val_accuracy: 0.8033\n",
            "Epoch 299/300\n",
            "8195/8195 [==============================] - 1s 63us/sample - loss: 0.4701 - accuracy: 0.7957 - val_loss: 0.4570 - val_accuracy: 0.7994\n",
            "Epoch 300/300\n",
            "8195/8195 [==============================] - 1s 63us/sample - loss: 0.4708 - accuracy: 0.7919 - val_loss: 0.4580 - val_accuracy: 0.7999\n"
          ],
          "name": "stdout"
        }
      ]
    },
    {
      "cell_type": "code",
      "metadata": {
        "id": "ZxG8Z7boVjoH",
        "colab_type": "code",
        "colab": {}
      },
      "source": [
        "y_pred = dnn_model_predictor(dnn_classifier, X_test_standardized)"
      ],
      "execution_count": 0,
      "outputs": []
    },
    {
      "cell_type": "code",
      "metadata": {
        "id": "oWAxDraiWZAR",
        "colab_type": "code",
        "outputId": "53f2722d-471e-43e7-a59a-2b9769164a2f",
        "colab": {
          "base_uri": "https://localhost:8080/",
          "height": 573
        }
      },
      "source": [
        "train_analys(history)"
      ],
      "execution_count": 45,
      "outputs": [
        {
          "output_type": "display_data",
          "data": {
            "image/png": "[encoded data removed]",
            "text/plain": [
              "<Figure size 432x288 with 1 Axes>"
            ]
          },
          "metadata": {
            "tags": [],
            "needs_background": "light"
          }
        },
        {
          "output_type": "display_data",
          "data": {
            "image/png": "[encoded data removed]",
            "text/plain": [
              "<Figure size 432x288 with 1 Axes>"
            ]
          },
          "metadata": {
            "tags": [],
            "needs_background": "light"
          }
        }
      ]
    },
    {
      "cell_type": "code",
      "metadata": {
        "id": "f701sOJAWeMi",
        "colab_type": "code",
        "outputId": "34505a4b-859f-4d9c-e3b1-d46eb581766e",
        "colab": {
          "base_uri": "https://localhost:8080/",
          "height": 125
        }
      },
      "source": [
        "compare(y_test, y_pred)"
      ],
      "execution_count": 46,
      "outputs": [
        {
          "output_type": "stream",
          "text": [
            "accuracy: 0.7938966066955135\n",
            "precision: 0.6167664670658682\n",
            "recall: 0.4681818181818182\n",
            "f1score: 0.5322997416020673\n",
            "confusion matrix: [[2971  320]\n",
            " [ 585  515]]\n"
          ],
          "name": "stdout"
        }
      ]
    },
    {
      "cell_type": "markdown",
      "metadata": {
        "id": "OGmepxQmNnJg",
        "colab_type": "text"
      },
      "source": [
        "## Train & Prediction On PCA Data"
      ]
    },
    {
      "cell_type": "code",
      "metadata": {
        "id": "gHM3G8_CWr91",
        "colab_type": "code",
        "colab": {}
      },
      "source": [
        "dnn_classifier = dnn_model_builder(input_shape=(X_train_pca.shape[1], ))"
      ],
      "execution_count": 0,
      "outputs": []
    },
    {
      "cell_type": "code",
      "metadata": {
        "id": "A3wWSbo-WxCh",
        "colab_type": "code",
        "outputId": "6cce6d10-bdc9-4ddd-93d4-d133c01e86bc",
        "colab": {
          "base_uri": "https://localhost:8080/",
          "height": 1000
        }
      },
      "source": [
        "dnn_classifier, history = dnn_model_trainer(dnn_classifier, X_train_pca, y_train)"
      ],
      "execution_count": 48,
      "outputs": [
        {
          "output_type": "stream",
          "text": [
            "Train on 8195 samples, validate on 2049 samples\n",
            "Epoch 1/300\n",
            "8195/8195 [==============================] - 1s 83us/sample - loss: 1.3325 - accuracy: 0.7689 - val_loss: 0.8178 - val_accuracy: 0.7892\n",
            "Epoch 2/300\n",
            "8195/8195 [==============================] - 1s 63us/sample - loss: 0.6795 - accuracy: 0.7783 - val_loss: 0.5838 - val_accuracy: 0.7906\n",
            "Epoch 3/300\n",
            "8195/8195 [==============================] - 1s 66us/sample - loss: 0.5702 - accuracy: 0.7758 - val_loss: 0.5375 - val_accuracy: 0.7901\n",
            "Epoch 4/300\n",
            "8195/8195 [==============================] - 1s 64us/sample - loss: 0.5435 - accuracy: 0.7791 - val_loss: 0.5242 - val_accuracy: 0.7926\n",
            "Epoch 5/300\n",
            "8195/8195 [==============================] - 1s 66us/sample - loss: 0.5300 - accuracy: 0.7819 - val_loss: 0.5140 - val_accuracy: 0.7897\n",
            "Epoch 6/300\n",
            "8195/8195 [==============================] - 1s 72us/sample - loss: 0.5238 - accuracy: 0.7819 - val_loss: 0.5108 - val_accuracy: 0.7892\n",
            "Epoch 7/300\n",
            "8195/8195 [==============================] - 1s 69us/sample - loss: 0.5226 - accuracy: 0.7766 - val_loss: 0.5020 - val_accuracy: 0.7936\n",
            "Epoch 8/300\n",
            "8195/8195 [==============================] - 1s 65us/sample - loss: 0.5171 - accuracy: 0.7757 - val_loss: 0.5010 - val_accuracy: 0.7916\n",
            "Epoch 9/300\n",
            "8195/8195 [==============================] - 1s 65us/sample - loss: 0.5172 - accuracy: 0.7775 - val_loss: 0.4970 - val_accuracy: 0.7940\n",
            "Epoch 10/300\n",
            "8195/8195 [==============================] - 1s 64us/sample - loss: 0.5156 - accuracy: 0.7769 - val_loss: 0.4982 - val_accuracy: 0.7906\n",
            "Epoch 11/300\n",
            "8195/8195 [==============================] - 1s 66us/sample - loss: 0.5144 - accuracy: 0.7729 - val_loss: 0.4969 - val_accuracy: 0.7906\n",
            "Epoch 12/300\n",
            "8195/8195 [==============================] - 1s 65us/sample - loss: 0.5104 - accuracy: 0.7793 - val_loss: 0.4956 - val_accuracy: 0.7897\n",
            "Epoch 13/300\n",
            "8195/8195 [==============================] - 1s 65us/sample - loss: 0.5099 - accuracy: 0.7762 - val_loss: 0.4948 - val_accuracy: 0.7916\n",
            "Epoch 14/300\n",
            "8195/8195 [==============================] - 1s 65us/sample - loss: 0.5109 - accuracy: 0.7738 - val_loss: 0.4935 - val_accuracy: 0.7921\n",
            "Epoch 15/300\n",
            "8195/8195 [==============================] - 1s 63us/sample - loss: 0.5086 - accuracy: 0.7764 - val_loss: 0.4939 - val_accuracy: 0.7916\n",
            "Epoch 16/300\n",
            "8195/8195 [==============================] - 1s 65us/sample - loss: 0.5055 - accuracy: 0.7806 - val_loss: 0.4932 - val_accuracy: 0.7911\n",
            "Epoch 17/300\n",
            "8195/8195 [==============================] - 1s 63us/sample - loss: 0.5054 - accuracy: 0.7804 - val_loss: 0.4926 - val_accuracy: 0.7892\n",
            "Epoch 18/300\n",
            "8195/8195 [==============================] - 1s 65us/sample - loss: 0.5064 - accuracy: 0.7760 - val_loss: 0.4897 - val_accuracy: 0.7921\n",
            "Epoch 19/300\n",
            "8195/8195 [==============================] - 1s 64us/sample - loss: 0.5049 - accuracy: 0.7788 - val_loss: 0.4884 - val_accuracy: 0.7906\n",
            "Epoch 20/300\n",
            "8195/8195 [==============================] - 1s 65us/sample - loss: 0.5036 - accuracy: 0.7795 - val_loss: 0.4882 - val_accuracy: 0.7911\n",
            "Epoch 21/300\n",
            "8195/8195 [==============================] - 1s 65us/sample - loss: 0.4998 - accuracy: 0.7810 - val_loss: 0.4890 - val_accuracy: 0.7901\n",
            "Epoch 22/300\n",
            "8195/8195 [==============================] - 1s 65us/sample - loss: 0.4972 - accuracy: 0.7830 - val_loss: 0.4865 - val_accuracy: 0.7887\n",
            "Epoch 23/300\n",
            "8195/8195 [==============================] - 1s 65us/sample - loss: 0.5043 - accuracy: 0.7778 - val_loss: 0.4855 - val_accuracy: 0.7901\n",
            "Epoch 24/300\n",
            "8195/8195 [==============================] - 1s 66us/sample - loss: 0.4979 - accuracy: 0.7785 - val_loss: 0.4844 - val_accuracy: 0.7906\n",
            "Epoch 25/300\n",
            "8195/8195 [==============================] - 1s 65us/sample - loss: 0.4978 - accuracy: 0.7806 - val_loss: 0.4837 - val_accuracy: 0.7887\n",
            "Epoch 26/300\n",
            "8195/8195 [==============================] - 1s 66us/sample - loss: 0.5001 - accuracy: 0.7730 - val_loss: 0.4838 - val_accuracy: 0.7892\n",
            "Epoch 27/300\n",
            "8195/8195 [==============================] - 1s 65us/sample - loss: 0.4971 - accuracy: 0.7802 - val_loss: 0.4828 - val_accuracy: 0.7887\n",
            "Epoch 28/300\n",
            "8195/8195 [==============================] - 1s 65us/sample - loss: 0.4955 - accuracy: 0.7801 - val_loss: 0.4804 - val_accuracy: 0.7901\n",
            "Epoch 29/300\n",
            "8195/8195 [==============================] - 1s 66us/sample - loss: 0.4966 - accuracy: 0.7789 - val_loss: 0.4802 - val_accuracy: 0.7911\n",
            "Epoch 30/300\n",
            "8195/8195 [==============================] - 1s 64us/sample - loss: 0.4939 - accuracy: 0.7764 - val_loss: 0.4825 - val_accuracy: 0.7814\n",
            "Epoch 31/300\n",
            "8195/8195 [==============================] - 1s 65us/sample - loss: 0.4937 - accuracy: 0.7773 - val_loss: 0.4805 - val_accuracy: 0.7901\n",
            "Epoch 32/300\n",
            "8195/8195 [==============================] - 1s 64us/sample - loss: 0.4954 - accuracy: 0.7751 - val_loss: 0.4799 - val_accuracy: 0.7926\n",
            "Epoch 33/300\n",
            "8195/8195 [==============================] - 1s 66us/sample - loss: 0.4951 - accuracy: 0.7799 - val_loss: 0.4790 - val_accuracy: 0.7906\n",
            "Epoch 34/300\n",
            "8195/8195 [==============================] - 1s 65us/sample - loss: 0.4924 - accuracy: 0.7795 - val_loss: 0.4772 - val_accuracy: 0.7916\n",
            "Epoch 35/300\n",
            "8195/8195 [==============================] - 1s 66us/sample - loss: 0.4928 - accuracy: 0.7756 - val_loss: 0.4799 - val_accuracy: 0.7877\n",
            "Epoch 36/300\n",
            "8195/8195 [==============================] - 1s 64us/sample - loss: 0.4928 - accuracy: 0.7771 - val_loss: 0.4770 - val_accuracy: 0.7901\n",
            "Epoch 37/300\n",
            "8195/8195 [==============================] - 1s 65us/sample - loss: 0.4936 - accuracy: 0.7790 - val_loss: 0.4798 - val_accuracy: 0.7916\n",
            "Epoch 38/300\n",
            "8195/8195 [==============================] - 1s 65us/sample - loss: 0.4913 - accuracy: 0.7799 - val_loss: 0.4758 - val_accuracy: 0.7926\n",
            "Epoch 39/300\n",
            "8195/8195 [==============================] - 1s 65us/sample - loss: 0.4935 - accuracy: 0.7774 - val_loss: 0.4771 - val_accuracy: 0.7921\n",
            "Epoch 40/300\n",
            "8195/8195 [==============================] - 1s 64us/sample - loss: 0.4925 - accuracy: 0.7786 - val_loss: 0.4761 - val_accuracy: 0.7926\n",
            "Epoch 41/300\n",
            "8195/8195 [==============================] - 1s 66us/sample - loss: 0.4914 - accuracy: 0.7790 - val_loss: 0.4782 - val_accuracy: 0.7877\n",
            "Epoch 42/300\n",
            "8195/8195 [==============================] - 1s 66us/sample - loss: 0.4898 - accuracy: 0.7771 - val_loss: 0.4813 - val_accuracy: 0.7882\n",
            "Epoch 43/300\n",
            "8195/8195 [==============================] - 1s 64us/sample - loss: 0.4925 - accuracy: 0.7785 - val_loss: 0.4758 - val_accuracy: 0.7911\n",
            "Epoch 44/300\n",
            "8195/8195 [==============================] - 1s 65us/sample - loss: 0.4927 - accuracy: 0.7761 - val_loss: 0.4772 - val_accuracy: 0.7901\n",
            "Epoch 45/300\n",
            "8195/8195 [==============================] - 1s 67us/sample - loss: 0.4949 - accuracy: 0.7780 - val_loss: 0.4780 - val_accuracy: 0.7906\n",
            "Epoch 46/300\n",
            "8195/8195 [==============================] - 1s 65us/sample - loss: 0.4897 - accuracy: 0.7795 - val_loss: 0.4764 - val_accuracy: 0.7901\n",
            "Epoch 47/300\n",
            "8195/8195 [==============================] - 1s 64us/sample - loss: 0.4925 - accuracy: 0.7762 - val_loss: 0.4752 - val_accuracy: 0.7911\n",
            "Epoch 48/300\n",
            "8195/8195 [==============================] - 1s 65us/sample - loss: 0.4888 - accuracy: 0.7813 - val_loss: 0.4803 - val_accuracy: 0.7901\n",
            "Epoch 49/300\n",
            "8195/8195 [==============================] - 1s 65us/sample - loss: 0.4900 - accuracy: 0.7771 - val_loss: 0.4821 - val_accuracy: 0.7838\n",
            "Epoch 50/300\n",
            "8195/8195 [==============================] - 1s 66us/sample - loss: 0.4897 - accuracy: 0.7778 - val_loss: 0.4758 - val_accuracy: 0.7901\n",
            "Epoch 51/300\n",
            "8195/8195 [==============================] - 1s 64us/sample - loss: 0.4904 - accuracy: 0.7793 - val_loss: 0.4751 - val_accuracy: 0.7906\n",
            "Epoch 52/300\n",
            "8195/8195 [==============================] - 1s 66us/sample - loss: 0.4906 - accuracy: 0.7771 - val_loss: 0.4847 - val_accuracy: 0.7838\n",
            "Epoch 53/300\n",
            "8195/8195 [==============================] - 1s 65us/sample - loss: 0.4917 - accuracy: 0.7799 - val_loss: 0.4746 - val_accuracy: 0.7897\n",
            "Epoch 54/300\n",
            "8195/8195 [==============================] - 1s 66us/sample - loss: 0.4882 - accuracy: 0.7772 - val_loss: 0.4812 - val_accuracy: 0.7838\n",
            "Epoch 55/300\n",
            "8195/8195 [==============================] - 1s 65us/sample - loss: 0.4918 - accuracy: 0.7758 - val_loss: 0.4738 - val_accuracy: 0.7916\n",
            "Epoch 56/300\n",
            "8195/8195 [==============================] - 1s 64us/sample - loss: 0.4911 - accuracy: 0.7785 - val_loss: 0.4771 - val_accuracy: 0.7838\n",
            "Epoch 57/300\n",
            "8195/8195 [==============================] - 1s 66us/sample - loss: 0.4910 - accuracy: 0.7772 - val_loss: 0.4764 - val_accuracy: 0.7892\n",
            "Epoch 58/300\n",
            "8195/8195 [==============================] - 1s 65us/sample - loss: 0.4908 - accuracy: 0.7784 - val_loss: 0.4740 - val_accuracy: 0.7897\n",
            "Epoch 59/300\n",
            "8195/8195 [==============================] - 1s 65us/sample - loss: 0.4887 - accuracy: 0.7796 - val_loss: 0.4742 - val_accuracy: 0.7906\n",
            "Epoch 60/300\n",
            "8195/8195 [==============================] - 1s 64us/sample - loss: 0.4887 - accuracy: 0.7763 - val_loss: 0.4753 - val_accuracy: 0.7867\n",
            "Epoch 61/300\n",
            "8195/8195 [==============================] - 1s 65us/sample - loss: 0.4896 - accuracy: 0.7767 - val_loss: 0.4729 - val_accuracy: 0.7926\n",
            "Epoch 62/300\n",
            "8195/8195 [==============================] - 1s 65us/sample - loss: 0.4892 - accuracy: 0.7784 - val_loss: 0.4734 - val_accuracy: 0.7901\n",
            "Epoch 63/300\n",
            "8195/8195 [==============================] - 1s 64us/sample - loss: 0.4872 - accuracy: 0.7779 - val_loss: 0.4729 - val_accuracy: 0.7931\n",
            "Epoch 64/300\n",
            "8195/8195 [==============================] - 1s 67us/sample - loss: 0.4879 - accuracy: 0.7796 - val_loss: 0.4763 - val_accuracy: 0.7906\n",
            "Epoch 65/300\n",
            "8195/8195 [==============================] - 1s 65us/sample - loss: 0.4859 - accuracy: 0.7819 - val_loss: 0.4724 - val_accuracy: 0.7911\n",
            "Epoch 66/300\n",
            "8195/8195 [==============================] - 1s 66us/sample - loss: 0.4896 - accuracy: 0.7751 - val_loss: 0.4735 - val_accuracy: 0.7887\n",
            "Epoch 67/300\n",
            "8195/8195 [==============================] - 1s 66us/sample - loss: 0.4868 - accuracy: 0.7812 - val_loss: 0.4715 - val_accuracy: 0.7906\n",
            "Epoch 68/300\n",
            "8195/8195 [==============================] - 1s 65us/sample - loss: 0.4881 - accuracy: 0.7802 - val_loss: 0.4710 - val_accuracy: 0.7916\n",
            "Epoch 69/300\n",
            "8195/8195 [==============================] - 1s 65us/sample - loss: 0.4860 - accuracy: 0.7804 - val_loss: 0.4741 - val_accuracy: 0.7882\n",
            "Epoch 70/300\n",
            "8195/8195 [==============================] - 1s 63us/sample - loss: 0.4884 - accuracy: 0.7805 - val_loss: 0.4740 - val_accuracy: 0.7901\n",
            "Epoch 71/300\n",
            "8195/8195 [==============================] - 1s 65us/sample - loss: 0.4901 - accuracy: 0.7779 - val_loss: 0.4762 - val_accuracy: 0.7877\n",
            "Epoch 72/300\n",
            "8195/8195 [==============================] - 1s 65us/sample - loss: 0.4883 - accuracy: 0.7745 - val_loss: 0.4760 - val_accuracy: 0.7906\n",
            "Epoch 73/300\n",
            "8195/8195 [==============================] - 1s 65us/sample - loss: 0.4866 - accuracy: 0.7819 - val_loss: 0.4714 - val_accuracy: 0.7916\n",
            "Epoch 74/300\n",
            "8195/8195 [==============================] - 1s 66us/sample - loss: 0.4876 - accuracy: 0.7785 - val_loss: 0.4708 - val_accuracy: 0.7911\n",
            "Epoch 75/300\n",
            "8195/8195 [==============================] - 1s 64us/sample - loss: 0.4879 - accuracy: 0.7785 - val_loss: 0.4812 - val_accuracy: 0.7848\n",
            "Epoch 76/300\n",
            "8195/8195 [==============================] - 1s 68us/sample - loss: 0.4861 - accuracy: 0.7804 - val_loss: 0.4774 - val_accuracy: 0.7818\n",
            "Epoch 77/300\n",
            "8195/8195 [==============================] - 1s 66us/sample - loss: 0.4864 - accuracy: 0.7786 - val_loss: 0.4722 - val_accuracy: 0.7882\n",
            "Epoch 78/300\n",
            "8195/8195 [==============================] - 1s 65us/sample - loss: 0.4859 - accuracy: 0.7850 - val_loss: 0.4730 - val_accuracy: 0.7892\n",
            "Epoch 79/300\n",
            "8195/8195 [==============================] - 1s 65us/sample - loss: 0.4855 - accuracy: 0.7805 - val_loss: 0.4729 - val_accuracy: 0.7892\n",
            "Epoch 80/300\n",
            "8195/8195 [==============================] - 1s 65us/sample - loss: 0.4884 - accuracy: 0.7766 - val_loss: 0.4746 - val_accuracy: 0.7901\n",
            "Epoch 81/300\n",
            "8195/8195 [==============================] - 1s 65us/sample - loss: 0.4868 - accuracy: 0.7786 - val_loss: 0.4710 - val_accuracy: 0.7906\n",
            "Epoch 82/300\n",
            "8195/8195 [==============================] - 1s 65us/sample - loss: 0.4888 - accuracy: 0.7790 - val_loss: 0.4724 - val_accuracy: 0.7892\n",
            "Epoch 83/300\n",
            "8195/8195 [==============================] - 1s 66us/sample - loss: 0.4866 - accuracy: 0.7804 - val_loss: 0.4760 - val_accuracy: 0.7838\n",
            "Epoch 84/300\n",
            "8195/8195 [==============================] - 1s 64us/sample - loss: 0.4867 - accuracy: 0.7804 - val_loss: 0.4726 - val_accuracy: 0.7901\n",
            "Epoch 85/300\n",
            "8195/8195 [==============================] - 1s 65us/sample - loss: 0.4863 - accuracy: 0.7783 - val_loss: 0.4711 - val_accuracy: 0.7906\n",
            "Epoch 86/300\n",
            "8195/8195 [==============================] - 1s 65us/sample - loss: 0.4865 - accuracy: 0.7791 - val_loss: 0.4742 - val_accuracy: 0.7901\n",
            "Epoch 87/300\n",
            "8195/8195 [==============================] - 1s 64us/sample - loss: 0.4866 - accuracy: 0.7800 - val_loss: 0.4717 - val_accuracy: 0.7911\n",
            "Epoch 88/300\n",
            "8195/8195 [==============================] - 1s 66us/sample - loss: 0.4887 - accuracy: 0.7750 - val_loss: 0.4714 - val_accuracy: 0.7906\n",
            "Epoch 89/300\n",
            "8195/8195 [==============================] - 1s 65us/sample - loss: 0.4870 - accuracy: 0.7807 - val_loss: 0.4743 - val_accuracy: 0.7887\n",
            "Epoch 90/300\n",
            "8195/8195 [==============================] - 1s 64us/sample - loss: 0.4877 - accuracy: 0.7733 - val_loss: 0.4711 - val_accuracy: 0.7906\n",
            "Epoch 91/300\n",
            "8195/8195 [==============================] - 1s 66us/sample - loss: 0.4852 - accuracy: 0.7805 - val_loss: 0.4718 - val_accuracy: 0.7867\n",
            "Epoch 92/300\n",
            "8195/8195 [==============================] - 1s 65us/sample - loss: 0.4874 - accuracy: 0.7774 - val_loss: 0.4715 - val_accuracy: 0.7892\n",
            "Epoch 93/300\n",
            "8195/8195 [==============================] - 1s 66us/sample - loss: 0.4855 - accuracy: 0.7760 - val_loss: 0.4722 - val_accuracy: 0.7897\n",
            "Epoch 94/300\n",
            "8195/8195 [==============================] - 1s 64us/sample - loss: 0.4875 - accuracy: 0.7773 - val_loss: 0.4701 - val_accuracy: 0.7897\n",
            "Epoch 95/300\n",
            "8195/8195 [==============================] - 1s 65us/sample - loss: 0.4854 - accuracy: 0.7789 - val_loss: 0.4711 - val_accuracy: 0.7911\n",
            "Epoch 96/300\n",
            "8195/8195 [==============================] - 1s 65us/sample - loss: 0.4874 - accuracy: 0.7789 - val_loss: 0.4703 - val_accuracy: 0.7916\n",
            "Epoch 97/300\n",
            "8195/8195 [==============================] - 1s 66us/sample - loss: 0.4860 - accuracy: 0.7783 - val_loss: 0.4776 - val_accuracy: 0.7901\n",
            "Epoch 98/300\n",
            "8195/8195 [==============================] - 1s 64us/sample - loss: 0.4849 - accuracy: 0.7802 - val_loss: 0.4734 - val_accuracy: 0.7892\n",
            "Epoch 99/300\n",
            "8195/8195 [==============================] - 1s 65us/sample - loss: 0.4860 - accuracy: 0.7823 - val_loss: 0.4697 - val_accuracy: 0.7911\n",
            "Epoch 100/300\n",
            "8195/8195 [==============================] - 1s 64us/sample - loss: 0.4817 - accuracy: 0.7889 - val_loss: 0.4710 - val_accuracy: 0.7857\n",
            "Epoch 101/300\n",
            "8195/8195 [==============================] - 1s 66us/sample - loss: 0.4870 - accuracy: 0.7791 - val_loss: 0.4747 - val_accuracy: 0.7828\n",
            "Epoch 102/300\n",
            "8195/8195 [==============================] - 1s 66us/sample - loss: 0.4837 - accuracy: 0.7791 - val_loss: 0.4788 - val_accuracy: 0.7809\n",
            "Epoch 103/300\n",
            "8195/8195 [==============================] - 1s 67us/sample - loss: 0.4863 - accuracy: 0.7755 - val_loss: 0.4863 - val_accuracy: 0.7804\n",
            "Epoch 104/300\n",
            "8195/8195 [==============================] - 1s 66us/sample - loss: 0.4864 - accuracy: 0.7767 - val_loss: 0.4721 - val_accuracy: 0.7887\n",
            "Epoch 105/300\n",
            "8195/8195 [==============================] - 1s 66us/sample - loss: 0.4862 - accuracy: 0.7775 - val_loss: 0.4730 - val_accuracy: 0.7882\n",
            "Epoch 106/300\n",
            "8195/8195 [==============================] - 1s 66us/sample - loss: 0.4838 - accuracy: 0.7811 - val_loss: 0.4735 - val_accuracy: 0.7838\n",
            "Epoch 107/300\n",
            "8195/8195 [==============================] - 1s 65us/sample - loss: 0.4871 - accuracy: 0.7784 - val_loss: 0.4713 - val_accuracy: 0.7901\n",
            "Epoch 108/300\n",
            "8195/8195 [==============================] - 1s 67us/sample - loss: 0.4864 - accuracy: 0.7763 - val_loss: 0.4694 - val_accuracy: 0.7911\n",
            "Epoch 109/300\n",
            "8195/8195 [==============================] - 1s 64us/sample - loss: 0.4857 - accuracy: 0.7801 - val_loss: 0.4695 - val_accuracy: 0.7911\n",
            "Epoch 110/300\n",
            "8195/8195 [==============================] - 1s 65us/sample - loss: 0.4859 - accuracy: 0.7790 - val_loss: 0.4689 - val_accuracy: 0.7906\n",
            "Epoch 111/300\n",
            "8195/8195 [==============================] - 1s 63us/sample - loss: 0.4843 - accuracy: 0.7780 - val_loss: 0.4760 - val_accuracy: 0.7857\n",
            "Epoch 112/300\n",
            "8195/8195 [==============================] - 1s 64us/sample - loss: 0.4866 - accuracy: 0.7802 - val_loss: 0.4701 - val_accuracy: 0.7872\n",
            "Epoch 113/300\n",
            "8195/8195 [==============================] - 1s 63us/sample - loss: 0.4818 - accuracy: 0.7778 - val_loss: 0.4726 - val_accuracy: 0.7818\n",
            "Epoch 114/300\n",
            "8195/8195 [==============================] - 1s 66us/sample - loss: 0.4820 - accuracy: 0.7821 - val_loss: 0.4708 - val_accuracy: 0.7897\n",
            "Epoch 115/300\n",
            "8195/8195 [==============================] - 1s 64us/sample - loss: 0.4843 - accuracy: 0.7782 - val_loss: 0.4692 - val_accuracy: 0.7906\n",
            "Epoch 116/300\n",
            "8195/8195 [==============================] - 1s 65us/sample - loss: 0.4809 - accuracy: 0.7816 - val_loss: 0.4804 - val_accuracy: 0.7818\n",
            "Epoch 117/300\n",
            "8195/8195 [==============================] - 1s 65us/sample - loss: 0.4846 - accuracy: 0.7791 - val_loss: 0.4883 - val_accuracy: 0.7804\n",
            "Epoch 118/300\n",
            "8195/8195 [==============================] - 1s 65us/sample - loss: 0.4827 - accuracy: 0.7768 - val_loss: 0.4742 - val_accuracy: 0.7818\n",
            "Epoch 119/300\n",
            "8195/8195 [==============================] - 1s 65us/sample - loss: 0.4834 - accuracy: 0.7822 - val_loss: 0.4684 - val_accuracy: 0.7911\n",
            "Epoch 120/300\n",
            "8195/8195 [==============================] - 1s 64us/sample - loss: 0.4864 - accuracy: 0.7789 - val_loss: 0.4681 - val_accuracy: 0.7906\n",
            "Epoch 121/300\n",
            "8195/8195 [==============================] - 1s 65us/sample - loss: 0.4844 - accuracy: 0.7775 - val_loss: 0.4719 - val_accuracy: 0.7887\n",
            "Epoch 122/300\n",
            "8195/8195 [==============================] - 1s 65us/sample - loss: 0.4843 - accuracy: 0.7794 - val_loss: 0.4685 - val_accuracy: 0.7897\n",
            "Epoch 123/300\n",
            "8195/8195 [==============================] - 1s 68us/sample - loss: 0.4844 - accuracy: 0.7800 - val_loss: 0.4691 - val_accuracy: 0.7877\n",
            "Epoch 124/300\n",
            "8195/8195 [==============================] - 1s 64us/sample - loss: 0.4857 - accuracy: 0.7804 - val_loss: 0.4699 - val_accuracy: 0.7887\n",
            "Epoch 125/300\n",
            "8195/8195 [==============================] - 1s 65us/sample - loss: 0.4877 - accuracy: 0.7766 - val_loss: 0.4717 - val_accuracy: 0.7814\n",
            "Epoch 126/300\n",
            "8195/8195 [==============================] - 1s 65us/sample - loss: 0.4831 - accuracy: 0.7786 - val_loss: 0.4702 - val_accuracy: 0.7897\n",
            "Epoch 127/300\n",
            "8195/8195 [==============================] - 1s 65us/sample - loss: 0.4869 - accuracy: 0.7777 - val_loss: 0.4725 - val_accuracy: 0.7848\n",
            "Epoch 128/300\n",
            "8195/8195 [==============================] - 1s 65us/sample - loss: 0.4867 - accuracy: 0.7808 - val_loss: 0.4678 - val_accuracy: 0.7926\n",
            "Epoch 129/300\n",
            "8195/8195 [==============================] - 1s 64us/sample - loss: 0.4864 - accuracy: 0.7784 - val_loss: 0.4710 - val_accuracy: 0.7823\n",
            "Epoch 130/300\n",
            "8195/8195 [==============================] - 1s 64us/sample - loss: 0.4830 - accuracy: 0.7769 - val_loss: 0.4670 - val_accuracy: 0.7901\n",
            "Epoch 131/300\n",
            "8195/8195 [==============================] - 1s 66us/sample - loss: 0.4828 - accuracy: 0.7811 - val_loss: 0.4696 - val_accuracy: 0.7877\n",
            "Epoch 132/300\n",
            "8195/8195 [==============================] - 1s 64us/sample - loss: 0.4878 - accuracy: 0.7738 - val_loss: 0.4678 - val_accuracy: 0.7901\n",
            "Epoch 133/300\n",
            "8195/8195 [==============================] - 1s 65us/sample - loss: 0.4844 - accuracy: 0.7830 - val_loss: 0.4687 - val_accuracy: 0.7901\n",
            "Epoch 134/300\n",
            "8195/8195 [==============================] - 1s 65us/sample - loss: 0.4800 - accuracy: 0.7818 - val_loss: 0.4680 - val_accuracy: 0.7897\n",
            "Epoch 135/300\n",
            "8195/8195 [==============================] - 1s 64us/sample - loss: 0.4865 - accuracy: 0.7777 - val_loss: 0.4684 - val_accuracy: 0.7897\n",
            "Epoch 136/300\n",
            "8195/8195 [==============================] - 1s 65us/sample - loss: 0.4858 - accuracy: 0.7752 - val_loss: 0.4702 - val_accuracy: 0.7921\n",
            "Epoch 137/300\n",
            "8195/8195 [==============================] - 1s 64us/sample - loss: 0.4870 - accuracy: 0.7750 - val_loss: 0.4713 - val_accuracy: 0.7916\n",
            "Epoch 138/300\n",
            "8195/8195 [==============================] - 1s 64us/sample - loss: 0.4838 - accuracy: 0.7799 - val_loss: 0.4734 - val_accuracy: 0.7804\n",
            "Epoch 139/300\n",
            "8195/8195 [==============================] - 1s 65us/sample - loss: 0.4825 - accuracy: 0.7757 - val_loss: 0.4854 - val_accuracy: 0.7770\n",
            "Epoch 140/300\n",
            "8195/8195 [==============================] - 1s 65us/sample - loss: 0.4845 - accuracy: 0.7746 - val_loss: 0.4752 - val_accuracy: 0.7916\n",
            "Epoch 141/300\n",
            "8195/8195 [==============================] - 1s 65us/sample - loss: 0.4866 - accuracy: 0.7808 - val_loss: 0.4673 - val_accuracy: 0.7926\n",
            "Epoch 142/300\n",
            "8195/8195 [==============================] - 1s 68us/sample - loss: 0.4824 - accuracy: 0.7791 - val_loss: 0.4688 - val_accuracy: 0.7911\n",
            "Epoch 143/300\n",
            "8195/8195 [==============================] - 1s 64us/sample - loss: 0.4847 - accuracy: 0.7779 - val_loss: 0.4722 - val_accuracy: 0.7911\n",
            "Epoch 144/300\n",
            "8195/8195 [==============================] - 1s 66us/sample - loss: 0.4826 - accuracy: 0.7812 - val_loss: 0.4733 - val_accuracy: 0.7911\n",
            "Epoch 145/300\n",
            "8195/8195 [==============================] - 1s 63us/sample - loss: 0.4827 - accuracy: 0.7758 - val_loss: 0.4729 - val_accuracy: 0.7843\n",
            "Epoch 146/300\n",
            "8195/8195 [==============================] - 1s 65us/sample - loss: 0.4826 - accuracy: 0.7772 - val_loss: 0.4753 - val_accuracy: 0.7823\n",
            "Epoch 147/300\n",
            "8195/8195 [==============================] - 1s 65us/sample - loss: 0.4806 - accuracy: 0.7823 - val_loss: 0.4672 - val_accuracy: 0.7916\n",
            "Epoch 148/300\n",
            "8195/8195 [==============================] - 1s 65us/sample - loss: 0.4844 - accuracy: 0.7754 - val_loss: 0.4743 - val_accuracy: 0.7911\n",
            "Epoch 149/300\n",
            "8195/8195 [==============================] - 1s 66us/sample - loss: 0.4856 - accuracy: 0.7778 - val_loss: 0.4673 - val_accuracy: 0.7911\n",
            "Epoch 150/300\n",
            "8195/8195 [==============================] - 1s 65us/sample - loss: 0.4837 - accuracy: 0.7782 - val_loss: 0.4700 - val_accuracy: 0.7843\n",
            "Epoch 151/300\n",
            "8195/8195 [==============================] - 1s 64us/sample - loss: 0.4824 - accuracy: 0.7771 - val_loss: 0.4743 - val_accuracy: 0.7843\n",
            "Epoch 152/300\n",
            "8195/8195 [==============================] - 1s 65us/sample - loss: 0.4854 - accuracy: 0.7791 - val_loss: 0.4776 - val_accuracy: 0.7833\n",
            "Epoch 153/300\n",
            "8195/8195 [==============================] - 1s 66us/sample - loss: 0.4827 - accuracy: 0.7780 - val_loss: 0.4678 - val_accuracy: 0.7911\n",
            "Epoch 154/300\n",
            "8195/8195 [==============================] - 1s 64us/sample - loss: 0.4839 - accuracy: 0.7796 - val_loss: 0.4758 - val_accuracy: 0.7916\n",
            "Epoch 155/300\n",
            "8195/8195 [==============================] - 1s 65us/sample - loss: 0.4837 - accuracy: 0.7812 - val_loss: 0.4670 - val_accuracy: 0.7906\n",
            "Epoch 156/300\n",
            "8195/8195 [==============================] - 1s 65us/sample - loss: 0.4818 - accuracy: 0.7802 - val_loss: 0.4673 - val_accuracy: 0.7911\n",
            "Epoch 157/300\n",
            "8195/8195 [==============================] - 1s 66us/sample - loss: 0.4858 - accuracy: 0.7718 - val_loss: 0.4742 - val_accuracy: 0.7823\n",
            "Epoch 158/300\n",
            "8195/8195 [==============================] - 1s 66us/sample - loss: 0.4817 - accuracy: 0.7764 - val_loss: 0.4668 - val_accuracy: 0.7897\n",
            "Epoch 159/300\n",
            "8195/8195 [==============================] - 1s 65us/sample - loss: 0.4829 - accuracy: 0.7785 - val_loss: 0.4715 - val_accuracy: 0.7843\n",
            "Epoch 160/300\n",
            "8195/8195 [==============================] - 1s 65us/sample - loss: 0.4807 - accuracy: 0.7816 - val_loss: 0.4704 - val_accuracy: 0.7897\n",
            "Epoch 161/300\n",
            "8195/8195 [==============================] - 1s 65us/sample - loss: 0.4808 - accuracy: 0.7862 - val_loss: 0.4672 - val_accuracy: 0.7911\n",
            "Epoch 162/300\n",
            "8195/8195 [==============================] - 1s 68us/sample - loss: 0.4806 - accuracy: 0.7771 - val_loss: 0.4675 - val_accuracy: 0.7901\n",
            "Epoch 163/300\n",
            "8195/8195 [==============================] - 1s 65us/sample - loss: 0.4834 - accuracy: 0.7768 - val_loss: 0.4704 - val_accuracy: 0.7838\n",
            "Epoch 164/300\n",
            "8195/8195 [==============================] - 1s 65us/sample - loss: 0.4837 - accuracy: 0.7775 - val_loss: 0.4703 - val_accuracy: 0.7828\n",
            "Epoch 165/300\n",
            "8195/8195 [==============================] - 1s 65us/sample - loss: 0.4859 - accuracy: 0.7794 - val_loss: 0.4706 - val_accuracy: 0.7901\n",
            "Epoch 166/300\n",
            "8195/8195 [==============================] - 1s 64us/sample - loss: 0.4847 - accuracy: 0.7757 - val_loss: 0.4692 - val_accuracy: 0.7887\n",
            "Epoch 167/300\n",
            "8195/8195 [==============================] - 1s 65us/sample - loss: 0.4823 - accuracy: 0.7810 - val_loss: 0.4688 - val_accuracy: 0.7877\n",
            "Epoch 168/300\n",
            "8195/8195 [==============================] - 1s 64us/sample - loss: 0.4808 - accuracy: 0.7800 - val_loss: 0.4682 - val_accuracy: 0.7897\n",
            "Epoch 169/300\n",
            "8195/8195 [==============================] - 1s 64us/sample - loss: 0.4781 - accuracy: 0.7806 - val_loss: 0.4677 - val_accuracy: 0.7906\n",
            "Epoch 170/300\n",
            "8195/8195 [==============================] - 1s 65us/sample - loss: 0.4824 - accuracy: 0.7786 - val_loss: 0.4686 - val_accuracy: 0.7897\n",
            "Epoch 171/300\n",
            "8195/8195 [==============================] - 1s 65us/sample - loss: 0.4811 - accuracy: 0.7799 - val_loss: 0.4700 - val_accuracy: 0.7838\n",
            "Epoch 172/300\n",
            "8195/8195 [==============================] - 1s 66us/sample - loss: 0.4805 - accuracy: 0.7843 - val_loss: 0.4720 - val_accuracy: 0.7848\n",
            "Epoch 173/300\n",
            "8195/8195 [==============================] - 1s 65us/sample - loss: 0.4804 - accuracy: 0.7799 - val_loss: 0.4666 - val_accuracy: 0.7877\n",
            "Epoch 174/300\n",
            "8195/8195 [==============================] - 1s 65us/sample - loss: 0.4807 - accuracy: 0.7799 - val_loss: 0.4687 - val_accuracy: 0.7887\n",
            "Epoch 175/300\n",
            "8195/8195 [==============================] - 1s 64us/sample - loss: 0.4810 - accuracy: 0.7812 - val_loss: 0.4689 - val_accuracy: 0.7921\n",
            "Epoch 176/300\n",
            "8195/8195 [==============================] - 1s 65us/sample - loss: 0.4818 - accuracy: 0.7811 - val_loss: 0.4671 - val_accuracy: 0.7892\n",
            "Epoch 177/300\n",
            "8195/8195 [==============================] - 1s 66us/sample - loss: 0.4844 - accuracy: 0.7797 - val_loss: 0.4673 - val_accuracy: 0.7921\n",
            "Epoch 178/300\n",
            "8195/8195 [==============================] - 1s 64us/sample - loss: 0.4829 - accuracy: 0.7790 - val_loss: 0.4661 - val_accuracy: 0.7911\n",
            "Epoch 179/300\n",
            "8195/8195 [==============================] - 1s 63us/sample - loss: 0.4811 - accuracy: 0.7821 - val_loss: 0.4704 - val_accuracy: 0.7877\n",
            "Epoch 180/300\n",
            "8195/8195 [==============================] - 1s 65us/sample - loss: 0.4835 - accuracy: 0.7769 - val_loss: 0.4728 - val_accuracy: 0.7887\n",
            "Epoch 181/300\n",
            "8195/8195 [==============================] - 1s 66us/sample - loss: 0.4850 - accuracy: 0.7767 - val_loss: 0.4709 - val_accuracy: 0.7916\n",
            "Epoch 182/300\n",
            "8195/8195 [==============================] - 1s 66us/sample - loss: 0.4836 - accuracy: 0.7806 - val_loss: 0.4686 - val_accuracy: 0.7901\n",
            "Epoch 183/300\n",
            "8195/8195 [==============================] - 1s 65us/sample - loss: 0.4835 - accuracy: 0.7780 - val_loss: 0.4663 - val_accuracy: 0.7911\n",
            "Epoch 184/300\n",
            "8195/8195 [==============================] - 1s 64us/sample - loss: 0.4834 - accuracy: 0.7773 - val_loss: 0.4714 - val_accuracy: 0.7833\n",
            "Epoch 185/300\n",
            "8195/8195 [==============================] - 1s 65us/sample - loss: 0.4806 - accuracy: 0.7812 - val_loss: 0.4671 - val_accuracy: 0.7887\n",
            "Epoch 186/300\n",
            "8195/8195 [==============================] - 1s 64us/sample - loss: 0.4833 - accuracy: 0.7800 - val_loss: 0.4726 - val_accuracy: 0.7823\n",
            "Epoch 187/300\n",
            "8195/8195 [==============================] - 1s 67us/sample - loss: 0.4817 - accuracy: 0.7810 - val_loss: 0.4697 - val_accuracy: 0.7828\n",
            "Epoch 188/300\n",
            "8195/8195 [==============================] - 1s 64us/sample - loss: 0.4814 - accuracy: 0.7786 - val_loss: 0.4663 - val_accuracy: 0.7911\n",
            "Epoch 189/300\n",
            "8195/8195 [==============================] - 1s 65us/sample - loss: 0.4847 - accuracy: 0.7716 - val_loss: 0.4689 - val_accuracy: 0.7872\n",
            "Epoch 190/300\n",
            "8195/8195 [==============================] - 1s 65us/sample - loss: 0.4830 - accuracy: 0.7788 - val_loss: 0.4687 - val_accuracy: 0.7897\n",
            "Epoch 191/300\n",
            "8195/8195 [==============================] - 1s 65us/sample - loss: 0.4827 - accuracy: 0.7816 - val_loss: 0.4679 - val_accuracy: 0.7897\n",
            "Epoch 192/300\n",
            "8195/8195 [==============================] - 1s 64us/sample - loss: 0.4808 - accuracy: 0.7774 - val_loss: 0.4671 - val_accuracy: 0.7892\n",
            "Epoch 193/300\n",
            "8195/8195 [==============================] - 1s 66us/sample - loss: 0.4832 - accuracy: 0.7784 - val_loss: 0.4675 - val_accuracy: 0.7872\n",
            "Epoch 194/300\n",
            "8195/8195 [==============================] - 1s 64us/sample - loss: 0.4805 - accuracy: 0.7740 - val_loss: 0.4684 - val_accuracy: 0.7892\n",
            "Epoch 195/300\n",
            "8195/8195 [==============================] - 1s 65us/sample - loss: 0.4817 - accuracy: 0.7778 - val_loss: 0.4732 - val_accuracy: 0.7892\n",
            "Epoch 196/300\n",
            "8195/8195 [==============================] - 1s 66us/sample - loss: 0.4836 - accuracy: 0.7774 - val_loss: 0.4722 - val_accuracy: 0.7897\n",
            "Epoch 197/300\n",
            "8195/8195 [==============================] - 1s 64us/sample - loss: 0.4796 - accuracy: 0.7823 - val_loss: 0.4666 - val_accuracy: 0.7901\n",
            "Epoch 198/300\n",
            "8195/8195 [==============================] - 1s 64us/sample - loss: 0.4791 - accuracy: 0.7812 - val_loss: 0.4750 - val_accuracy: 0.7848\n",
            "Epoch 199/300\n",
            "8195/8195 [==============================] - 1s 66us/sample - loss: 0.4811 - accuracy: 0.7819 - val_loss: 0.4687 - val_accuracy: 0.7897\n",
            "Epoch 200/300\n",
            "8195/8195 [==============================] - 1s 65us/sample - loss: 0.4826 - accuracy: 0.7749 - val_loss: 0.4702 - val_accuracy: 0.7818\n",
            "Epoch 201/300\n",
            "8195/8195 [==============================] - 1s 66us/sample - loss: 0.4804 - accuracy: 0.7816 - val_loss: 0.4662 - val_accuracy: 0.7897\n",
            "Epoch 202/300\n",
            "8195/8195 [==============================] - 1s 65us/sample - loss: 0.4803 - accuracy: 0.7777 - val_loss: 0.4697 - val_accuracy: 0.7828\n",
            "Epoch 203/300\n",
            "8195/8195 [==============================] - 1s 66us/sample - loss: 0.4827 - accuracy: 0.7749 - val_loss: 0.4726 - val_accuracy: 0.7809\n",
            "Epoch 204/300\n",
            "8195/8195 [==============================] - 1s 65us/sample - loss: 0.4821 - accuracy: 0.7790 - val_loss: 0.4689 - val_accuracy: 0.7853\n",
            "Epoch 205/300\n",
            "8195/8195 [==============================] - 1s 65us/sample - loss: 0.4815 - accuracy: 0.7819 - val_loss: 0.4691 - val_accuracy: 0.7882\n",
            "Epoch 206/300\n",
            "8195/8195 [==============================] - 1s 65us/sample - loss: 0.4829 - accuracy: 0.7763 - val_loss: 0.4709 - val_accuracy: 0.7887\n",
            "Epoch 207/300\n",
            "8195/8195 [==============================] - 1s 64us/sample - loss: 0.4823 - accuracy: 0.7739 - val_loss: 0.4660 - val_accuracy: 0.7911\n",
            "Epoch 208/300\n",
            "8195/8195 [==============================] - 1s 66us/sample - loss: 0.4805 - accuracy: 0.7784 - val_loss: 0.4663 - val_accuracy: 0.7911\n",
            "Epoch 209/300\n",
            "8195/8195 [==============================] - 1s 64us/sample - loss: 0.4812 - accuracy: 0.7777 - val_loss: 0.4680 - val_accuracy: 0.7911\n",
            "Epoch 210/300\n",
            "8195/8195 [==============================] - 1s 65us/sample - loss: 0.4812 - accuracy: 0.7822 - val_loss: 0.4689 - val_accuracy: 0.7853\n",
            "Epoch 211/300\n",
            "8195/8195 [==============================] - 1s 65us/sample - loss: 0.4833 - accuracy: 0.7826 - val_loss: 0.4679 - val_accuracy: 0.7872\n",
            "Epoch 212/300\n",
            "8195/8195 [==============================] - 1s 65us/sample - loss: 0.4797 - accuracy: 0.7796 - val_loss: 0.4669 - val_accuracy: 0.7906\n",
            "Epoch 213/300\n",
            "8195/8195 [==============================] - 1s 65us/sample - loss: 0.4793 - accuracy: 0.7801 - val_loss: 0.4694 - val_accuracy: 0.7843\n",
            "Epoch 214/300\n",
            "8195/8195 [==============================] - 1s 65us/sample - loss: 0.4800 - accuracy: 0.7802 - val_loss: 0.4714 - val_accuracy: 0.7872\n",
            "Epoch 215/300\n",
            "8195/8195 [==============================] - 1s 65us/sample - loss: 0.4797 - accuracy: 0.7775 - val_loss: 0.4667 - val_accuracy: 0.7892\n",
            "Epoch 216/300\n",
            "8195/8195 [==============================] - 1s 65us/sample - loss: 0.4798 - accuracy: 0.7769 - val_loss: 0.4680 - val_accuracy: 0.7882\n",
            "Epoch 217/300\n",
            "8195/8195 [==============================] - 1s 67us/sample - loss: 0.4866 - accuracy: 0.7757 - val_loss: 0.4663 - val_accuracy: 0.7901\n",
            "Epoch 218/300\n",
            "8195/8195 [==============================] - 1s 65us/sample - loss: 0.4808 - accuracy: 0.7786 - val_loss: 0.4689 - val_accuracy: 0.7887\n",
            "Epoch 219/300\n",
            "8195/8195 [==============================] - 1s 65us/sample - loss: 0.4810 - accuracy: 0.7797 - val_loss: 0.4671 - val_accuracy: 0.7911\n",
            "Epoch 220/300\n",
            "8195/8195 [==============================] - 1s 68us/sample - loss: 0.4810 - accuracy: 0.7778 - val_loss: 0.4715 - val_accuracy: 0.7828\n",
            "Epoch 221/300\n",
            "8195/8195 [==============================] - 1s 66us/sample - loss: 0.4806 - accuracy: 0.7816 - val_loss: 0.4668 - val_accuracy: 0.7882\n",
            "Epoch 222/300\n",
            "8195/8195 [==============================] - 1s 64us/sample - loss: 0.4801 - accuracy: 0.7826 - val_loss: 0.4689 - val_accuracy: 0.7892\n",
            "Epoch 223/300\n",
            "8195/8195 [==============================] - 1s 65us/sample - loss: 0.4785 - accuracy: 0.7822 - val_loss: 0.4696 - val_accuracy: 0.7872\n",
            "Epoch 224/300\n",
            "8195/8195 [==============================] - 1s 64us/sample - loss: 0.4815 - accuracy: 0.7791 - val_loss: 0.4655 - val_accuracy: 0.7901\n",
            "Epoch 225/300\n",
            "8195/8195 [==============================] - 1s 66us/sample - loss: 0.4851 - accuracy: 0.7743 - val_loss: 0.4667 - val_accuracy: 0.7901\n",
            "Epoch 226/300\n",
            "8195/8195 [==============================] - 1s 64us/sample - loss: 0.4788 - accuracy: 0.7818 - val_loss: 0.4719 - val_accuracy: 0.7892\n",
            "Epoch 227/300\n",
            "8195/8195 [==============================] - 1s 65us/sample - loss: 0.4821 - accuracy: 0.7801 - val_loss: 0.4676 - val_accuracy: 0.7926\n",
            "Epoch 228/300\n",
            "8195/8195 [==============================] - 1s 64us/sample - loss: 0.4816 - accuracy: 0.7784 - val_loss: 0.4672 - val_accuracy: 0.7906\n",
            "Epoch 229/300\n",
            "8195/8195 [==============================] - 1s 65us/sample - loss: 0.4832 - accuracy: 0.7783 - val_loss: 0.4688 - val_accuracy: 0.7848\n",
            "Epoch 230/300\n",
            "8195/8195 [==============================] - 1s 64us/sample - loss: 0.4838 - accuracy: 0.7824 - val_loss: 0.4716 - val_accuracy: 0.7838\n",
            "Epoch 231/300\n",
            "8195/8195 [==============================] - 1s 65us/sample - loss: 0.4813 - accuracy: 0.7797 - val_loss: 0.4677 - val_accuracy: 0.7843\n",
            "Epoch 232/300\n",
            "8195/8195 [==============================] - 1s 66us/sample - loss: 0.4829 - accuracy: 0.7788 - val_loss: 0.4675 - val_accuracy: 0.7916\n",
            "Epoch 233/300\n",
            "8195/8195 [==============================] - 1s 65us/sample - loss: 0.4831 - accuracy: 0.7752 - val_loss: 0.4674 - val_accuracy: 0.7906\n",
            "Epoch 234/300\n",
            "8195/8195 [==============================] - 1s 65us/sample - loss: 0.4826 - accuracy: 0.7767 - val_loss: 0.4660 - val_accuracy: 0.7887\n",
            "Epoch 235/300\n",
            "8195/8195 [==============================] - 1s 64us/sample - loss: 0.4820 - accuracy: 0.7816 - val_loss: 0.4702 - val_accuracy: 0.7862\n",
            "Epoch 236/300\n",
            "8195/8195 [==============================] - 1s 65us/sample - loss: 0.4829 - accuracy: 0.7804 - val_loss: 0.4678 - val_accuracy: 0.7887\n",
            "Epoch 237/300\n",
            "8195/8195 [==============================] - 1s 65us/sample - loss: 0.4790 - accuracy: 0.7813 - val_loss: 0.4683 - val_accuracy: 0.7901\n",
            "Epoch 238/300\n",
            "8195/8195 [==============================] - 1s 66us/sample - loss: 0.4830 - accuracy: 0.7766 - val_loss: 0.4652 - val_accuracy: 0.7906\n",
            "Epoch 239/300\n",
            "8195/8195 [==============================] - 1s 64us/sample - loss: 0.4819 - accuracy: 0.7762 - val_loss: 0.4670 - val_accuracy: 0.7857\n",
            "Epoch 240/300\n",
            "8195/8195 [==============================] - 1s 68us/sample - loss: 0.4803 - accuracy: 0.7760 - val_loss: 0.4666 - val_accuracy: 0.7911\n",
            "Epoch 241/300\n",
            "8195/8195 [==============================] - 1s 64us/sample - loss: 0.4811 - accuracy: 0.7819 - val_loss: 0.4663 - val_accuracy: 0.7882\n",
            "Epoch 242/300\n",
            "8195/8195 [==============================] - 1s 65us/sample - loss: 0.4848 - accuracy: 0.7762 - val_loss: 0.4690 - val_accuracy: 0.7911\n",
            "Epoch 243/300\n",
            "8195/8195 [==============================] - 1s 65us/sample - loss: 0.4796 - accuracy: 0.7793 - val_loss: 0.4725 - val_accuracy: 0.7911\n",
            "Epoch 244/300\n",
            "8195/8195 [==============================] - 1s 65us/sample - loss: 0.4816 - accuracy: 0.7789 - val_loss: 0.4649 - val_accuracy: 0.7906\n",
            "Epoch 245/300\n",
            "8195/8195 [==============================] - 1s 65us/sample - loss: 0.4851 - accuracy: 0.7743 - val_loss: 0.4698 - val_accuracy: 0.7818\n",
            "Epoch 246/300\n",
            "8195/8195 [==============================] - 1s 66us/sample - loss: 0.4805 - accuracy: 0.7782 - val_loss: 0.4674 - val_accuracy: 0.7887\n",
            "Epoch 247/300\n",
            "8195/8195 [==============================] - 1s 65us/sample - loss: 0.4824 - accuracy: 0.7777 - val_loss: 0.4666 - val_accuracy: 0.7906\n",
            "Epoch 248/300\n",
            "8195/8195 [==============================] - 1s 65us/sample - loss: 0.4799 - accuracy: 0.7795 - val_loss: 0.4650 - val_accuracy: 0.7911\n",
            "Epoch 249/300\n",
            "8195/8195 [==============================] - 1s 67us/sample - loss: 0.4833 - accuracy: 0.7788 - val_loss: 0.4666 - val_accuracy: 0.7857\n",
            "Epoch 250/300\n",
            "8195/8195 [==============================] - 1s 63us/sample - loss: 0.4801 - accuracy: 0.7793 - val_loss: 0.4670 - val_accuracy: 0.7897\n",
            "Epoch 251/300\n",
            "8195/8195 [==============================] - 1s 65us/sample - loss: 0.4787 - accuracy: 0.7819 - val_loss: 0.4656 - val_accuracy: 0.7901\n",
            "Epoch 252/300\n",
            "8195/8195 [==============================] - 1s 63us/sample - loss: 0.4801 - accuracy: 0.7829 - val_loss: 0.4690 - val_accuracy: 0.7892\n",
            "Epoch 253/300\n",
            "8195/8195 [==============================] - 1s 67us/sample - loss: 0.4806 - accuracy: 0.7786 - val_loss: 0.4657 - val_accuracy: 0.7887\n",
            "Epoch 254/300\n",
            "8195/8195 [==============================] - 1s 67us/sample - loss: 0.4816 - accuracy: 0.7795 - val_loss: 0.4672 - val_accuracy: 0.7897\n",
            "Epoch 255/300\n",
            "8195/8195 [==============================] - 1s 67us/sample - loss: 0.4799 - accuracy: 0.7811 - val_loss: 0.4660 - val_accuracy: 0.7916\n",
            "Epoch 256/300\n",
            "8195/8195 [==============================] - 1s 67us/sample - loss: 0.4830 - accuracy: 0.7751 - val_loss: 0.4730 - val_accuracy: 0.7823\n",
            "Epoch 257/300\n",
            "8195/8195 [==============================] - 1s 67us/sample - loss: 0.4832 - accuracy: 0.7766 - val_loss: 0.4715 - val_accuracy: 0.7843\n",
            "Epoch 258/300\n",
            "8195/8195 [==============================] - 1s 69us/sample - loss: 0.4809 - accuracy: 0.7778 - val_loss: 0.4669 - val_accuracy: 0.7911\n",
            "Epoch 259/300\n",
            "8195/8195 [==============================] - 1s 69us/sample - loss: 0.4827 - accuracy: 0.7782 - val_loss: 0.4711 - val_accuracy: 0.7833\n",
            "Epoch 260/300\n",
            "8195/8195 [==============================] - 1s 68us/sample - loss: 0.4804 - accuracy: 0.7818 - val_loss: 0.4651 - val_accuracy: 0.7897\n",
            "Epoch 261/300\n",
            "8195/8195 [==============================] - 1s 66us/sample - loss: 0.4826 - accuracy: 0.7782 - val_loss: 0.4794 - val_accuracy: 0.7838\n",
            "Epoch 262/300\n",
            "8195/8195 [==============================] - 1s 68us/sample - loss: 0.4809 - accuracy: 0.7785 - val_loss: 0.4667 - val_accuracy: 0.7911\n",
            "Epoch 263/300\n",
            "8195/8195 [==============================] - 1s 67us/sample - loss: 0.4795 - accuracy: 0.7822 - val_loss: 0.4705 - val_accuracy: 0.7857\n",
            "Epoch 264/300\n",
            "8195/8195 [==============================] - 1s 68us/sample - loss: 0.4810 - accuracy: 0.7794 - val_loss: 0.4680 - val_accuracy: 0.7867\n",
            "Epoch 265/300\n",
            "8195/8195 [==============================] - 1s 65us/sample - loss: 0.4809 - accuracy: 0.7778 - val_loss: 0.4746 - val_accuracy: 0.7843\n",
            "Epoch 266/300\n",
            "8195/8195 [==============================] - 1s 66us/sample - loss: 0.4789 - accuracy: 0.7802 - val_loss: 0.4686 - val_accuracy: 0.7901\n",
            "Epoch 267/300\n",
            "8195/8195 [==============================] - 1s 67us/sample - loss: 0.4800 - accuracy: 0.7775 - val_loss: 0.4649 - val_accuracy: 0.7911\n",
            "Epoch 268/300\n",
            "8195/8195 [==============================] - 1s 69us/sample - loss: 0.4796 - accuracy: 0.7768 - val_loss: 0.4684 - val_accuracy: 0.7882\n",
            "Epoch 269/300\n",
            "8195/8195 [==============================] - 1s 67us/sample - loss: 0.4837 - accuracy: 0.7785 - val_loss: 0.4663 - val_accuracy: 0.7897\n",
            "Epoch 270/300\n",
            "8195/8195 [==============================] - 1s 67us/sample - loss: 0.4812 - accuracy: 0.7790 - val_loss: 0.4667 - val_accuracy: 0.7828\n",
            "Epoch 271/300\n",
            "8195/8195 [==============================] - 1s 67us/sample - loss: 0.4798 - accuracy: 0.7829 - val_loss: 0.4714 - val_accuracy: 0.7897\n",
            "Epoch 272/300\n",
            "8195/8195 [==============================] - 1s 68us/sample - loss: 0.4803 - accuracy: 0.7785 - val_loss: 0.4669 - val_accuracy: 0.7892\n",
            "Epoch 273/300\n",
            "8195/8195 [==============================] - 1s 65us/sample - loss: 0.4810 - accuracy: 0.7778 - val_loss: 0.4686 - val_accuracy: 0.7872\n",
            "Epoch 274/300\n",
            "8195/8195 [==============================] - 1s 64us/sample - loss: 0.4798 - accuracy: 0.7779 - val_loss: 0.4713 - val_accuracy: 0.7818\n",
            "Epoch 275/300\n",
            "8195/8195 [==============================] - 1s 64us/sample - loss: 0.4820 - accuracy: 0.7760 - val_loss: 0.4715 - val_accuracy: 0.7809\n",
            "Epoch 276/300\n",
            "8195/8195 [==============================] - 1s 64us/sample - loss: 0.4840 - accuracy: 0.7761 - val_loss: 0.4685 - val_accuracy: 0.7906\n",
            "Epoch 277/300\n",
            "8195/8195 [==============================] - 1s 66us/sample - loss: 0.4816 - accuracy: 0.7767 - val_loss: 0.4674 - val_accuracy: 0.7906\n",
            "Epoch 278/300\n",
            "8195/8195 [==============================] - 1s 66us/sample - loss: 0.4814 - accuracy: 0.7779 - val_loss: 0.4668 - val_accuracy: 0.7882\n",
            "Epoch 279/300\n",
            "8195/8195 [==============================] - 1s 64us/sample - loss: 0.4810 - accuracy: 0.7786 - val_loss: 0.4664 - val_accuracy: 0.7882\n",
            "Epoch 280/300\n",
            "8195/8195 [==============================] - 1s 64us/sample - loss: 0.4801 - accuracy: 0.7822 - val_loss: 0.4639 - val_accuracy: 0.7906\n",
            "Epoch 281/300\n",
            "8195/8195 [==============================] - 1s 65us/sample - loss: 0.4796 - accuracy: 0.7811 - val_loss: 0.4733 - val_accuracy: 0.7877\n",
            "Epoch 282/300\n",
            "8195/8195 [==============================] - 1s 66us/sample - loss: 0.4821 - accuracy: 0.7813 - val_loss: 0.4676 - val_accuracy: 0.7906\n",
            "Epoch 283/300\n",
            "8195/8195 [==============================] - 1s 65us/sample - loss: 0.4775 - accuracy: 0.7790 - val_loss: 0.4672 - val_accuracy: 0.7901\n",
            "Epoch 284/300\n",
            "8195/8195 [==============================] - 1s 64us/sample - loss: 0.4807 - accuracy: 0.7779 - val_loss: 0.4688 - val_accuracy: 0.7833\n",
            "Epoch 285/300\n",
            "8195/8195 [==============================] - 1s 64us/sample - loss: 0.4798 - accuracy: 0.7791 - val_loss: 0.4669 - val_accuracy: 0.7882\n",
            "Epoch 286/300\n",
            "8195/8195 [==============================] - 1s 66us/sample - loss: 0.4830 - accuracy: 0.7732 - val_loss: 0.4670 - val_accuracy: 0.7828\n",
            "Epoch 287/300\n",
            "8195/8195 [==============================] - 1s 64us/sample - loss: 0.4828 - accuracy: 0.7838 - val_loss: 0.4787 - val_accuracy: 0.7823\n",
            "Epoch 288/300\n",
            "8195/8195 [==============================] - 1s 65us/sample - loss: 0.4810 - accuracy: 0.7816 - val_loss: 0.4733 - val_accuracy: 0.7833\n",
            "Epoch 289/300\n",
            "8195/8195 [==============================] - 1s 63us/sample - loss: 0.4787 - accuracy: 0.7797 - val_loss: 0.4652 - val_accuracy: 0.7931\n",
            "Epoch 290/300\n",
            "8195/8195 [==============================] - 1s 65us/sample - loss: 0.4797 - accuracy: 0.7755 - val_loss: 0.4682 - val_accuracy: 0.7911\n",
            "Epoch 291/300\n",
            "8195/8195 [==============================] - 1s 64us/sample - loss: 0.4794 - accuracy: 0.7819 - val_loss: 0.4706 - val_accuracy: 0.7814\n",
            "Epoch 292/300\n",
            "8195/8195 [==============================] - 1s 65us/sample - loss: 0.4786 - accuracy: 0.7802 - val_loss: 0.4658 - val_accuracy: 0.7906\n",
            "Epoch 293/300\n",
            "8195/8195 [==============================] - 1s 64us/sample - loss: 0.4802 - accuracy: 0.7819 - val_loss: 0.4673 - val_accuracy: 0.7848\n",
            "Epoch 294/300\n",
            "8195/8195 [==============================] - 1s 67us/sample - loss: 0.4807 - accuracy: 0.7775 - val_loss: 0.4704 - val_accuracy: 0.7848\n",
            "Epoch 295/300\n",
            "8195/8195 [==============================] - 1s 65us/sample - loss: 0.4791 - accuracy: 0.7790 - val_loss: 0.4760 - val_accuracy: 0.7784\n",
            "Epoch 296/300\n",
            "8195/8195 [==============================] - 1s 65us/sample - loss: 0.4821 - accuracy: 0.7782 - val_loss: 0.4766 - val_accuracy: 0.7799\n",
            "Epoch 297/300\n",
            "8195/8195 [==============================] - 1s 67us/sample - loss: 0.4823 - accuracy: 0.7763 - val_loss: 0.4724 - val_accuracy: 0.7911\n",
            "Epoch 298/300\n",
            "8195/8195 [==============================] - 1s 66us/sample - loss: 0.4790 - accuracy: 0.7786 - val_loss: 0.4659 - val_accuracy: 0.7897\n",
            "Epoch 299/300\n",
            "8195/8195 [==============================] - 1s 65us/sample - loss: 0.4802 - accuracy: 0.7786 - val_loss: 0.4682 - val_accuracy: 0.7882\n",
            "Epoch 300/300\n",
            "8195/8195 [==============================] - 1s 64us/sample - loss: 0.4827 - accuracy: 0.7762 - val_loss: 0.4672 - val_accuracy: 0.7897\n"
          ],
          "name": "stdout"
        }
      ]
    },
    {
      "cell_type": "code",
      "metadata": {
        "id": "1jGCJ1ogW1Dj",
        "colab_type": "code",
        "colab": {}
      },
      "source": [
        "y_pred = dnn_model_predictor(dnn_classifier, X_test_pca)"
      ],
      "execution_count": 0,
      "outputs": []
    },
    {
      "cell_type": "code",
      "metadata": {
        "id": "i3QVNpuiW5H8",
        "colab_type": "code",
        "outputId": "d68acf2d-9917-4c60-8d1e-ce3833ad3b61",
        "colab": {
          "base_uri": "https://localhost:8080/",
          "height": 573
        }
      },
      "source": [
        "train_analys(history)"
      ],
      "execution_count": 50,
      "outputs": [
        {
          "output_type": "display_data",
          "data": {
            "image/png": "[encoded data removed]",
            "text/plain": [
              "<Figure size 432x288 with 1 Axes>"
            ]
          },
          "metadata": {
            "tags": [],
            "needs_background": "light"
          }
        },
        {
          "output_type": "display_data",
          "data": {
            "image/png": "[encoded data removed]",
            "text/plain": [
              "<Figure size 432x288 with 1 Axes>"
            ]
          },
          "metadata": {
            "tags": [],
            "needs_background": "light"
          }
        }
      ]
    },
    {
      "cell_type": "markdown",
      "metadata": {
        "id": "tHFGV6ZjK-zX",
        "colab_type": "text"
      },
      "source": [
        "Becuase the difference and gap between Training loss and validation loss is infinitesimal, we can conclude that our model isnt overfitted on training set."
      ]
    },
    {
      "cell_type": "code",
      "metadata": {
        "id": "Y2EIEH1YW6wH",
        "colab_type": "code",
        "outputId": "84897d83-be8b-4a7d-99da-a1a2059d6a02",
        "colab": {
          "base_uri": "https://localhost:8080/",
          "height": 125
        }
      },
      "source": [
        "compare(y_test, y_pred)"
      ],
      "execution_count": 51,
      "outputs": [
        {
          "output_type": "stream",
          "text": [
            "accuracy: 0.7640628558414939\n",
            "precision: 0.5385542168674698\n",
            "recall: 0.40636363636363637\n",
            "f1score: 0.46321243523316064\n",
            "confusion matrix: [[2908  383]\n",
            " [ 653  447]]\n"
          ],
          "name": "stdout"
        }
      ]
    },
    {
      "cell_type": "markdown",
      "metadata": {
        "id": "U_ufwlflYP-K",
        "colab_type": "text"
      },
      "source": [
        "## DNN Hyperparameter Tuning"
      ]
    },
    {
      "cell_type": "markdown",
      "metadata": {
        "id": "flbbYxxcAAvy",
        "colab_type": "text"
      },
      "source": [
        "in order to tune our parameter, we decide to use a grid search and find best parameters"
      ]
    },
    {
      "cell_type": "code",
      "metadata": {
        "id": "vlMfRROUYM5m",
        "colab_type": "code",
        "colab": {
          "base_uri": "https://localhost:8080/",
          "height": 1000
        },
        "outputId": "5502258e-37ac-4996-fc45-ce8df5cbbba5"
      },
      "source": [
        "grid_values = {\n",
        "    'layer_nodes': ['64', '128', '256'],\n",
        "    'dropout':[0.2, 0.3, 0.5],\n",
        "    'alpha' : [0.0001, 0.001, 0.01]\n",
        "    }\n",
        "\n",
        "top = {\"layer_nodes\": 64, \"dropout\": 0.3, \"alpha\": 0.001}\n",
        "top_val = 0\n",
        "for i in grid_values['layer_nodes']:\n",
        "    for j in grid_values[\"dropout\"]:\n",
        "        for k in grid_values[\"alpha\"]:\n",
        "            print(\"training model on : { layer nodes : %s, dropout: %s, alpha : %s }\" % (i, j, k))\n",
        "            \n",
        "            dnn_classifier_drid = dnn_model_builder(layer_nodes = i, dropout = j, alpha = k, input_shape=(X_train_standardized.shape[1], ))\n",
        "            grid_history = dnn_classifier_drid.fit(X_train_standardized, y_train, epochs=200, batch_size=32 ,shuffle=True, validation_split=0.2, verbose = 0)\n",
        "            \n",
        "            temp = grid_history.history[\"accuracy\"][-1]\n",
        "            print(\"model accuracy on trainset : % f\" % (temp))\n",
        "            if temp > top_val:\n",
        "                top_val = temp\n",
        "                top = {\"layer_nodes\": i, \"dropout\": j, \"alpha\": k}\n",
        "\n",
        "print(\"best values are : { layer nodes : %s, dropout: %s, alpha : %s }\" % (top[\"layer_nodes\"], top[\"dropout\"], top[\"alpha\"]))"
      ],
      "execution_count": 61,
      "outputs": [
        {
          "output_type": "stream",
          "text": [
            "training model on : { layer nodes : 64, dropout: 0.2, alpha : 0.0001 }\n",
            "model accuracy on trainset :  0.799268\n",
            "training model on : { layer nodes : 64, dropout: 0.2, alpha : 0.001 }\n",
            "model accuracy on trainset :  0.796949\n",
            "training model on : { layer nodes : 64, dropout: 0.2, alpha : 0.01 }\n",
            "model accuracy on trainset :  0.781574\n",
            "training model on : { layer nodes : 64, dropout: 0.3, alpha : 0.0001 }\n",
            "model accuracy on trainset :  0.795485\n",
            "training model on : { layer nodes : 64, dropout: 0.3, alpha : 0.001 }\n",
            "model accuracy on trainset :  0.799756\n",
            "training model on : { layer nodes : 64, dropout: 0.3, alpha : 0.01 }\n",
            "model accuracy on trainset :  0.767663\n",
            "training model on : { layer nodes : 64, dropout: 0.5, alpha : 0.0001 }\n",
            "model accuracy on trainset :  0.790360\n",
            "training model on : { layer nodes : 64, dropout: 0.5, alpha : 0.001 }\n",
            "model accuracy on trainset :  0.776205\n",
            "training model on : { layer nodes : 64, dropout: 0.5, alpha : 0.01 }\n",
            "model accuracy on trainset :  0.760220\n",
            "training model on : { layer nodes : 128, dropout: 0.2, alpha : 0.0001 }\n",
            "model accuracy on trainset :  0.799756\n",
            "training model on : { layer nodes : 128, dropout: 0.2, alpha : 0.001 }\n",
            "model accuracy on trainset :  0.800244\n",
            "training model on : { layer nodes : 128, dropout: 0.2, alpha : 0.01 }\n",
            "model accuracy on trainset :  0.772056\n",
            "training model on : { layer nodes : 128, dropout: 0.3, alpha : 0.0001 }\n",
            "model accuracy on trainset :  0.792190\n",
            "training model on : { layer nodes : 128, dropout: 0.3, alpha : 0.001 }\n",
            "model accuracy on trainset :  0.793167\n",
            "training model on : { layer nodes : 128, dropout: 0.3, alpha : 0.01 }\n",
            "model accuracy on trainset :  0.764369\n",
            "training model on : { layer nodes : 128, dropout: 0.5, alpha : 0.0001 }\n",
            "model accuracy on trainset :  0.787431\n",
            "training model on : { layer nodes : 128, dropout: 0.5, alpha : 0.001 }\n",
            "model accuracy on trainset :  0.787309\n",
            "training model on : { layer nodes : 128, dropout: 0.5, alpha : 0.01 }\n",
            "model accuracy on trainset :  0.762538\n",
            "training model on : { layer nodes : 256, dropout: 0.2, alpha : 0.0001 }\n",
            "model accuracy on trainset :  0.805613\n",
            "training model on : { layer nodes : 256, dropout: 0.2, alpha : 0.001 }\n",
            "model accuracy on trainset :  0.795973\n",
            "training model on : { layer nodes : 256, dropout: 0.2, alpha : 0.01 }\n",
            "model accuracy on trainset :  0.772422\n",
            "training model on : { layer nodes : 256, dropout: 0.3, alpha : 0.0001 }\n",
            "model accuracy on trainset :  0.794997\n",
            "training model on : { layer nodes : 256, dropout: 0.3, alpha : 0.001 }\n",
            "model accuracy on trainset :  0.798414\n",
            "training model on : { layer nodes : 256, dropout: 0.3, alpha : 0.01 }\n",
            "model accuracy on trainset :  0.766565\n",
            "training model on : { layer nodes : 256, dropout: 0.5, alpha : 0.0001 }\n",
            "model accuracy on trainset :  0.781452\n",
            "training model on : { layer nodes : 256, dropout: 0.5, alpha : 0.001 }\n",
            "model accuracy on trainset :  0.784747\n",
            "training model on : { layer nodes : 256, dropout: 0.5, alpha : 0.01 }\n",
            "model accuracy on trainset :  0.762904\n",
            "best values are : { layer nodes : 256, dropout: 0.2, alpha : 0.0001 }\n"
          ],
          "name": "stdout"
        }
      ]
    },
    {
      "cell_type": "markdown",
      "metadata": {
        "id": "ekDkz1ZzYX6M",
        "colab_type": "text"
      },
      "source": [
        "# Conclusion"
      ]
    },
    {
      "cell_type": "markdown",
      "metadata": {
        "id": "hvJxuyVJAzS_",
        "colab_type": "text"
      },
      "source": [
        "it seams that our model has a better score on our full data and pca lacks in getting the data complexity. however it sounds that the model have some issue on f1score and the number of false positives and true negatives are marginally high. This could be due to having imbalance data. So in the final step we try to first balance our data (base on our target) and retrain our model again"
      ]
    },
    {
      "cell_type": "markdown",
      "metadata": {
        "id": "G8tmn3iIH2sF",
        "colab_type": "text"
      },
      "source": [
        "# Final Step"
      ]
    },
    {
      "cell_type": "markdown",
      "metadata": {
        "id": "0Rarf9flH6ST",
        "colab_type": "text"
      },
      "source": [
        "try to balance our model and re-train it"
      ]
    },
    {
      "cell_type": "code",
      "metadata": {
        "id": "QP3ZtP3mCyZj",
        "colab_type": "code",
        "colab": {
          "base_uri": "https://localhost:8080/",
          "height": 53
        },
        "outputId": "50510c57-1cbf-4a10-b9b9-6ab70bb9449a"
      },
      "source": [
        "print(\"Aggregate count of targets with label == 0 is : %d\" %(len(y_train[y_train == 0])))\n",
        "print(\"Aggregate count of targets with label == 1 is : %d\" %(len(y_train[y_train == 1])))"
      ],
      "execution_count": 78,
      "outputs": [
        {
          "output_type": "stream",
          "text": [
            "Aggregate count of targets with label == 0 is : 7654\n",
            "Aggregate count of targets with label == 1 is : 2590\n"
          ],
          "name": "stdout"
        }
      ]
    },
    {
      "cell_type": "code",
      "metadata": {
        "id": "ewgE9NJYD0MX",
        "colab_type": "code",
        "colab": {}
      },
      "source": [
        "count_label_zero = len(y_train[y_train == 0])\n",
        "count_label_one = len(y_train[y_train == 1])\n",
        "\n",
        "X_train_standardized_balance = []\n",
        "y_train_balance = []\n",
        "counter_balance = 0\n",
        "\n",
        "for i in range(len(X_train_standardized)):\n",
        "    if (y_train[i] == 0 and count_label_zero < count_label_one):\n",
        "        X_train_standardized_balance.append(X_train_standardized[i])\n",
        "        y_train_balance.append(y_train[i])\n",
        "    if (y_train[i] == 0 and count_label_zero > count_label_one and counter_balance < count_label_one):\n",
        "        X_train_standardized_balance.append(X_train_standardized[i])\n",
        "        y_train_balance.append(y_train[i])\n",
        "        counter_balance += 1\n",
        "    \n",
        "    if (y_train[i] == 1 and count_label_zero > count_label_one):\n",
        "        X_train_standardized_balance.append(X_train_standardized[i])\n",
        "        y_train_balance.append(y_train[i])\n",
        "    if (y_train[i] == 1 and count_label_zero < count_label_one and counter_balance < count_label_zero):\n",
        "        X_train_standardized_balance.append(X_train_standardized[i])\n",
        "        y_train_balance.append(y_train[i])\n",
        "        counter_balance += 1\n",
        "\n",
        "X_train_standardized_balance = np.array(X_train_standardized_balance)\n",
        "y_train_balance = np.array(y_train_balance)"
      ],
      "execution_count": 0,
      "outputs": []
    },
    {
      "cell_type": "code",
      "metadata": {
        "id": "qWPRx1vOGN71",
        "colab_type": "code",
        "colab": {
          "base_uri": "https://localhost:8080/",
          "height": 53
        },
        "outputId": "536fd373-71a4-4382-f51f-aaaf5e6196f2"
      },
      "source": [
        "print(\"Aggregate count of targets with label == 0 after make our training set balance is : %d\" %(len(y_train_balance[y_train_balance == 0])))\n",
        "print(\"Aggregate count of targets with label == 1 after make our training set balance is : %d\" %(len(y_train_balance[y_train_balance == 1])))"
      ],
      "execution_count": 83,
      "outputs": [
        {
          "output_type": "stream",
          "text": [
            "Aggregate count of targets with label == 0 after make our training set balance is : 2590\n",
            "Aggregate count of targets with label == 1 after make our training set balance is : 2590\n"
          ],
          "name": "stdout"
        }
      ]
    },
    {
      "cell_type": "markdown",
      "metadata": {
        "id": "MSF4jTQaIhHV",
        "colab_type": "text"
      },
      "source": [
        "## Model Creation"
      ]
    },
    {
      "cell_type": "code",
      "metadata": {
        "id": "x31gpFjYIDFn",
        "colab_type": "code",
        "colab": {}
      },
      "source": [
        "dnn_classifier_balance = dnn_model_builder(layer_nodes = 128, dropout = 0.3, alpha = 0.001, input_shape=(X_train_standardized_balance.shape[1], ))"
      ],
      "execution_count": 0,
      "outputs": []
    },
    {
      "cell_type": "markdown",
      "metadata": {
        "id": "OUuVYbVoInDZ",
        "colab_type": "text"
      },
      "source": [
        "## Train and Predict model"
      ]
    },
    {
      "cell_type": "code",
      "metadata": {
        "id": "FOaEGQs9IWjI",
        "colab_type": "code",
        "colab": {
          "base_uri": "https://localhost:8080/",
          "height": 1000
        },
        "outputId": "16a733c0-a9b4-4e53-b22d-f2d5657172e2"
      },
      "source": [
        "dnn_classifier_balance, history_balance = dnn_model_trainer(dnn_classifier_balance, X_train_standardized_balance, y_train_balance)"
      ],
      "execution_count": 86,
      "outputs": [
        {
          "output_type": "stream",
          "text": [
            "Train on 4144 samples, validate on 1036 samples\n",
            "Epoch 1/300\n",
            "4144/4144 [==============================] - 8s 2ms/sample - loss: 3.4706 - accuracy: 0.7029 - val_loss: 2.2773 - val_accuracy: 0.6207\n",
            "Epoch 2/300\n",
            "4144/4144 [==============================] - 1s 237us/sample - loss: 1.5168 - accuracy: 0.7447 - val_loss: 1.2803 - val_accuracy: 0.5840\n",
            "Epoch 3/300\n",
            "4144/4144 [==============================] - 1s 245us/sample - loss: 0.9039 - accuracy: 0.7466 - val_loss: 1.0116 - val_accuracy: 0.5695\n",
            "Epoch 4/300\n",
            "4144/4144 [==============================] - 1s 240us/sample - loss: 0.7376 - accuracy: 0.7495 - val_loss: 0.8309 - val_accuracy: 0.6245\n",
            "Epoch 5/300\n",
            "4144/4144 [==============================] - 1s 236us/sample - loss: 0.6666 - accuracy: 0.7543 - val_loss: 0.9690 - val_accuracy: 0.4932\n",
            "Epoch 6/300\n",
            "4144/4144 [==============================] - 1s 227us/sample - loss: 0.6319 - accuracy: 0.7502 - val_loss: 0.8204 - val_accuracy: 0.5898\n",
            "Epoch 7/300\n",
            "4144/4144 [==============================] - 1s 224us/sample - loss: 0.6102 - accuracy: 0.7527 - val_loss: 0.8355 - val_accuracy: 0.5589\n",
            "Epoch 8/300\n",
            "4144/4144 [==============================] - 1s 243us/sample - loss: 0.6041 - accuracy: 0.7527 - val_loss: 0.8083 - val_accuracy: 0.5763\n",
            "Epoch 9/300\n",
            "4144/4144 [==============================] - 1s 239us/sample - loss: 0.5966 - accuracy: 0.7495 - val_loss: 0.7204 - val_accuracy: 0.6293\n",
            "Epoch 10/300\n",
            "4144/4144 [==============================] - 1s 291us/sample - loss: 0.5893 - accuracy: 0.7500 - val_loss: 0.8214 - val_accuracy: 0.5541\n",
            "Epoch 11/300\n",
            "4144/4144 [==============================] - 2s 381us/sample - loss: 0.5853 - accuracy: 0.7514 - val_loss: 0.7545 - val_accuracy: 0.6129\n",
            "Epoch 12/300\n",
            "4144/4144 [==============================] - 2s 393us/sample - loss: 0.5807 - accuracy: 0.7572 - val_loss: 0.7904 - val_accuracy: 0.6100\n",
            "Epoch 13/300\n",
            "4144/4144 [==============================] - 1s 259us/sample - loss: 0.5895 - accuracy: 0.7507 - val_loss: 0.7681 - val_accuracy: 0.6274\n",
            "Epoch 14/300\n",
            "4144/4144 [==============================] - 1s 244us/sample - loss: 0.5791 - accuracy: 0.7529 - val_loss: 0.7853 - val_accuracy: 0.5994\n",
            "Epoch 15/300\n",
            "4144/4144 [==============================] - 1s 247us/sample - loss: 0.5807 - accuracy: 0.7500 - val_loss: 0.8057 - val_accuracy: 0.5888\n",
            "Epoch 16/300\n",
            "4144/4144 [==============================] - 1s 239us/sample - loss: 0.5773 - accuracy: 0.7534 - val_loss: 0.7492 - val_accuracy: 0.6409\n",
            "Epoch 17/300\n",
            "4144/4144 [==============================] - 1s 236us/sample - loss: 0.5733 - accuracy: 0.7587 - val_loss: 0.7220 - val_accuracy: 0.6583\n",
            "Epoch 18/300\n",
            "4144/4144 [==============================] - 1s 237us/sample - loss: 0.5712 - accuracy: 0.7556 - val_loss: 0.7635 - val_accuracy: 0.6100\n",
            "Epoch 19/300\n",
            "4144/4144 [==============================] - 1s 239us/sample - loss: 0.5746 - accuracy: 0.7551 - val_loss: 0.7284 - val_accuracy: 0.6361\n",
            "Epoch 20/300\n",
            "4144/4144 [==============================] - 1s 243us/sample - loss: 0.5702 - accuracy: 0.7568 - val_loss: 0.8141 - val_accuracy: 0.5666\n",
            "Epoch 21/300\n",
            "4144/4144 [==============================] - 1s 232us/sample - loss: 0.5769 - accuracy: 0.7493 - val_loss: 0.6982 - val_accuracy: 0.6766\n",
            "Epoch 22/300\n",
            "4144/4144 [==============================] - 1s 241us/sample - loss: 0.5714 - accuracy: 0.7553 - val_loss: 0.7209 - val_accuracy: 0.6641\n",
            "Epoch 23/300\n",
            "4144/4144 [==============================] - 1s 244us/sample - loss: 0.5681 - accuracy: 0.7601 - val_loss: 0.8763 - val_accuracy: 0.5174\n",
            "Epoch 24/300\n",
            "4144/4144 [==============================] - 1s 233us/sample - loss: 0.5625 - accuracy: 0.7575 - val_loss: 0.7453 - val_accuracy: 0.6322\n",
            "Epoch 25/300\n",
            "4144/4144 [==============================] - 1s 244us/sample - loss: 0.5593 - accuracy: 0.7601 - val_loss: 0.7472 - val_accuracy: 0.5975\n",
            "Epoch 26/300\n",
            "4144/4144 [==============================] - 1s 240us/sample - loss: 0.5629 - accuracy: 0.7565 - val_loss: 0.6886 - val_accuracy: 0.6573\n",
            "Epoch 27/300\n",
            "4144/4144 [==============================] - 1s 242us/sample - loss: 0.5607 - accuracy: 0.7563 - val_loss: 0.7426 - val_accuracy: 0.6129\n",
            "Epoch 28/300\n",
            "4144/4144 [==============================] - 1s 239us/sample - loss: 0.5628 - accuracy: 0.7498 - val_loss: 0.8325 - val_accuracy: 0.5637\n",
            "Epoch 29/300\n",
            "4144/4144 [==============================] - 1s 240us/sample - loss: 0.5585 - accuracy: 0.7529 - val_loss: 0.7289 - val_accuracy: 0.6332\n",
            "Epoch 30/300\n",
            "4144/4144 [==============================] - 1s 248us/sample - loss: 0.5661 - accuracy: 0.7495 - val_loss: 0.6782 - val_accuracy: 0.6757\n",
            "Epoch 31/300\n",
            "4144/4144 [==============================] - 1s 241us/sample - loss: 0.5582 - accuracy: 0.7527 - val_loss: 0.7482 - val_accuracy: 0.6371\n",
            "Epoch 32/300\n",
            "4144/4144 [==============================] - 1s 247us/sample - loss: 0.5600 - accuracy: 0.7536 - val_loss: 0.7452 - val_accuracy: 0.6342\n",
            "Epoch 33/300\n",
            "4144/4144 [==============================] - 1s 245us/sample - loss: 0.5651 - accuracy: 0.7527 - val_loss: 0.7859 - val_accuracy: 0.5956\n",
            "Epoch 34/300\n",
            "4144/4144 [==============================] - 1s 255us/sample - loss: 0.5615 - accuracy: 0.7543 - val_loss: 0.7329 - val_accuracy: 0.6458\n",
            "Epoch 35/300\n",
            "4144/4144 [==============================] - 1s 246us/sample - loss: 0.5560 - accuracy: 0.7604 - val_loss: 0.7467 - val_accuracy: 0.6322\n",
            "Epoch 36/300\n",
            "4144/4144 [==============================] - 1s 251us/sample - loss: 0.5558 - accuracy: 0.7618 - val_loss: 0.6845 - val_accuracy: 0.6612\n",
            "Epoch 37/300\n",
            "4144/4144 [==============================] - 1s 255us/sample - loss: 0.5522 - accuracy: 0.7534 - val_loss: 0.7891 - val_accuracy: 0.5869\n",
            "Epoch 38/300\n",
            "4144/4144 [==============================] - 1s 261us/sample - loss: 0.5563 - accuracy: 0.7536 - val_loss: 0.7811 - val_accuracy: 0.5927\n",
            "Epoch 39/300\n",
            "4144/4144 [==============================] - 1s 240us/sample - loss: 0.5526 - accuracy: 0.7539 - val_loss: 0.7590 - val_accuracy: 0.6120\n",
            "Epoch 40/300\n",
            "4144/4144 [==============================] - 1s 251us/sample - loss: 0.5544 - accuracy: 0.7572 - val_loss: 0.7315 - val_accuracy: 0.6322\n",
            "Epoch 41/300\n",
            "4144/4144 [==============================] - 1s 249us/sample - loss: 0.5551 - accuracy: 0.7584 - val_loss: 0.7167 - val_accuracy: 0.6496\n",
            "Epoch 42/300\n",
            "4144/4144 [==============================] - 1s 248us/sample - loss: 0.5548 - accuracy: 0.7546 - val_loss: 0.7861 - val_accuracy: 0.5975\n",
            "Epoch 43/300\n",
            "4144/4144 [==============================] - 1s 249us/sample - loss: 0.5553 - accuracy: 0.7502 - val_loss: 0.7449 - val_accuracy: 0.6236\n",
            "Epoch 44/300\n",
            "4144/4144 [==============================] - 1s 245us/sample - loss: 0.5513 - accuracy: 0.7553 - val_loss: 0.7777 - val_accuracy: 0.5820\n",
            "Epoch 45/300\n",
            "4144/4144 [==============================] - 1s 237us/sample - loss: 0.5518 - accuracy: 0.7589 - val_loss: 0.6646 - val_accuracy: 0.6525\n",
            "Epoch 46/300\n",
            "4144/4144 [==============================] - 1s 251us/sample - loss: 0.5588 - accuracy: 0.7510 - val_loss: 0.6989 - val_accuracy: 0.6535\n",
            "Epoch 47/300\n",
            "4144/4144 [==============================] - 1s 232us/sample - loss: 0.5535 - accuracy: 0.7541 - val_loss: 0.6927 - val_accuracy: 0.6641\n",
            "Epoch 48/300\n",
            "4144/4144 [==============================] - 1s 248us/sample - loss: 0.5539 - accuracy: 0.7592 - val_loss: 0.7018 - val_accuracy: 0.6583\n",
            "Epoch 49/300\n",
            "4144/4144 [==============================] - 1s 241us/sample - loss: 0.5521 - accuracy: 0.7582 - val_loss: 0.7116 - val_accuracy: 0.6361\n",
            "Epoch 50/300\n",
            "4144/4144 [==============================] - 1s 244us/sample - loss: 0.5489 - accuracy: 0.7546 - val_loss: 0.6460 - val_accuracy: 0.6998\n",
            "Epoch 51/300\n",
            "4144/4144 [==============================] - 1s 238us/sample - loss: 0.5491 - accuracy: 0.7577 - val_loss: 0.7093 - val_accuracy: 0.6390\n",
            "Epoch 52/300\n",
            "4144/4144 [==============================] - 1s 236us/sample - loss: 0.5568 - accuracy: 0.7541 - val_loss: 0.8440 - val_accuracy: 0.5357\n",
            "Epoch 53/300\n",
            "4144/4144 [==============================] - 1s 247us/sample - loss: 0.5513 - accuracy: 0.7597 - val_loss: 0.6583 - val_accuracy: 0.6921\n",
            "Epoch 54/300\n",
            "4144/4144 [==============================] - 1s 244us/sample - loss: 0.5494 - accuracy: 0.7594 - val_loss: 0.6937 - val_accuracy: 0.6322\n",
            "Epoch 55/300\n",
            "4144/4144 [==============================] - 1s 244us/sample - loss: 0.5436 - accuracy: 0.7534 - val_loss: 0.7675 - val_accuracy: 0.5888\n",
            "Epoch 56/300\n",
            "4144/4144 [==============================] - 1s 247us/sample - loss: 0.5508 - accuracy: 0.7536 - val_loss: 0.7025 - val_accuracy: 0.6680\n",
            "Epoch 57/300\n",
            "4144/4144 [==============================] - 1s 247us/sample - loss: 0.5523 - accuracy: 0.7582 - val_loss: 0.7041 - val_accuracy: 0.6361\n",
            "Epoch 58/300\n",
            "4144/4144 [==============================] - 1s 244us/sample - loss: 0.5450 - accuracy: 0.7582 - val_loss: 0.7129 - val_accuracy: 0.6207\n",
            "Epoch 59/300\n",
            "4144/4144 [==============================] - 1s 246us/sample - loss: 0.5479 - accuracy: 0.7606 - val_loss: 0.7149 - val_accuracy: 0.6226\n",
            "Epoch 60/300\n",
            "4144/4144 [==============================] - 1s 225us/sample - loss: 0.5473 - accuracy: 0.7563 - val_loss: 0.6770 - val_accuracy: 0.6400\n",
            "Epoch 61/300\n",
            "4144/4144 [==============================] - 1s 251us/sample - loss: 0.5513 - accuracy: 0.7536 - val_loss: 0.7431 - val_accuracy: 0.6081\n",
            "Epoch 62/300\n",
            "4144/4144 [==============================] - 1s 251us/sample - loss: 0.5503 - accuracy: 0.7582 - val_loss: 0.7023 - val_accuracy: 0.6573\n",
            "Epoch 63/300\n",
            "4144/4144 [==============================] - 1s 266us/sample - loss: 0.5475 - accuracy: 0.7609 - val_loss: 0.7316 - val_accuracy: 0.6264\n",
            "Epoch 64/300\n",
            "4144/4144 [==============================] - 1s 250us/sample - loss: 0.5485 - accuracy: 0.7570 - val_loss: 0.7326 - val_accuracy: 0.6525\n",
            "Epoch 65/300\n",
            "4144/4144 [==============================] - 1s 242us/sample - loss: 0.5480 - accuracy: 0.7604 - val_loss: 0.6734 - val_accuracy: 0.6824\n",
            "Epoch 66/300\n",
            "4144/4144 [==============================] - 1s 244us/sample - loss: 0.5488 - accuracy: 0.7647 - val_loss: 0.8287 - val_accuracy: 0.5579\n",
            "Epoch 67/300\n",
            "4144/4144 [==============================] - 1s 248us/sample - loss: 0.5411 - accuracy: 0.7587 - val_loss: 0.6863 - val_accuracy: 0.6573\n",
            "Epoch 68/300\n",
            "4144/4144 [==============================] - 1s 239us/sample - loss: 0.5444 - accuracy: 0.7609 - val_loss: 0.7636 - val_accuracy: 0.5811\n",
            "Epoch 69/300\n",
            "4144/4144 [==============================] - 1s 239us/sample - loss: 0.5397 - accuracy: 0.7599 - val_loss: 0.6764 - val_accuracy: 0.6747\n",
            "Epoch 70/300\n",
            "4144/4144 [==============================] - 1s 227us/sample - loss: 0.5539 - accuracy: 0.7560 - val_loss: 0.6755 - val_accuracy: 0.6660\n",
            "Epoch 71/300\n",
            "4144/4144 [==============================] - 1s 253us/sample - loss: 0.5448 - accuracy: 0.7589 - val_loss: 0.6949 - val_accuracy: 0.6226\n",
            "Epoch 72/300\n",
            "4144/4144 [==============================] - 1s 242us/sample - loss: 0.5478 - accuracy: 0.7592 - val_loss: 0.7908 - val_accuracy: 0.5473\n",
            "Epoch 73/300\n",
            "4144/4144 [==============================] - 1s 238us/sample - loss: 0.5447 - accuracy: 0.7618 - val_loss: 0.7869 - val_accuracy: 0.5888\n",
            "Epoch 74/300\n",
            "4144/4144 [==============================] - 1s 239us/sample - loss: 0.5444 - accuracy: 0.7606 - val_loss: 0.7029 - val_accuracy: 0.6554\n",
            "Epoch 75/300\n",
            "4144/4144 [==============================] - 1s 228us/sample - loss: 0.5429 - accuracy: 0.7657 - val_loss: 0.7036 - val_accuracy: 0.6390\n",
            "Epoch 76/300\n",
            "4144/4144 [==============================] - 1s 242us/sample - loss: 0.5465 - accuracy: 0.7623 - val_loss: 0.7809 - val_accuracy: 0.5685\n",
            "Epoch 77/300\n",
            "4144/4144 [==============================] - 1s 237us/sample - loss: 0.5500 - accuracy: 0.7568 - val_loss: 0.7061 - val_accuracy: 0.6602\n",
            "Epoch 78/300\n",
            "4144/4144 [==============================] - 1s 247us/sample - loss: 0.5443 - accuracy: 0.7638 - val_loss: 0.8269 - val_accuracy: 0.5193\n",
            "Epoch 79/300\n",
            "4144/4144 [==============================] - 1s 246us/sample - loss: 0.5453 - accuracy: 0.7512 - val_loss: 0.7204 - val_accuracy: 0.6380\n",
            "Epoch 80/300\n",
            "4144/4144 [==============================] - 1s 244us/sample - loss: 0.5464 - accuracy: 0.7597 - val_loss: 0.6929 - val_accuracy: 0.6419\n",
            "Epoch 81/300\n",
            "4144/4144 [==============================] - 1s 244us/sample - loss: 0.5512 - accuracy: 0.7572 - val_loss: 0.7317 - val_accuracy: 0.6178\n",
            "Epoch 82/300\n",
            "4144/4144 [==============================] - 1s 241us/sample - loss: 0.5438 - accuracy: 0.7563 - val_loss: 0.6520 - val_accuracy: 0.7210\n",
            "Epoch 83/300\n",
            "4144/4144 [==============================] - 1s 254us/sample - loss: 0.5476 - accuracy: 0.7568 - val_loss: 0.7231 - val_accuracy: 0.6255\n",
            "Epoch 84/300\n",
            "4144/4144 [==============================] - 1s 250us/sample - loss: 0.5449 - accuracy: 0.7580 - val_loss: 0.7486 - val_accuracy: 0.5840\n",
            "Epoch 85/300\n",
            "4144/4144 [==============================] - 1s 239us/sample - loss: 0.5469 - accuracy: 0.7572 - val_loss: 0.7664 - val_accuracy: 0.5849\n",
            "Epoch 86/300\n",
            "4144/4144 [==============================] - 1s 248us/sample - loss: 0.5425 - accuracy: 0.7519 - val_loss: 0.6693 - val_accuracy: 0.7017\n",
            "Epoch 87/300\n",
            "4144/4144 [==============================] - 1s 240us/sample - loss: 0.5469 - accuracy: 0.7611 - val_loss: 0.7124 - val_accuracy: 0.6014\n",
            "Epoch 88/300\n",
            "4144/4144 [==============================] - 1s 267us/sample - loss: 0.5412 - accuracy: 0.7502 - val_loss: 0.7326 - val_accuracy: 0.6380\n",
            "Epoch 89/300\n",
            "4144/4144 [==============================] - 1s 277us/sample - loss: 0.5444 - accuracy: 0.7548 - val_loss: 0.7728 - val_accuracy: 0.6100\n",
            "Epoch 90/300\n",
            "4144/4144 [==============================] - 1s 246us/sample - loss: 0.5463 - accuracy: 0.7524 - val_loss: 0.8159 - val_accuracy: 0.5425\n",
            "Epoch 91/300\n",
            "4144/4144 [==============================] - 1s 242us/sample - loss: 0.5397 - accuracy: 0.7609 - val_loss: 0.7933 - val_accuracy: 0.5676\n",
            "Epoch 92/300\n",
            "4144/4144 [==============================] - 1s 244us/sample - loss: 0.5405 - accuracy: 0.7621 - val_loss: 0.6970 - val_accuracy: 0.6844\n",
            "Epoch 93/300\n",
            "4144/4144 [==============================] - 1s 247us/sample - loss: 0.5456 - accuracy: 0.7553 - val_loss: 0.7126 - val_accuracy: 0.6313\n",
            "Epoch 94/300\n",
            "4144/4144 [==============================] - 1s 249us/sample - loss: 0.5424 - accuracy: 0.7628 - val_loss: 0.7580 - val_accuracy: 0.6023\n",
            "Epoch 95/300\n",
            "4144/4144 [==============================] - 1s 238us/sample - loss: 0.5427 - accuracy: 0.7539 - val_loss: 0.7466 - val_accuracy: 0.6342\n",
            "Epoch 96/300\n",
            "4144/4144 [==============================] - 1s 260us/sample - loss: 0.5421 - accuracy: 0.7558 - val_loss: 0.7376 - val_accuracy: 0.6699\n",
            "Epoch 97/300\n",
            "4144/4144 [==============================] - 1s 259us/sample - loss: 0.5438 - accuracy: 0.7546 - val_loss: 0.7623 - val_accuracy: 0.6284\n",
            "Epoch 98/300\n",
            "4144/4144 [==============================] - 1s 265us/sample - loss: 0.5406 - accuracy: 0.7652 - val_loss: 0.7360 - val_accuracy: 0.6042\n",
            "Epoch 99/300\n",
            "4144/4144 [==============================] - 1s 271us/sample - loss: 0.5406 - accuracy: 0.7551 - val_loss: 0.7682 - val_accuracy: 0.6091\n",
            "Epoch 100/300\n",
            "4144/4144 [==============================] - 1s 259us/sample - loss: 0.5440 - accuracy: 0.7572 - val_loss: 0.7199 - val_accuracy: 0.6168\n",
            "Epoch 101/300\n",
            "4144/4144 [==============================] - 1s 247us/sample - loss: 0.5369 - accuracy: 0.7630 - val_loss: 0.8187 - val_accuracy: 0.5859\n",
            "Epoch 102/300\n",
            "4144/4144 [==============================] - 1s 260us/sample - loss: 0.5430 - accuracy: 0.7609 - val_loss: 0.8310 - val_accuracy: 0.5656\n",
            "Epoch 103/300\n",
            "4144/4144 [==============================] - 1s 257us/sample - loss: 0.5459 - accuracy: 0.7630 - val_loss: 0.7007 - val_accuracy: 0.6429\n",
            "Epoch 104/300\n",
            "4144/4144 [==============================] - 1s 240us/sample - loss: 0.5379 - accuracy: 0.7621 - val_loss: 0.7026 - val_accuracy: 0.6593\n",
            "Epoch 105/300\n",
            "4144/4144 [==============================] - 1s 239us/sample - loss: 0.5421 - accuracy: 0.7584 - val_loss: 0.6971 - val_accuracy: 0.6573\n",
            "Epoch 106/300\n",
            "4144/4144 [==============================] - 1s 230us/sample - loss: 0.5418 - accuracy: 0.7584 - val_loss: 0.8197 - val_accuracy: 0.5405\n",
            "Epoch 107/300\n",
            "4144/4144 [==============================] - 1s 240us/sample - loss: 0.5423 - accuracy: 0.7546 - val_loss: 0.7682 - val_accuracy: 0.5859\n",
            "Epoch 108/300\n",
            "4144/4144 [==============================] - 1s 245us/sample - loss: 0.5423 - accuracy: 0.7674 - val_loss: 0.7655 - val_accuracy: 0.6071\n",
            "Epoch 109/300\n",
            "4144/4144 [==============================] - 1s 232us/sample - loss: 0.5427 - accuracy: 0.7546 - val_loss: 0.7838 - val_accuracy: 0.5946\n",
            "Epoch 110/300\n",
            "4144/4144 [==============================] - 1s 241us/sample - loss: 0.5378 - accuracy: 0.7638 - val_loss: 0.6649 - val_accuracy: 0.6892\n",
            "Epoch 111/300\n",
            "4144/4144 [==============================] - 1s 229us/sample - loss: 0.5347 - accuracy: 0.7606 - val_loss: 0.7111 - val_accuracy: 0.6264\n",
            "Epoch 112/300\n",
            "4144/4144 [==============================] - 1s 250us/sample - loss: 0.5372 - accuracy: 0.7575 - val_loss: 0.6509 - val_accuracy: 0.7075\n",
            "Epoch 113/300\n",
            "4144/4144 [==============================] - 1s 235us/sample - loss: 0.5424 - accuracy: 0.7613 - val_loss: 0.7525 - val_accuracy: 0.5830\n",
            "Epoch 114/300\n",
            "4144/4144 [==============================] - 1s 242us/sample - loss: 0.5437 - accuracy: 0.7539 - val_loss: 0.7730 - val_accuracy: 0.5695\n",
            "Epoch 115/300\n",
            "4144/4144 [==============================] - 1s 238us/sample - loss: 0.5391 - accuracy: 0.7531 - val_loss: 0.6194 - val_accuracy: 0.7336\n",
            "Epoch 116/300\n",
            "4144/4144 [==============================] - 1s 241us/sample - loss: 0.5422 - accuracy: 0.7543 - val_loss: 0.7213 - val_accuracy: 0.6139\n",
            "Epoch 117/300\n",
            "4144/4144 [==============================] - 1s 238us/sample - loss: 0.5395 - accuracy: 0.7654 - val_loss: 0.8954 - val_accuracy: 0.5068\n",
            "Epoch 118/300\n",
            "4144/4144 [==============================] - 1s 242us/sample - loss: 0.5411 - accuracy: 0.7568 - val_loss: 0.6189 - val_accuracy: 0.7355\n",
            "Epoch 119/300\n",
            "4144/4144 [==============================] - 1s 237us/sample - loss: 0.5408 - accuracy: 0.7570 - val_loss: 0.6368 - val_accuracy: 0.7259\n",
            "Epoch 120/300\n",
            "4144/4144 [==============================] - 1s 250us/sample - loss: 0.5450 - accuracy: 0.7601 - val_loss: 0.6510 - val_accuracy: 0.7095\n",
            "Epoch 121/300\n",
            "4144/4144 [==============================] - 1s 243us/sample - loss: 0.5455 - accuracy: 0.7592 - val_loss: 0.7606 - val_accuracy: 0.5801\n",
            "Epoch 122/300\n",
            "4144/4144 [==============================] - 1s 248us/sample - loss: 0.5386 - accuracy: 0.7553 - val_loss: 0.7296 - val_accuracy: 0.6042\n",
            "Epoch 123/300\n",
            "4144/4144 [==============================] - 1s 240us/sample - loss: 0.5413 - accuracy: 0.7570 - val_loss: 0.7702 - val_accuracy: 0.6129\n",
            "Epoch 124/300\n",
            "4144/4144 [==============================] - 1s 247us/sample - loss: 0.5468 - accuracy: 0.7543 - val_loss: 0.6943 - val_accuracy: 0.6535\n",
            "Epoch 125/300\n",
            "4144/4144 [==============================] - 1s 242us/sample - loss: 0.5326 - accuracy: 0.7611 - val_loss: 0.7877 - val_accuracy: 0.5743\n",
            "Epoch 126/300\n",
            "4144/4144 [==============================] - 1s 239us/sample - loss: 0.5388 - accuracy: 0.7563 - val_loss: 0.7054 - val_accuracy: 0.6583\n",
            "Epoch 127/300\n",
            "4144/4144 [==============================] - 1s 238us/sample - loss: 0.5374 - accuracy: 0.7616 - val_loss: 0.7745 - val_accuracy: 0.6004\n",
            "Epoch 128/300\n",
            "4144/4144 [==============================] - 1s 239us/sample - loss: 0.5371 - accuracy: 0.7616 - val_loss: 0.8480 - val_accuracy: 0.5483\n",
            "Epoch 129/300\n",
            "4144/4144 [==============================] - 1s 246us/sample - loss: 0.5390 - accuracy: 0.7560 - val_loss: 0.7928 - val_accuracy: 0.5666\n",
            "Epoch 130/300\n",
            "4144/4144 [==============================] - 1s 232us/sample - loss: 0.5407 - accuracy: 0.7580 - val_loss: 0.7109 - val_accuracy: 0.6631\n",
            "Epoch 131/300\n",
            "4144/4144 [==============================] - 1s 249us/sample - loss: 0.5405 - accuracy: 0.7592 - val_loss: 0.7085 - val_accuracy: 0.6371\n",
            "Epoch 132/300\n",
            "4144/4144 [==============================] - 1s 252us/sample - loss: 0.5429 - accuracy: 0.7563 - val_loss: 0.7986 - val_accuracy: 0.5782\n",
            "Epoch 133/300\n",
            "4144/4144 [==============================] - 1s 241us/sample - loss: 0.5410 - accuracy: 0.7611 - val_loss: 0.7696 - val_accuracy: 0.5637\n",
            "Epoch 134/300\n",
            "4144/4144 [==============================] - 1s 255us/sample - loss: 0.5383 - accuracy: 0.7630 - val_loss: 0.6872 - val_accuracy: 0.6438\n",
            "Epoch 135/300\n",
            "4144/4144 [==============================] - 1s 243us/sample - loss: 0.5380 - accuracy: 0.7604 - val_loss: 0.7384 - val_accuracy: 0.5907\n",
            "Epoch 136/300\n",
            "4144/4144 [==============================] - 1s 249us/sample - loss: 0.5373 - accuracy: 0.7599 - val_loss: 0.7356 - val_accuracy: 0.6226\n",
            "Epoch 137/300\n",
            "4144/4144 [==============================] - 1s 246us/sample - loss: 0.5460 - accuracy: 0.7546 - val_loss: 0.7791 - val_accuracy: 0.5917\n",
            "Epoch 138/300\n",
            "4144/4144 [==============================] - 1s 244us/sample - loss: 0.5420 - accuracy: 0.7609 - val_loss: 0.7785 - val_accuracy: 0.5956\n",
            "Epoch 139/300\n",
            "4144/4144 [==============================] - 1s 244us/sample - loss: 0.5377 - accuracy: 0.7640 - val_loss: 0.7084 - val_accuracy: 0.6477\n",
            "Epoch 140/300\n",
            "4144/4144 [==============================] - 1s 238us/sample - loss: 0.5374 - accuracy: 0.7609 - val_loss: 0.7843 - val_accuracy: 0.6052\n",
            "Epoch 141/300\n",
            "4144/4144 [==============================] - 1s 242us/sample - loss: 0.5418 - accuracy: 0.7613 - val_loss: 0.7196 - val_accuracy: 0.6400\n",
            "Epoch 142/300\n",
            "4144/4144 [==============================] - 1s 248us/sample - loss: 0.5429 - accuracy: 0.7563 - val_loss: 0.7356 - val_accuracy: 0.6226\n",
            "Epoch 143/300\n",
            "4144/4144 [==============================] - 1s 245us/sample - loss: 0.5351 - accuracy: 0.7618 - val_loss: 0.6554 - val_accuracy: 0.7085\n",
            "Epoch 144/300\n",
            "4144/4144 [==============================] - 1s 240us/sample - loss: 0.5396 - accuracy: 0.7621 - val_loss: 0.7207 - val_accuracy: 0.6554\n",
            "Epoch 145/300\n",
            "4144/4144 [==============================] - 1s 247us/sample - loss: 0.5332 - accuracy: 0.7625 - val_loss: 0.6340 - val_accuracy: 0.7114\n",
            "Epoch 146/300\n",
            "4144/4144 [==============================] - 1s 241us/sample - loss: 0.5422 - accuracy: 0.7633 - val_loss: 0.7979 - val_accuracy: 0.5569\n",
            "Epoch 147/300\n",
            "4144/4144 [==============================] - 1s 248us/sample - loss: 0.5402 - accuracy: 0.7575 - val_loss: 0.7086 - val_accuracy: 0.6187\n",
            "Epoch 148/300\n",
            "4144/4144 [==============================] - 1s 234us/sample - loss: 0.5355 - accuracy: 0.7609 - val_loss: 0.6194 - val_accuracy: 0.7461\n",
            "Epoch 149/300\n",
            "4144/4144 [==============================] - 1s 243us/sample - loss: 0.5334 - accuracy: 0.7700 - val_loss: 0.7722 - val_accuracy: 0.6187\n",
            "Epoch 150/300\n",
            "4144/4144 [==============================] - 1s 238us/sample - loss: 0.5391 - accuracy: 0.7606 - val_loss: 0.7362 - val_accuracy: 0.6245\n",
            "Epoch 151/300\n",
            "4144/4144 [==============================] - 1s 238us/sample - loss: 0.5326 - accuracy: 0.7618 - val_loss: 0.7490 - val_accuracy: 0.6380\n",
            "Epoch 152/300\n",
            "4144/4144 [==============================] - 1s 248us/sample - loss: 0.5389 - accuracy: 0.7638 - val_loss: 0.7112 - val_accuracy: 0.6660\n",
            "Epoch 153/300\n",
            "4144/4144 [==============================] - 1s 257us/sample - loss: 0.5410 - accuracy: 0.7570 - val_loss: 0.7145 - val_accuracy: 0.5956\n",
            "Epoch 154/300\n",
            "4144/4144 [==============================] - 1s 240us/sample - loss: 0.5362 - accuracy: 0.7609 - val_loss: 0.7585 - val_accuracy: 0.5985\n",
            "Epoch 155/300\n",
            "4144/4144 [==============================] - 1s 268us/sample - loss: 0.5358 - accuracy: 0.7691 - val_loss: 0.7547 - val_accuracy: 0.5840\n",
            "Epoch 156/300\n",
            "4144/4144 [==============================] - 1s 262us/sample - loss: 0.5369 - accuracy: 0.7568 - val_loss: 0.6718 - val_accuracy: 0.6863\n",
            "Epoch 157/300\n",
            "4144/4144 [==============================] - 1s 252us/sample - loss: 0.5424 - accuracy: 0.7609 - val_loss: 0.6830 - val_accuracy: 0.6680\n",
            "Epoch 158/300\n",
            "4144/4144 [==============================] - 1s 267us/sample - loss: 0.5363 - accuracy: 0.7640 - val_loss: 0.7241 - val_accuracy: 0.6371\n",
            "Epoch 159/300\n",
            "4144/4144 [==============================] - 1s 241us/sample - loss: 0.5324 - accuracy: 0.7531 - val_loss: 0.6133 - val_accuracy: 0.7500\n",
            "Epoch 160/300\n",
            "4144/4144 [==============================] - 1s 248us/sample - loss: 0.5372 - accuracy: 0.7623 - val_loss: 0.7171 - val_accuracy: 0.5985\n",
            "Epoch 161/300\n",
            "4144/4144 [==============================] - 1s 243us/sample - loss: 0.5328 - accuracy: 0.7657 - val_loss: 0.7900 - val_accuracy: 0.5878\n",
            "Epoch 162/300\n",
            "4144/4144 [==============================] - 1s 242us/sample - loss: 0.5346 - accuracy: 0.7671 - val_loss: 0.6832 - val_accuracy: 0.6950\n",
            "Epoch 163/300\n",
            "4144/4144 [==============================] - 1s 238us/sample - loss: 0.5331 - accuracy: 0.7628 - val_loss: 0.6916 - val_accuracy: 0.6757\n",
            "Epoch 164/300\n",
            "4144/4144 [==============================] - 1s 244us/sample - loss: 0.5369 - accuracy: 0.7657 - val_loss: 0.8558 - val_accuracy: 0.5280\n",
            "Epoch 165/300\n",
            "4144/4144 [==============================] - 1s 250us/sample - loss: 0.5393 - accuracy: 0.7592 - val_loss: 0.8274 - val_accuracy: 0.5782\n",
            "Epoch 166/300\n",
            "4144/4144 [==============================] - 1s 245us/sample - loss: 0.5386 - accuracy: 0.7633 - val_loss: 0.7111 - val_accuracy: 0.6882\n",
            "Epoch 167/300\n",
            "4144/4144 [==============================] - 1s 243us/sample - loss: 0.5381 - accuracy: 0.7575 - val_loss: 0.7630 - val_accuracy: 0.6187\n",
            "Epoch 168/300\n",
            "4144/4144 [==============================] - 1s 234us/sample - loss: 0.5343 - accuracy: 0.7594 - val_loss: 0.7585 - val_accuracy: 0.6322\n",
            "Epoch 169/300\n",
            "4144/4144 [==============================] - 1s 234us/sample - loss: 0.5427 - accuracy: 0.7570 - val_loss: 0.7657 - val_accuracy: 0.6062\n",
            "Epoch 170/300\n",
            "4144/4144 [==============================] - 1s 239us/sample - loss: 0.5346 - accuracy: 0.7621 - val_loss: 0.7673 - val_accuracy: 0.6042\n",
            "Epoch 171/300\n",
            "4144/4144 [==============================] - 1s 241us/sample - loss: 0.5351 - accuracy: 0.7633 - val_loss: 0.8602 - val_accuracy: 0.5347\n",
            "Epoch 172/300\n",
            "4144/4144 [==============================] - 1s 231us/sample - loss: 0.5373 - accuracy: 0.7628 - val_loss: 0.7831 - val_accuracy: 0.5541\n",
            "Epoch 173/300\n",
            "4144/4144 [==============================] - 1s 244us/sample - loss: 0.5318 - accuracy: 0.7640 - val_loss: 0.6753 - val_accuracy: 0.7056\n",
            "Epoch 174/300\n",
            "4144/4144 [==============================] - 1s 246us/sample - loss: 0.5333 - accuracy: 0.7700 - val_loss: 0.7992 - val_accuracy: 0.5656\n",
            "Epoch 175/300\n",
            "4144/4144 [==============================] - 1s 242us/sample - loss: 0.5336 - accuracy: 0.7625 - val_loss: 0.6839 - val_accuracy: 0.6921\n",
            "Epoch 176/300\n",
            "4144/4144 [==============================] - 1s 256us/sample - loss: 0.5394 - accuracy: 0.7650 - val_loss: 0.7980 - val_accuracy: 0.5917\n",
            "Epoch 177/300\n",
            "4144/4144 [==============================] - 1s 237us/sample - loss: 0.5382 - accuracy: 0.7546 - val_loss: 0.7072 - val_accuracy: 0.6207\n",
            "Epoch 178/300\n",
            "4144/4144 [==============================] - 1s 243us/sample - loss: 0.5378 - accuracy: 0.7582 - val_loss: 0.7171 - val_accuracy: 0.6409\n",
            "Epoch 179/300\n",
            "4144/4144 [==============================] - 1s 244us/sample - loss: 0.5376 - accuracy: 0.7618 - val_loss: 0.6532 - val_accuracy: 0.7037\n",
            "Epoch 180/300\n",
            "4144/4144 [==============================] - 1s 249us/sample - loss: 0.5376 - accuracy: 0.7580 - val_loss: 0.8057 - val_accuracy: 0.5936\n",
            "Epoch 181/300\n",
            "4144/4144 [==============================] - 1s 244us/sample - loss: 0.5381 - accuracy: 0.7548 - val_loss: 0.7926 - val_accuracy: 0.5859\n",
            "Epoch 182/300\n",
            "4144/4144 [==============================] - 1s 244us/sample - loss: 0.5363 - accuracy: 0.7587 - val_loss: 0.6731 - val_accuracy: 0.7056\n",
            "Epoch 183/300\n",
            "4144/4144 [==============================] - 1s 248us/sample - loss: 0.5343 - accuracy: 0.7671 - val_loss: 0.7188 - val_accuracy: 0.6593\n",
            "Epoch 184/300\n",
            "4144/4144 [==============================] - 1s 265us/sample - loss: 0.5343 - accuracy: 0.7633 - val_loss: 0.7430 - val_accuracy: 0.5695\n",
            "Epoch 185/300\n",
            "4144/4144 [==============================] - 1s 262us/sample - loss: 0.5386 - accuracy: 0.7611 - val_loss: 0.7184 - val_accuracy: 0.6622\n",
            "Epoch 186/300\n",
            "4144/4144 [==============================] - 1s 260us/sample - loss: 0.5342 - accuracy: 0.7604 - val_loss: 0.6505 - val_accuracy: 0.7201\n",
            "Epoch 187/300\n",
            "4144/4144 [==============================] - 1s 258us/sample - loss: 0.5392 - accuracy: 0.7589 - val_loss: 0.6393 - val_accuracy: 0.7288\n",
            "Epoch 188/300\n",
            "4144/4144 [==============================] - 1s 241us/sample - loss: 0.5364 - accuracy: 0.7575 - val_loss: 0.7559 - val_accuracy: 0.6535\n",
            "Epoch 189/300\n",
            "4144/4144 [==============================] - 1s 264us/sample - loss: 0.5350 - accuracy: 0.7613 - val_loss: 0.7261 - val_accuracy: 0.6515\n",
            "Epoch 190/300\n",
            "4144/4144 [==============================] - 1s 267us/sample - loss: 0.5351 - accuracy: 0.7594 - val_loss: 0.6921 - val_accuracy: 0.6718\n",
            "Epoch 191/300\n",
            "4144/4144 [==============================] - 1s 265us/sample - loss: 0.5366 - accuracy: 0.7563 - val_loss: 0.6707 - val_accuracy: 0.6660\n",
            "Epoch 192/300\n",
            "4144/4144 [==============================] - 1s 267us/sample - loss: 0.5340 - accuracy: 0.7623 - val_loss: 0.7299 - val_accuracy: 0.6081\n",
            "Epoch 193/300\n",
            "4144/4144 [==============================] - 1s 258us/sample - loss: 0.5324 - accuracy: 0.7584 - val_loss: 0.7752 - val_accuracy: 0.5792\n",
            "Epoch 194/300\n",
            "4144/4144 [==============================] - 1s 250us/sample - loss: 0.5323 - accuracy: 0.7599 - val_loss: 0.6740 - val_accuracy: 0.6902\n",
            "Epoch 195/300\n",
            "4144/4144 [==============================] - 1s 253us/sample - loss: 0.5352 - accuracy: 0.7592 - val_loss: 0.6990 - val_accuracy: 0.6622\n",
            "Epoch 196/300\n",
            "4144/4144 [==============================] - 1s 249us/sample - loss: 0.5302 - accuracy: 0.7674 - val_loss: 0.6887 - val_accuracy: 0.6921\n",
            "Epoch 197/300\n",
            "4144/4144 [==============================] - 1s 237us/sample - loss: 0.5324 - accuracy: 0.7616 - val_loss: 0.6869 - val_accuracy: 0.6834\n",
            "Epoch 198/300\n",
            "4144/4144 [==============================] - 1s 242us/sample - loss: 0.5391 - accuracy: 0.7659 - val_loss: 0.7500 - val_accuracy: 0.5820\n",
            "Epoch 199/300\n",
            "4144/4144 [==============================] - 1s 251us/sample - loss: 0.5294 - accuracy: 0.7647 - val_loss: 0.6719 - val_accuracy: 0.6873\n",
            "Epoch 200/300\n",
            "4144/4144 [==============================] - 1s 251us/sample - loss: 0.5348 - accuracy: 0.7613 - val_loss: 0.7147 - val_accuracy: 0.6593\n",
            "Epoch 201/300\n",
            "4144/4144 [==============================] - 1s 250us/sample - loss: 0.5392 - accuracy: 0.7592 - val_loss: 0.7603 - val_accuracy: 0.6014\n",
            "Epoch 202/300\n",
            "4144/4144 [==============================] - 1s 242us/sample - loss: 0.5368 - accuracy: 0.7621 - val_loss: 0.7051 - val_accuracy: 0.6805\n",
            "Epoch 203/300\n",
            "4144/4144 [==============================] - 1s 244us/sample - loss: 0.5367 - accuracy: 0.7650 - val_loss: 0.7394 - val_accuracy: 0.6100\n",
            "Epoch 204/300\n",
            "4144/4144 [==============================] - 1s 242us/sample - loss: 0.5326 - accuracy: 0.7609 - val_loss: 0.7145 - val_accuracy: 0.6496\n",
            "Epoch 205/300\n",
            "4144/4144 [==============================] - 1s 251us/sample - loss: 0.5323 - accuracy: 0.7674 - val_loss: 0.7527 - val_accuracy: 0.6149\n",
            "Epoch 206/300\n",
            "4144/4144 [==============================] - 1s 234us/sample - loss: 0.5295 - accuracy: 0.7654 - val_loss: 0.6840 - val_accuracy: 0.6844\n",
            "Epoch 207/300\n",
            "4144/4144 [==============================] - 1s 259us/sample - loss: 0.5382 - accuracy: 0.7589 - val_loss: 0.7883 - val_accuracy: 0.5763\n",
            "Epoch 208/300\n",
            "4144/4144 [==============================] - 1s 261us/sample - loss: 0.5370 - accuracy: 0.7556 - val_loss: 0.7436 - val_accuracy: 0.6293\n",
            "Epoch 209/300\n",
            "4144/4144 [==============================] - 1s 262us/sample - loss: 0.5368 - accuracy: 0.7594 - val_loss: 0.7524 - val_accuracy: 0.6081\n",
            "Epoch 210/300\n",
            "4144/4144 [==============================] - 1s 260us/sample - loss: 0.5368 - accuracy: 0.7638 - val_loss: 0.6848 - val_accuracy: 0.6699\n",
            "Epoch 211/300\n",
            "4144/4144 [==============================] - 1s 257us/sample - loss: 0.5327 - accuracy: 0.7671 - val_loss: 0.6498 - val_accuracy: 0.6950\n",
            "Epoch 212/300\n",
            "4144/4144 [==============================] - 1s 282us/sample - loss: 0.5322 - accuracy: 0.7645 - val_loss: 0.7900 - val_accuracy: 0.5772\n",
            "Epoch 213/300\n",
            "4144/4144 [==============================] - 1s 285us/sample - loss: 0.5359 - accuracy: 0.7652 - val_loss: 0.6707 - val_accuracy: 0.6622\n",
            "Epoch 214/300\n",
            "4144/4144 [==============================] - 1s 264us/sample - loss: 0.5371 - accuracy: 0.7623 - val_loss: 0.7260 - val_accuracy: 0.6429\n",
            "Epoch 215/300\n",
            "4144/4144 [==============================] - 1s 278us/sample - loss: 0.5377 - accuracy: 0.7572 - val_loss: 0.6255 - val_accuracy: 0.7413\n",
            "Epoch 216/300\n",
            "4144/4144 [==============================] - 1s 270us/sample - loss: 0.5331 - accuracy: 0.7609 - val_loss: 0.7864 - val_accuracy: 0.6023\n",
            "Epoch 217/300\n",
            "4144/4144 [==============================] - 1s 247us/sample - loss: 0.5276 - accuracy: 0.7676 - val_loss: 0.8117 - val_accuracy: 0.5927\n",
            "Epoch 218/300\n",
            "4144/4144 [==============================] - 1s 245us/sample - loss: 0.5353 - accuracy: 0.7638 - val_loss: 0.7310 - val_accuracy: 0.6226\n",
            "Epoch 219/300\n",
            "4144/4144 [==============================] - 1s 245us/sample - loss: 0.5337 - accuracy: 0.7599 - val_loss: 0.7940 - val_accuracy: 0.5975\n",
            "Epoch 220/300\n",
            "4144/4144 [==============================] - 1s 250us/sample - loss: 0.5339 - accuracy: 0.7686 - val_loss: 0.7644 - val_accuracy: 0.6081\n",
            "Epoch 221/300\n",
            "4144/4144 [==============================] - 1s 249us/sample - loss: 0.5327 - accuracy: 0.7625 - val_loss: 0.8362 - val_accuracy: 0.5425\n",
            "Epoch 222/300\n",
            "4144/4144 [==============================] - 1s 240us/sample - loss: 0.5336 - accuracy: 0.7582 - val_loss: 0.8320 - val_accuracy: 0.5512\n",
            "Epoch 223/300\n",
            "4144/4144 [==============================] - 1s 245us/sample - loss: 0.5300 - accuracy: 0.7594 - val_loss: 0.6715 - val_accuracy: 0.6737\n",
            "Epoch 224/300\n",
            "4144/4144 [==============================] - 1s 246us/sample - loss: 0.5392 - accuracy: 0.7553 - val_loss: 0.7189 - val_accuracy: 0.6062\n",
            "Epoch 225/300\n",
            "4144/4144 [==============================] - 1s 248us/sample - loss: 0.5317 - accuracy: 0.7650 - val_loss: 0.7523 - val_accuracy: 0.6438\n",
            "Epoch 226/300\n",
            "4144/4144 [==============================] - 1s 232us/sample - loss: 0.5350 - accuracy: 0.7543 - val_loss: 0.7949 - val_accuracy: 0.6081\n",
            "Epoch 227/300\n",
            "4144/4144 [==============================] - 1s 247us/sample - loss: 0.5352 - accuracy: 0.7597 - val_loss: 0.7252 - val_accuracy: 0.6390\n",
            "Epoch 228/300\n",
            "4144/4144 [==============================] - 1s 266us/sample - loss: 0.5299 - accuracy: 0.7669 - val_loss: 0.7199 - val_accuracy: 0.6612\n",
            "Epoch 229/300\n",
            "4144/4144 [==============================] - 1s 236us/sample - loss: 0.5346 - accuracy: 0.7592 - val_loss: 0.6642 - val_accuracy: 0.6892\n",
            "Epoch 230/300\n",
            "4144/4144 [==============================] - 1s 242us/sample - loss: 0.5292 - accuracy: 0.7638 - val_loss: 0.7716 - val_accuracy: 0.5782\n",
            "Epoch 231/300\n",
            "4144/4144 [==============================] - 1s 251us/sample - loss: 0.5321 - accuracy: 0.7659 - val_loss: 0.7213 - val_accuracy: 0.6573\n",
            "Epoch 232/300\n",
            "4144/4144 [==============================] - 1s 248us/sample - loss: 0.5358 - accuracy: 0.7625 - val_loss: 0.7567 - val_accuracy: 0.6216\n",
            "Epoch 233/300\n",
            "4144/4144 [==============================] - 1s 246us/sample - loss: 0.5289 - accuracy: 0.7691 - val_loss: 0.6407 - val_accuracy: 0.7133\n",
            "Epoch 234/300\n",
            "4144/4144 [==============================] - 1s 242us/sample - loss: 0.5356 - accuracy: 0.7601 - val_loss: 0.7464 - val_accuracy: 0.6100\n",
            "Epoch 235/300\n",
            "4144/4144 [==============================] - 1s 239us/sample - loss: 0.5345 - accuracy: 0.7594 - val_loss: 0.6827 - val_accuracy: 0.6651\n",
            "Epoch 236/300\n",
            "4144/4144 [==============================] - 1s 257us/sample - loss: 0.5341 - accuracy: 0.7565 - val_loss: 0.6518 - val_accuracy: 0.7403\n",
            "Epoch 237/300\n",
            "4144/4144 [==============================] - 1s 243us/sample - loss: 0.5330 - accuracy: 0.7618 - val_loss: 0.8100 - val_accuracy: 0.5598\n",
            "Epoch 238/300\n",
            "4144/4144 [==============================] - 1s 241us/sample - loss: 0.5299 - accuracy: 0.7606 - val_loss: 0.8657 - val_accuracy: 0.5734\n",
            "Epoch 239/300\n",
            "4144/4144 [==============================] - 1s 248us/sample - loss: 0.5312 - accuracy: 0.7633 - val_loss: 0.7488 - val_accuracy: 0.6274\n",
            "Epoch 240/300\n",
            "4144/4144 [==============================] - 1s 247us/sample - loss: 0.5376 - accuracy: 0.7587 - val_loss: 0.6766 - val_accuracy: 0.7375\n",
            "Epoch 241/300\n",
            "4144/4144 [==============================] - 1s 236us/sample - loss: 0.5334 - accuracy: 0.7580 - val_loss: 0.8527 - val_accuracy: 0.6187\n",
            "Epoch 242/300\n",
            "4144/4144 [==============================] - 1s 245us/sample - loss: 0.5327 - accuracy: 0.7647 - val_loss: 0.6288 - val_accuracy: 0.7510\n",
            "Epoch 243/300\n",
            "4144/4144 [==============================] - 1s 235us/sample - loss: 0.5332 - accuracy: 0.7543 - val_loss: 0.8053 - val_accuracy: 0.5753\n",
            "Epoch 244/300\n",
            "4144/4144 [==============================] - 1s 257us/sample - loss: 0.5349 - accuracy: 0.7575 - val_loss: 0.7583 - val_accuracy: 0.6293\n",
            "Epoch 245/300\n",
            "4144/4144 [==============================] - 1s 240us/sample - loss: 0.5364 - accuracy: 0.7556 - val_loss: 0.6097 - val_accuracy: 0.7761\n",
            "Epoch 246/300\n",
            "4144/4144 [==============================] - 1s 233us/sample - loss: 0.5325 - accuracy: 0.7621 - val_loss: 0.7209 - val_accuracy: 0.6525\n",
            "Epoch 247/300\n",
            "4144/4144 [==============================] - 1s 236us/sample - loss: 0.5273 - accuracy: 0.7642 - val_loss: 0.7713 - val_accuracy: 0.5724\n",
            "Epoch 248/300\n",
            "4144/4144 [==============================] - 1s 246us/sample - loss: 0.5311 - accuracy: 0.7681 - val_loss: 0.7757 - val_accuracy: 0.6071\n",
            "Epoch 249/300\n",
            "4144/4144 [==============================] - 1s 241us/sample - loss: 0.5274 - accuracy: 0.7645 - val_loss: 0.7070 - val_accuracy: 0.6853\n",
            "Epoch 250/300\n",
            "4144/4144 [==============================] - 1s 253us/sample - loss: 0.5275 - accuracy: 0.7635 - val_loss: 0.6873 - val_accuracy: 0.6766\n",
            "Epoch 251/300\n",
            "4144/4144 [==============================] - 1s 230us/sample - loss: 0.5359 - accuracy: 0.7650 - val_loss: 0.7812 - val_accuracy: 0.5521\n",
            "Epoch 252/300\n",
            "4144/4144 [==============================] - 1s 236us/sample - loss: 0.5357 - accuracy: 0.7560 - val_loss: 0.6875 - val_accuracy: 0.6680\n",
            "Epoch 253/300\n",
            "4144/4144 [==============================] - 1s 239us/sample - loss: 0.5325 - accuracy: 0.7551 - val_loss: 0.7388 - val_accuracy: 0.6139\n",
            "Epoch 254/300\n",
            "4144/4144 [==============================] - 1s 235us/sample - loss: 0.5357 - accuracy: 0.7584 - val_loss: 0.6674 - val_accuracy: 0.6911\n",
            "Epoch 255/300\n",
            "4144/4144 [==============================] - 1s 244us/sample - loss: 0.5312 - accuracy: 0.7628 - val_loss: 0.6213 - val_accuracy: 0.7317\n",
            "Epoch 256/300\n",
            "4144/4144 [==============================] - 1s 246us/sample - loss: 0.5243 - accuracy: 0.7616 - val_loss: 0.6586 - val_accuracy: 0.6921\n",
            "Epoch 257/300\n",
            "4144/4144 [==============================] - 1s 252us/sample - loss: 0.5276 - accuracy: 0.7633 - val_loss: 0.7230 - val_accuracy: 0.6158\n",
            "Epoch 258/300\n",
            "4144/4144 [==============================] - 1s 252us/sample - loss: 0.5330 - accuracy: 0.7592 - val_loss: 0.6349 - val_accuracy: 0.7384\n",
            "Epoch 259/300\n",
            "4144/4144 [==============================] - 1s 246us/sample - loss: 0.5322 - accuracy: 0.7613 - val_loss: 0.6486 - val_accuracy: 0.6979\n",
            "Epoch 260/300\n",
            "4144/4144 [==============================] - 1s 249us/sample - loss: 0.5330 - accuracy: 0.7589 - val_loss: 0.7088 - val_accuracy: 0.6573\n",
            "Epoch 261/300\n",
            "4144/4144 [==============================] - 1s 256us/sample - loss: 0.5276 - accuracy: 0.7589 - val_loss: 0.6981 - val_accuracy: 0.6583\n",
            "Epoch 262/300\n",
            "4144/4144 [==============================] - 1s 266us/sample - loss: 0.5297 - accuracy: 0.7664 - val_loss: 0.7250 - val_accuracy: 0.6622\n",
            "Epoch 263/300\n",
            "4144/4144 [==============================] - 1s 252us/sample - loss: 0.5325 - accuracy: 0.7676 - val_loss: 0.6288 - val_accuracy: 0.7162\n",
            "Epoch 264/300\n",
            "4144/4144 [==============================] - 1s 258us/sample - loss: 0.5306 - accuracy: 0.7582 - val_loss: 0.7866 - val_accuracy: 0.5907\n",
            "Epoch 265/300\n",
            "4144/4144 [==============================] - 1s 249us/sample - loss: 0.5264 - accuracy: 0.7650 - val_loss: 0.6970 - val_accuracy: 0.6631\n",
            "Epoch 266/300\n",
            "4144/4144 [==============================] - 1s 248us/sample - loss: 0.5325 - accuracy: 0.7638 - val_loss: 0.7183 - val_accuracy: 0.6515\n",
            "Epoch 267/300\n",
            "4144/4144 [==============================] - 1s 243us/sample - loss: 0.5306 - accuracy: 0.7575 - val_loss: 0.7128 - val_accuracy: 0.6515\n",
            "Epoch 268/300\n",
            "4144/4144 [==============================] - 1s 250us/sample - loss: 0.5323 - accuracy: 0.7625 - val_loss: 0.6446 - val_accuracy: 0.7346\n",
            "Epoch 269/300\n",
            "4144/4144 [==============================] - 1s 252us/sample - loss: 0.5325 - accuracy: 0.7650 - val_loss: 0.6635 - val_accuracy: 0.6940\n",
            "Epoch 270/300\n",
            "4144/4144 [==============================] - 1s 263us/sample - loss: 0.5328 - accuracy: 0.7606 - val_loss: 0.8399 - val_accuracy: 0.5319\n",
            "Epoch 271/300\n",
            "4144/4144 [==============================] - 1s 252us/sample - loss: 0.5301 - accuracy: 0.7638 - val_loss: 0.7289 - val_accuracy: 0.6380\n",
            "Epoch 272/300\n",
            "4144/4144 [==============================] - 1s 258us/sample - loss: 0.5292 - accuracy: 0.7599 - val_loss: 0.7605 - val_accuracy: 0.6178\n",
            "Epoch 273/300\n",
            "4144/4144 [==============================] - 1s 255us/sample - loss: 0.5330 - accuracy: 0.7618 - val_loss: 0.7747 - val_accuracy: 0.6091\n",
            "Epoch 274/300\n",
            "4144/4144 [==============================] - 1s 242us/sample - loss: 0.5372 - accuracy: 0.7609 - val_loss: 0.6908 - val_accuracy: 0.6670\n",
            "Epoch 275/300\n",
            "4144/4144 [==============================] - 1s 223us/sample - loss: 0.5337 - accuracy: 0.7568 - val_loss: 0.7763 - val_accuracy: 0.5975\n",
            "Epoch 276/300\n",
            "4144/4144 [==============================] - 1s 242us/sample - loss: 0.5325 - accuracy: 0.7543 - val_loss: 0.8056 - val_accuracy: 0.5695\n",
            "Epoch 277/300\n",
            "4144/4144 [==============================] - 1s 236us/sample - loss: 0.5310 - accuracy: 0.7642 - val_loss: 0.6713 - val_accuracy: 0.6776\n",
            "Epoch 278/300\n",
            "4144/4144 [==============================] - 1s 238us/sample - loss: 0.5283 - accuracy: 0.7625 - val_loss: 0.6753 - val_accuracy: 0.6950\n",
            "Epoch 279/300\n",
            "4144/4144 [==============================] - 1s 246us/sample - loss: 0.5289 - accuracy: 0.7638 - val_loss: 0.7036 - val_accuracy: 0.6245\n",
            "Epoch 280/300\n",
            "4144/4144 [==============================] - 1s 245us/sample - loss: 0.5246 - accuracy: 0.7671 - val_loss: 0.7092 - val_accuracy: 0.6448\n",
            "Epoch 281/300\n",
            "4144/4144 [==============================] - 1s 247us/sample - loss: 0.5326 - accuracy: 0.7556 - val_loss: 0.7233 - val_accuracy: 0.6651\n",
            "Epoch 282/300\n",
            "4144/4144 [==============================] - 1s 245us/sample - loss: 0.5304 - accuracy: 0.7654 - val_loss: 0.7263 - val_accuracy: 0.6390\n",
            "Epoch 283/300\n",
            "4144/4144 [==============================] - 1s 243us/sample - loss: 0.5343 - accuracy: 0.7625 - val_loss: 0.6240 - val_accuracy: 0.7210\n",
            "Epoch 284/300\n",
            "4144/4144 [==============================] - 1s 244us/sample - loss: 0.5267 - accuracy: 0.7625 - val_loss: 0.7244 - val_accuracy: 0.6486\n",
            "Epoch 285/300\n",
            "4144/4144 [==============================] - 1s 232us/sample - loss: 0.5324 - accuracy: 0.7650 - val_loss: 0.6747 - val_accuracy: 0.7162\n",
            "Epoch 286/300\n",
            "4144/4144 [==============================] - 1s 238us/sample - loss: 0.5296 - accuracy: 0.7633 - val_loss: 0.6840 - val_accuracy: 0.6766\n",
            "Epoch 287/300\n",
            "4144/4144 [==============================] - 1s 253us/sample - loss: 0.5323 - accuracy: 0.7604 - val_loss: 0.7451 - val_accuracy: 0.6274\n",
            "Epoch 288/300\n",
            "4144/4144 [==============================] - 1s 249us/sample - loss: 0.5300 - accuracy: 0.7601 - val_loss: 0.6644 - val_accuracy: 0.6882\n",
            "Epoch 289/300\n",
            "4144/4144 [==============================] - 1s 238us/sample - loss: 0.5304 - accuracy: 0.7657 - val_loss: 0.7228 - val_accuracy: 0.6400\n",
            "Epoch 290/300\n",
            "4144/4144 [==============================] - 1s 239us/sample - loss: 0.5296 - accuracy: 0.7630 - val_loss: 0.8289 - val_accuracy: 0.5569\n",
            "Epoch 291/300\n",
            "4144/4144 [==============================] - 1s 247us/sample - loss: 0.5342 - accuracy: 0.7517 - val_loss: 0.7038 - val_accuracy: 0.6477\n",
            "Epoch 292/300\n",
            "4144/4144 [==============================] - 1s 246us/sample - loss: 0.5281 - accuracy: 0.7635 - val_loss: 0.7826 - val_accuracy: 0.6129\n",
            "Epoch 293/300\n",
            "4144/4144 [==============================] - 1s 242us/sample - loss: 0.5303 - accuracy: 0.7584 - val_loss: 0.8519 - val_accuracy: 0.5193\n",
            "Epoch 294/300\n",
            "4144/4144 [==============================] - 1s 240us/sample - loss: 0.5294 - accuracy: 0.7650 - val_loss: 0.6713 - val_accuracy: 0.6795\n",
            "Epoch 295/300\n",
            "4144/4144 [==============================] - 1s 231us/sample - loss: 0.5297 - accuracy: 0.7592 - val_loss: 0.7709 - val_accuracy: 0.6071\n",
            "Epoch 296/300\n",
            "4144/4144 [==============================] - 1s 236us/sample - loss: 0.5279 - accuracy: 0.7630 - val_loss: 0.7065 - val_accuracy: 0.6680\n",
            "Epoch 297/300\n",
            "4144/4144 [==============================] - 1s 236us/sample - loss: 0.5319 - accuracy: 0.7645 - val_loss: 0.6431 - val_accuracy: 0.7210\n",
            "Epoch 298/300\n",
            "4144/4144 [==============================] - 1s 228us/sample - loss: 0.5282 - accuracy: 0.7609 - val_loss: 0.6937 - val_accuracy: 0.6525\n",
            "Epoch 299/300\n",
            "4144/4144 [==============================] - 1s 237us/sample - loss: 0.5332 - accuracy: 0.7647 - val_loss: 0.7339 - val_accuracy: 0.6255\n",
            "Epoch 300/300\n",
            "4144/4144 [==============================] - 1s 244us/sample - loss: 0.5298 - accuracy: 0.7657 - val_loss: 0.8318 - val_accuracy: 0.5483\n"
          ],
          "name": "stdout"
        }
      ]
    },
    {
      "cell_type": "code",
      "metadata": {
        "id": "LNdVkVfWIXJV",
        "colab_type": "code",
        "colab": {}
      },
      "source": [
        "y_pred = dnn_model_predictor(dnn_classifier_balance, X_test_standardized)"
      ],
      "execution_count": 0,
      "outputs": []
    },
    {
      "cell_type": "code",
      "metadata": {
        "id": "bloeNfwZIfyc",
        "colab_type": "code",
        "colab": {
          "base_uri": "https://localhost:8080/",
          "height": 573
        },
        "outputId": "1be85a88-db25-4b4a-b8b9-a6cb95d4a568"
      },
      "source": [
        "train_analys(history)"
      ],
      "execution_count": 88,
      "outputs": [
        {
          "output_type": "display_data",
          "data": {
            "image/png": "[encoded data removed]",
            "text/plain": [
              "<Figure size 432x288 with 1 Axes>"
            ]
          },
          "metadata": {
            "tags": [],
            "needs_background": "light"
          }
        },
        {
          "output_type": "display_data",
          "data": {
            "image/png": "[encoded data removed]",
            "text/plain": [
              "<Figure size 432x288 with 1 Axes>"
            ]
          },
          "metadata": {
            "tags": [],
            "needs_background": "light"
          }
        }
      ]
    },
    {
      "cell_type": "code",
      "metadata": {
        "id": "OdTQ3SWeJgkf",
        "colab_type": "code",
        "colab": {
          "base_uri": "https://localhost:8080/",
          "height": 125
        },
        "outputId": "70b4d941-f417-4de2-9754-6161fdfaac26"
      },
      "source": [
        "compare(y_test, y_pred)"
      ],
      "execution_count": 89,
      "outputs": [
        {
          "output_type": "stream",
          "text": [
            "accuracy: 0.7891140970166249\n",
            "precision: 0.5825426944971537\n",
            "recall: 0.5581818181818182\n",
            "f1score: 0.5701021355617457\n",
            "confusion matrix: [[2851  440]\n",
            " [ 486  614]]\n"
          ],
          "name": "stdout"
        }
      ]
    },
    {
      "cell_type": "markdown",
      "metadata": {
        "id": "z1x7B_KmKsw1",
        "colab_type": "text"
      },
      "source": [
        "## conclusion"
      ]
    },
    {
      "cell_type": "markdown",
      "metadata": {
        "id": "V5ObMSAOKvx2",
        "colab_type": "text"
      },
      "source": [
        "It can be seen that the fscore has been improved after training our model on balanced data."
      ]
    }
  ]
}